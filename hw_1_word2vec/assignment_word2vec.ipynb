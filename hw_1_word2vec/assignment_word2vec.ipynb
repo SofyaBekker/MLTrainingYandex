{
 "cells": [
  {
   "cell_type": "markdown",
   "metadata": {
    "id": "nTSf4ro-qU0d"
   },
   "source": [
    "## Бонусное задание: word2vec на PyTorch\n",
    "\n",
    "Как вы уже могли заметить, идея, лежащая в основе [word2vec](https://arxiv.org/pdf/1310.4546), достаточно общая. В данном задании вы реализуете его самостоятельно.\n",
    "\n",
    "Дисклеймер: не стоит удивляться тому, что реализация от `gensim` (или аналоги) обучается быстрее и работает точнее. Она использует множество доработок и ускорений, а также достаточно эффективный код. Ваша задача добиться промежуточных результатов за разумное время.\n",
    "\n",
    "P.s. Как ни странно, GPU в этом задании нам не потребуется."
   ]
  },
  {
   "cell_type": "markdown",
   "metadata": {},
   "source": [
    "__Requirements:__ if you're running locally, in the selected environment run the following command:\n",
    "\n",
    "```pip install --upgrade nltk bokeh umap-learn```\n"
   ]
  },
  {
   "cell_type": "code",
   "execution_count": 1,
   "metadata": {
    "id": "Oipe2DU8qfm7"
   },
   "outputs": [
    {
     "name": "stdout",
     "output_type": "stream",
     "text": [
      "Requirement already satisfied: nltk in /home/s-bekker/anaconda3/envs/tf-gpu/lib/python3.12/site-packages (3.9.1)\n",
      "Requirement already satisfied: bokeh in /home/s-bekker/anaconda3/envs/tf-gpu/lib/python3.12/site-packages (3.6.0)\n",
      "Requirement already satisfied: umap-learn in /home/s-bekker/anaconda3/envs/tf-gpu/lib/python3.12/site-packages (0.5.6)\n",
      "Collecting umap-learn\n",
      "  Downloading umap_learn-0.5.7-py3-none-any.whl.metadata (21 kB)\n",
      "Requirement already satisfied: click in /home/s-bekker/anaconda3/envs/tf-gpu/lib/python3.12/site-packages (from nltk) (8.1.7)\n",
      "Requirement already satisfied: joblib in /home/s-bekker/anaconda3/envs/tf-gpu/lib/python3.12/site-packages (from nltk) (1.4.2)\n",
      "Requirement already satisfied: regex>=2021.8.3 in /home/s-bekker/anaconda3/envs/tf-gpu/lib/python3.12/site-packages (from nltk) (2024.9.11)\n",
      "Requirement already satisfied: tqdm in /home/s-bekker/anaconda3/envs/tf-gpu/lib/python3.12/site-packages (from nltk) (4.66.5)\n",
      "Requirement already satisfied: Jinja2>=2.9 in /home/s-bekker/anaconda3/envs/tf-gpu/lib/python3.12/site-packages (from bokeh) (3.1.4)\n",
      "Requirement already satisfied: contourpy>=1.2 in /home/s-bekker/anaconda3/envs/tf-gpu/lib/python3.12/site-packages (from bokeh) (1.3.0)\n",
      "Requirement already satisfied: numpy>=1.16 in /home/s-bekker/anaconda3/envs/tf-gpu/lib/python3.12/site-packages (from bokeh) (1.26.4)\n",
      "Requirement already satisfied: packaging>=16.8 in /home/s-bekker/anaconda3/envs/tf-gpu/lib/python3.12/site-packages (from bokeh) (24.1)\n",
      "Requirement already satisfied: pandas>=1.2 in /home/s-bekker/anaconda3/envs/tf-gpu/lib/python3.12/site-packages (from bokeh) (2.2.3)\n",
      "Requirement already satisfied: pillow>=7.1.0 in /home/s-bekker/anaconda3/envs/tf-gpu/lib/python3.12/site-packages (from bokeh) (11.0.0)\n",
      "Requirement already satisfied: PyYAML>=3.10 in /home/s-bekker/anaconda3/envs/tf-gpu/lib/python3.12/site-packages (from bokeh) (6.0.2)\n",
      "Requirement already satisfied: tornado>=6.2 in /home/s-bekker/anaconda3/envs/tf-gpu/lib/python3.12/site-packages (from bokeh) (6.4.1)\n",
      "Requirement already satisfied: xyzservices>=2021.09.1 in /home/s-bekker/anaconda3/envs/tf-gpu/lib/python3.12/site-packages (from bokeh) (2024.9.0)\n",
      "Requirement already satisfied: scipy>=1.3.1 in /home/s-bekker/anaconda3/envs/tf-gpu/lib/python3.12/site-packages (from umap-learn) (1.14.1)\n",
      "Requirement already satisfied: scikit-learn>=0.22 in /home/s-bekker/anaconda3/envs/tf-gpu/lib/python3.12/site-packages (from umap-learn) (1.5.2)\n",
      "Requirement already satisfied: numba>=0.51.2 in /home/s-bekker/anaconda3/envs/tf-gpu/lib/python3.12/site-packages (from umap-learn) (0.60.0)\n",
      "Requirement already satisfied: pynndescent>=0.5 in /home/s-bekker/anaconda3/envs/tf-gpu/lib/python3.12/site-packages (from umap-learn) (0.5.13)\n",
      "Requirement already satisfied: MarkupSafe>=2.0 in /home/s-bekker/anaconda3/envs/tf-gpu/lib/python3.12/site-packages (from Jinja2>=2.9->bokeh) (2.1.3)\n",
      "Requirement already satisfied: llvmlite<0.44,>=0.43.0dev0 in /home/s-bekker/anaconda3/envs/tf-gpu/lib/python3.12/site-packages (from numba>=0.51.2->umap-learn) (0.43.0)\n",
      "Requirement already satisfied: python-dateutil>=2.8.2 in /home/s-bekker/anaconda3/envs/tf-gpu/lib/python3.12/site-packages (from pandas>=1.2->bokeh) (2.9.0.post0)\n",
      "Requirement already satisfied: pytz>=2020.1 in /home/s-bekker/anaconda3/envs/tf-gpu/lib/python3.12/site-packages (from pandas>=1.2->bokeh) (2024.1)\n",
      "Requirement already satisfied: tzdata>=2022.7 in /home/s-bekker/anaconda3/envs/tf-gpu/lib/python3.12/site-packages (from pandas>=1.2->bokeh) (2024.2)\n",
      "Requirement already satisfied: threadpoolctl>=3.1.0 in /home/s-bekker/anaconda3/envs/tf-gpu/lib/python3.12/site-packages (from scikit-learn>=0.22->umap-learn) (3.5.0)\n",
      "Requirement already satisfied: six>=1.5 in /home/s-bekker/anaconda3/envs/tf-gpu/lib/python3.12/site-packages (from python-dateutil>=2.8.2->pandas>=1.2->bokeh) (1.16.0)\n",
      "Downloading umap_learn-0.5.7-py3-none-any.whl (88 kB)\n",
      "Installing collected packages: umap-learn\n",
      "  Attempting uninstall: umap-learn\n",
      "    Found existing installation: umap-learn 0.5.6\n",
      "    Uninstalling umap-learn-0.5.6:\n",
      "      Successfully uninstalled umap-learn-0.5.6\n",
      "Successfully installed umap-learn-0.5.7\n"
     ]
    }
   ],
   "source": [
    "!pip install --upgrade nltk bokeh umap-learn"
   ]
  },
  {
   "cell_type": "code",
   "execution_count": 1,
   "metadata": {
    "id": "pqPU4Lu2qU0h"
   },
   "outputs": [
    {
     "name": "stderr",
     "output_type": "stream",
     "text": [
      "2024-10-30 02:31:22.649457: E external/local_xla/xla/stream_executor/cuda/cuda_fft.cc:485] Unable to register cuFFT factory: Attempting to register factory for plugin cuFFT when one has already been registered\n",
      "2024-10-30 02:31:22.783225: E external/local_xla/xla/stream_executor/cuda/cuda_dnn.cc:8454] Unable to register cuDNN factory: Attempting to register factory for plugin cuDNN when one has already been registered\n",
      "2024-10-30 02:31:22.833412: E external/local_xla/xla/stream_executor/cuda/cuda_blas.cc:1452] Unable to register cuBLAS factory: Attempting to register factory for plugin cuBLAS when one has already been registered\n",
      "2024-10-30 02:31:23.978129: I tensorflow/core/platform/cpu_feature_guard.cc:210] This TensorFlow binary is optimized to use available CPU instructions in performance-critical operations.\n",
      "To enable the following instructions: SSE4.1 SSE4.2 AVX AVX2 FMA, in other operations, rebuild TensorFlow with the appropriate compiler flags.\n"
     ]
    }
   ],
   "source": [
    "import itertools\n",
    "import random\n",
    "import string\n",
    "from collections import Counter\n",
    "from itertools import chain\n",
    "\n",
    "import matplotlib.pyplot as plt\n",
    "import numpy as np\n",
    "import torch\n",
    "import torch.autograd as autograd\n",
    "import torch.nn as nn\n",
    "import torch.nn.functional as F\n",
    "import torch.optim as optim\n",
    "import umap\n",
    "from IPython.display import clear_output\n",
    "from matplotlib import pyplot as plt\n",
    "from nltk.tokenize import WordPunctTokenizer\n",
    "from torch.optim.lr_scheduler import ReduceLROnPlateau, StepLR\n",
    "from tqdm.auto import tqdm as tqdma"
   ]
  },
  {
   "cell_type": "code",
   "execution_count": 3,
   "metadata": {
    "colab": {
     "base_uri": "https://localhost:8080/"
    },
    "id": "8Fbx57z3qU0i",
    "outputId": "699ab6a7-41b9-402f-b842-039142bea06a"
   },
   "outputs": [
    {
     "name": "stdout",
     "output_type": "stream",
     "text": [
      "Файл ‘./quora.txt’ уже существует; не загружается.\n"
     ]
    }
   ],
   "source": [
    "# download the data:\n",
    "!wget https://www.dropbox.com/s/obaitrix9jyu84r/quora.txt?dl=1 -O ./quora.txt -nc\n",
    "# alternative download link: https://yadi.sk/i/BPQrUu1NaTduEw"
   ]
  },
  {
   "cell_type": "code",
   "execution_count": 2,
   "metadata": {
    "colab": {
     "base_uri": "https://localhost:8080/",
     "height": 37
    },
    "id": "8EYy5dQpqU0i",
    "outputId": "57a393d2-d5f5-4fa9-f46d-1b268d7798ae"
   },
   "outputs": [
    {
     "data": {
      "text/plain": [
       "\"What TV shows or books help you read people's body language?\\n\""
      ]
     },
     "execution_count": 2,
     "metadata": {},
     "output_type": "execute_result"
    }
   ],
   "source": [
    "data = list(open(\"./quora.txt\", encoding=\"utf-8\"))\n",
    "data[50]"
   ]
  },
  {
   "cell_type": "markdown",
   "metadata": {
    "id": "feBEGI2eqU0j"
   },
   "source": [
    "Токенизация – первый шаг.\n",
    "Тексты, с которыми мы работаем, включают в себя пунктуацию, смайлики и прочие нестандартные токены, так что простой `str.split` не подойдет.\n",
    "\n",
    "Обратимся к `nltk` - библиотеку, нашла широкое применеие в области NLP."
   ]
  },
  {
   "cell_type": "code",
   "execution_count": 3,
   "metadata": {
    "colab": {
     "base_uri": "https://localhost:8080/"
    },
    "id": "7mWTvm50qU0j",
    "outputId": "18272985-9762-4288-8457-76fa78a44d52"
   },
   "outputs": [
    {
     "name": "stdout",
     "output_type": "stream",
     "text": [
      "['What', 'TV', 'shows', 'or', 'books', 'help', 'you', 'read', 'people', \"'\", 's', 'body', 'language', '?']\n"
     ]
    }
   ],
   "source": [
    "tokenizer = WordPunctTokenizer()\n",
    "\n",
    "print(tokenizer.tokenize(data[50]))"
   ]
  },
  {
   "cell_type": "code",
   "execution_count": 4,
   "metadata": {
    "id": "HzC05EHWqU0j"
   },
   "outputs": [],
   "source": [
    "data_tok = [\n",
    "    tokenizer.tokenize(\n",
    "        line.translate(str.maketrans(\"\", \"\", string.punctuation)).lower()\n",
    "    )\n",
    "    for line in data\n",
    "]\n",
    "data_tok = [x for x in data_tok if len(x) >= 3]"
   ]
  },
  {
   "cell_type": "markdown",
   "metadata": {
    "id": "6azRAgHIqU0k"
   },
   "source": [
    "Несколько проверок:"
   ]
  },
  {
   "cell_type": "code",
   "execution_count": 5,
   "metadata": {
    "id": "Cp8UpxdWqU0k"
   },
   "outputs": [],
   "source": [
    "assert all(\n",
    "    isinstance(row, (list, tuple)) for row in data_tok\n",
    "), \"please convert each line into a list of tokens (strings)\"\n",
    "assert all(\n",
    "    all(isinstance(tok, str) for tok in row) for row in data_tok\n",
    "), \"please convert each line into a list of tokens (strings)\"\n",
    "is_latin = lambda tok: all(\"a\" <= x.lower() <= \"z\" for x in tok)\n",
    "assert all(\n",
    "    map(lambda l: not is_latin(l) or l.islower(), map(\" \".join, data_tok))\n",
    "), \"please make sure to lowercase the data\""
   ]
  },
  {
   "cell_type": "markdown",
   "metadata": {
    "id": "37e7-MIhqU0x"
   },
   "source": [
    "Ниже заданы константы ширины окна контекста и проведена предобработка для построения skip-gram модели."
   ]
  },
  {
   "cell_type": "code",
   "execution_count": 6,
   "metadata": {
    "id": "fugc1IomqU0x"
   },
   "outputs": [],
   "source": [
    "min_count = 5\n",
    "window_radius = 5"
   ]
  },
  {
   "cell_type": "code",
   "execution_count": 7,
   "metadata": {},
   "outputs": [],
   "source": [
    "vocabulary_with_counter = Counter(chain.from_iterable(data_tok))\n",
    "\n",
    "word_count_dict = dict()\n",
    "for word, counter in vocabulary_with_counter.items():\n",
    "    if counter >= min_count:\n",
    "        word_count_dict[word] = counter\n",
    "\n",
    "vocabulary = set(word_count_dict.keys())\n",
    "del vocabulary_with_counter"
   ]
  },
  {
   "cell_type": "code",
   "execution_count": 8,
   "metadata": {},
   "outputs": [],
   "source": [
    "word_to_index = {word: index for index, word in enumerate(vocabulary)}\n",
    "index_to_word = {index: word for word, index in word_to_index.items()}"
   ]
  },
  {
   "cell_type": "markdown",
   "metadata": {
    "id": "4Y8rlBfqqU0x"
   },
   "source": [
    "Пары `(слово, контекст)` на основе доступного датасета сгенерированы ниже."
   ]
  },
  {
   "cell_type": "code",
   "execution_count": 9,
   "metadata": {
    "id": "h2-aqyyaqU0x"
   },
   "outputs": [
    {
     "name": "stdout",
     "output_type": "stream",
     "text": [
      "Generated 40220313 pairs of target and context words.\n"
     ]
    }
   ],
   "source": [
    "context_pairs = []\n",
    "\n",
    "for text in data_tok:\n",
    "    for i, central_word in enumerate(text):\n",
    "        context_indices = range(\n",
    "            max(0, i - window_radius), min(i + window_radius, len(text))\n",
    "        )\n",
    "        for j in context_indices:\n",
    "            if j == i:\n",
    "                continue\n",
    "            context_word = text[j]\n",
    "            if central_word in vocabulary and context_word in vocabulary:\n",
    "                context_pairs.append(\n",
    "                    (word_to_index[central_word], word_to_index[context_word])\n",
    "                )\n",
    "\n",
    "print(f\"Generated {len(context_pairs)} pairs of target and context words.\")"
   ]
  },
  {
   "cell_type": "markdown",
   "metadata": {},
   "source": [
    "#### Подзадача №1: subsampling\n",
    "Для того, чтобы сгладить разницу в частоте встречаемсости слов, необходимо реализовать механизм subsampling'а.\n",
    "Для этого вам необходимо реализовать функцию ниже.\n",
    "\n",
    "Вероятность **исключить** слово из обучения (на фиксированном шаге) вычисляется как\n",
    "$$\n",
    "P_\\text{drop}(w_i)=1 - \\sqrt{\\frac{t}{f(w_i)}},\n",
    "$$\n",
    "где $f(w_i)$ – нормированная частота встречаемости слова, а $t$ – заданный порог (threshold)."
   ]
  },
  {
   "cell_type": "code",
   "execution_count": 10,
   "metadata": {},
   "outputs": [],
   "source": [
    "def subsample_frequent_words(word_count_dict, threshold=1e-5):\n",
    "    \"\"\"\n",
    "    Calculates the subsampling probabilities for words based on their frequencies.\n",
    "\n",
    "    This function is used to determine the probability of keeping a word in the dataset\n",
    "    when subsampling frequent words. The method used is inspired by the subsampling approach\n",
    "    in Word2Vec, where each word's frequency affects its probability of being kept.\n",
    "\n",
    "    Parameters:\n",
    "    - word_count_dict (dict): A dictionary where keys are words and values are the counts of those words.\n",
    "    - threshold (float, optional): A threshold parameter used to adjust the frequency of word subsampling.\n",
    "                                   Defaults to 1e-5.\n",
    "\n",
    "    Returns:\n",
    "    - dict: A dictionary where keys are words and values are the probabilities of keeping each word.\n",
    "\n",
    "    Example:\n",
    "    >>> word_counts = {'the': 5000, 'is': 1000, 'apple': 50}\n",
    "    >>> subsample_frequent_words(word_counts)\n",
    "    {'the': 0.028, 'is': 0.223, 'apple': 1.0}\n",
    "    \"\"\"\n",
    "\n",
    "    total = sum(word_count_dict.values())\n",
    "    \n",
    "    keep_prob_dict = {\n",
    "        word: (threshold / (word_count_dict[word] / total) ) ** 0.5 for word in word_count_dict.keys()\n",
    "    }  \n",
    "    return keep_prob_dict"
   ]
  },
  {
   "cell_type": "code",
   "execution_count": 11,
   "metadata": {},
   "outputs": [
    {
     "data": {
      "text/plain": [
       "{'the': 0.0034785054261852176,\n",
       " 'is': 0.007778174593052023,\n",
       " 'apple': 0.034785054261852175}"
      ]
     },
     "execution_count": 11,
     "metadata": {},
     "output_type": "execute_result"
    }
   ],
   "source": [
    "word_counts = {'the': 5000, 'is': 1000, 'apple': 50}\n",
    "subsample_frequent_words(word_counts)"
   ]
  },
  {
   "cell_type": "markdown",
   "metadata": {},
   "source": [
    "#### Подзадача №2: negative sampling\n",
    "Для более эффективного обучения необходимо не только предсказывать высокие вероятности для слов из контекста, но и предсказывать низкие для слов, не встреченных в контексте. Для этого вам необходимо вычислить вероятност использовать слово в качестве negative sample, реализовав функцию ниже.\n",
    "\n",
    "В оригинальной статье предлагается оценивать вероятность слов выступать в качестве negative sample согласно распределению $P_n(w)$\n",
    "$$\n",
    "P_n(w) = \\frac{U(w)^{3/4}}{Z},\n",
    "$$\n",
    "\n",
    "где $U(w)$ распределение слов по частоте (или, как его еще называют, по униграммам), а $Z$ – нормировочная константа, чтобы общая мера была равна $1$."
   ]
  },
  {
   "cell_type": "code",
   "execution_count": 12,
   "metadata": {},
   "outputs": [],
   "source": [
    "def get_negative_sampling_prob(word_count_dict):\n",
    "    \"\"\"\n",
    "    Calculates the negative sampling probabilities for words based on their frequencies.\n",
    "\n",
    "    This function adjusts the frequency of each word raised to the power of 0.75, which is\n",
    "    commonly used in algorithms like Word2Vec to moderate the influence of very frequent words.\n",
    "    It then normalizes these adjusted frequencies to ensure they sum to 1, forming a probability\n",
    "    distribution used for negative sampling.\n",
    "\n",
    "    Parameters:\n",
    "    - word_count_dict (dict): A dictionary where keys are words and values are the counts of those words.\n",
    "\n",
    "    Returns:\n",
    "    - dict: A dictionary where keys are words and values are the probabilities of selecting each word\n",
    "            for negative sampling.\n",
    "\n",
    "    Example:\n",
    "    >>> word_counts = {'the': 5000, 'is': 1000, 'apple': 50}\n",
    "    >>> get_negative_sampling_prob(word_counts)\n",
    "    {'the': 0.298, 'is': 0.160, 'apple': 0.042}\n",
    "    \"\"\"\n",
    "\n",
    "    total = sum(word_count_dict.values())\n",
    "    unigrams = {\n",
    "        word: (word_count_dict[word] / total) ** 0.75 for word in word_count_dict.keys()\n",
    "    }\n",
    "    Z = sum(unigrams.values())\n",
    "    \n",
    "    negative_sampling_prob_dict = {\n",
    "        word: unigrams[word] / Z for word in word_count_dict.keys()\n",
    "    }  \n",
    "    return negative_sampling_prob_dict"
   ]
  },
  {
   "cell_type": "code",
   "execution_count": 13,
   "metadata": {},
   "outputs": [
    {
     "data": {
      "text/plain": [
       "{'the': 0.751488398196177,\n",
       " 'is': 0.22474745206890812,\n",
       " 'apple': 0.023764149734914898}"
      ]
     },
     "execution_count": 13,
     "metadata": {},
     "output_type": "execute_result"
    }
   ],
   "source": [
    "word_counts = {'the': 5000, 'is': 1000, 'apple': 50}\n",
    "get_negative_sampling_prob(word_counts)"
   ]
  },
  {
   "cell_type": "markdown",
   "metadata": {},
   "source": [
    "Для удобства, преобразуем полученные словари в массивы (т.к. все слова все равно уже пронумерованы)."
   ]
  },
  {
   "cell_type": "code",
   "execution_count": 14,
   "metadata": {},
   "outputs": [],
   "source": [
    "keep_prob_dict = subsample_frequent_words(word_count_dict)\n",
    "assert keep_prob_dict.keys() == word_count_dict.keys()"
   ]
  },
  {
   "cell_type": "code",
   "execution_count": 15,
   "metadata": {},
   "outputs": [],
   "source": [
    "negative_sampling_prob_dict = get_negative_sampling_prob(word_count_dict)\n",
    "assert negative_sampling_prob_dict.keys() == negative_sampling_prob_dict.keys()\n",
    "assert np.allclose(sum(negative_sampling_prob_dict.values()), 1)"
   ]
  },
  {
   "cell_type": "code",
   "execution_count": 16,
   "metadata": {},
   "outputs": [],
   "source": [
    "keep_prob_array = np.array(\n",
    "    [keep_prob_dict[index_to_word[idx]] for idx in range(len(word_to_index))]\n",
    ")\n",
    "negative_sampling_prob_array = np.array(\n",
    "    [\n",
    "        negative_sampling_prob_dict[index_to_word[idx]]\n",
    "        for idx in range(len(word_to_index))\n",
    "    ]\n",
    ")"
   ]
  },
  {
   "cell_type": "markdown",
   "metadata": {},
   "source": [
    "Если все прошло успешно, функция ниже поможет вам с генерацией подвыборок (батчей)."
   ]
  },
  {
   "cell_type": "code",
   "execution_count": 17,
   "metadata": {},
   "outputs": [],
   "source": [
    "def generate_batch_with_neg_samples(\n",
    "    context_pairs,\n",
    "    batch_size,\n",
    "    keep_prob_array,\n",
    "    word_to_index,\n",
    "    num_negatives,\n",
    "    negative_sampling_prob_array,\n",
    "):\n",
    "    batch = []\n",
    "    neg_samples = []\n",
    "\n",
    "    while len(batch) < batch_size:\n",
    "        center, context = random.choice(context_pairs)\n",
    "        if random.random() < keep_prob_array[center]:\n",
    "            batch.append((center, context))\n",
    "            neg_sample = np.random.choice(\n",
    "                range(len(negative_sampling_prob_array)),\n",
    "                size=num_negatives,\n",
    "                p=negative_sampling_prob_array,\n",
    "            )\n",
    "            neg_samples.append(neg_sample)\n",
    "    batch = np.array(batch)\n",
    "    neg_samples = np.vstack(neg_samples)\n",
    "    return batch, neg_samples"
   ]
  },
  {
   "cell_type": "code",
   "execution_count": 22,
   "metadata": {},
   "outputs": [],
   "source": [
    "batch_size = 4\n",
    "num_negatives = 15\n",
    "batch, neg_samples = generate_batch_with_neg_samples(\n",
    "    context_pairs,\n",
    "    batch_size,\n",
    "    keep_prob_array,\n",
    "    word_to_index,\n",
    "    num_negatives,\n",
    "    negative_sampling_prob_array,\n",
    ")"
   ]
  },
  {
   "cell_type": "code",
   "execution_count": null,
   "metadata": {},
   "outputs": [],
   "source": []
  },
  {
   "cell_type": "markdown",
   "metadata": {},
   "source": [
    "Наконец, время реализовать модель. Обращаем ваше внимание, использование линейных слоев (`nn.Linear`) далеко не всегда оправданно!\n",
    "\n",
    "Напомним, что в случае negative sampling решается задача максимизации следующего функционала:\n",
    "\n",
    "$$\n",
    "\\mathcal{L} = \\log \\sigma({\\mathbf{v}'_{w_O}}^\\top \\mathbf{v}_{w_I}) + \\sum_{i=1}^{k} \\mathbb{E}_{w_i \\sim P_n(w)} \\left[ \\log \\sigma({-\\mathbf{v}'_{w_i}}^\\top \\mathbf{v}_{w_I}) \\right],\n",
    "$$\n",
    "\n",
    "где:\n",
    "- $\\mathbf{v}_{w_I}$ – вектор центрального слова $w_I$,\n",
    "- $\\mathbf{v}'_{w_O}$ – вектор слова из контекста $w_O$,\n",
    "- $k$ – число negative samplesЮ,\n",
    "- $P_n(w)$ – распределение negative samples, заданное выше,\n",
    "- $\\sigma$ – сигмоида."
   ]
  },
  {
   "cell_type": "code",
   "execution_count": 18,
   "metadata": {},
   "outputs": [],
   "source": [
    "class SkipGramModelWithNegSampling(nn.Module):\n",
    "    def __init__(self, vocab_size, embedding_dim):\n",
    "        super().__init__()\n",
    "        self.center_embeddings = nn.Embedding(vocab_size, embedding_dim)\n",
    "        self.context_embeddings = nn.Embedding(vocab_size, embedding_dim)\n",
    "\n",
    "    def forward(self, center_words, pos_context_words, neg_context_words):\n",
    "        v_I = self.center_embeddings(center_words)\n",
    "        v_O = self.context_embeddings(pos_context_words)\n",
    "        v_n = self.context_embeddings(neg_context_words)\n",
    "        \n",
    "        pos_scores = torch.sum(v_O * v_I, dim=1)\n",
    "        neg_scores = torch.sum(v_I.unsqueeze(1) * v_n, dim=2)\n",
    "\n",
    "        return pos_scores, neg_scores"
   ]
  },
  {
   "cell_type": "code",
   "execution_count": 19,
   "metadata": {},
   "outputs": [],
   "source": [
    "device = torch.device(\"cpu\")"
   ]
  },
  {
   "cell_type": "code",
   "execution_count": 20,
   "metadata": {},
   "outputs": [],
   "source": [
    "vocab_size = len(word_to_index)\n",
    "embedding_dim = 32\n",
    "num_negatives = 30\n",
    "\n",
    "model = SkipGramModelWithNegSampling(vocab_size, embedding_dim).to(device)\n",
    "optimizer = optim.Adam(model.parameters(), lr=0.05)\n",
    "lr_scheduler = ReduceLROnPlateau(optimizer, factor=0.5, patience=150)\n",
    "criterion = nn.BCEWithLogitsLoss()"
   ]
  },
  {
   "cell_type": "code",
   "execution_count": 21,
   "metadata": {},
   "outputs": [],
   "source": [
    "params_counter = 0\n",
    "for weights in model.parameters():\n",
    "    params_counter += weights.shape.numel()\n",
    "assert params_counter == len(word_to_index) * embedding_dim * 2"
   ]
  },
  {
   "cell_type": "code",
   "execution_count": 22,
   "metadata": {},
   "outputs": [],
   "source": [
    "def train_skipgram_with_neg_sampling(\n",
    "    model,\n",
    "    context_pairs,\n",
    "    keep_prob_array,\n",
    "    word_to_index,\n",
    "    batch_size,\n",
    "    num_negatives,\n",
    "    negative_sampling_prob_array,\n",
    "    steps,\n",
    "    optimizer=optimizer,\n",
    "    lr_scheduler=lr_scheduler,\n",
    "    device=device,\n",
    "):\n",
    "    pos_labels = torch.ones(batch_size).to(device)\n",
    "    neg_labels = torch.zeros(batch_size, num_negatives).to(device)\n",
    "    loss_history = []\n",
    "    for step in tqdma(range(steps)):\n",
    "        batch, neg_samples = generate_batch_with_neg_samples(\n",
    "            context_pairs,\n",
    "            batch_size,\n",
    "            keep_prob_array,\n",
    "            word_to_index,\n",
    "            num_negatives,\n",
    "            negative_sampling_prob_array,\n",
    "        )\n",
    "        center_words = torch.tensor([pair[0] for pair in batch], dtype=torch.long).to(\n",
    "            device\n",
    "        )\n",
    "        pos_context_words = torch.tensor(\n",
    "            [pair[1] for pair in batch], dtype=torch.long\n",
    "        ).to(device)\n",
    "        neg_context_words = torch.tensor(neg_samples, dtype=torch.long).to(device)\n",
    "\n",
    "        optimizer.zero_grad()\n",
    "        pos_scores, neg_scores = model(\n",
    "            center_words, pos_context_words, neg_context_words\n",
    "        )\n",
    "\n",
    "        loss_pos = criterion(pos_scores, pos_labels)\n",
    "        loss_neg = criterion(neg_scores, neg_labels)\n",
    "\n",
    "        loss = loss_pos + loss_neg\n",
    "        loss.backward()\n",
    "        optimizer.step()\n",
    "\n",
    "        loss_history.append(loss.item())\n",
    "        lr_scheduler.step(loss_history[-1])\n",
    "\n",
    "        if step % 100 == 0:\n",
    "            print(\n",
    "                f\"Step {step}, Loss: {np.mean(loss_history[-100:])}, learning rate: {lr_scheduler._last_lr}\"\n",
    "            )"
   ]
  },
  {
   "cell_type": "code",
   "execution_count": 23,
   "metadata": {},
   "outputs": [
    {
     "data": {
      "application/vnd.jupyter.widget-view+json": {
       "model_id": "a8617714e51f47cfa03467d488523f59",
       "version_major": 2,
       "version_minor": 0
      },
      "text/plain": [
       "  0%|          | 0/500 [00:00<?, ?it/s]"
      ]
     },
     "metadata": {},
     "output_type": "display_data"
    },
    {
     "name": "stdout",
     "output_type": "stream",
     "text": [
      "Step 0, Loss: 4.70559024810791, learning rate: [0.05]\n",
      "Step 100, Loss: 2.442828691005707, learning rate: [0.05]\n",
      "Step 200, Loss: 1.5002056777477264, learning rate: [0.05]\n",
      "Step 300, Loss: 1.3949371206760406, learning rate: [0.05]\n",
      "Step 400, Loss: 1.3505773806571961, learning rate: [0.05]\n"
     ]
    }
   ],
   "source": [
    "steps = 500\n",
    "batch_size = 5000\n",
    "train_skipgram_with_neg_sampling(\n",
    "    model,\n",
    "    context_pairs,\n",
    "    keep_prob_array,\n",
    "    word_to_index,\n",
    "    batch_size,\n",
    "    num_negatives,\n",
    "    negative_sampling_prob_array,\n",
    "    steps,\n",
    ")"
   ]
  },
  {
   "cell_type": "markdown",
   "metadata": {},
   "source": [
    "Наконец, используйте полученную матрицу весов в качестве матрицы в векторными представлениями слов. Рекомендуем использовать для сдачи матрицу, которая отвечала за слова из контекста (т.е. декодера)."
   ]
  },
  {
   "cell_type": "code",
   "execution_count": 24,
   "metadata": {},
   "outputs": [],
   "source": [
    "_model_parameters = model.parameters()\n",
    "embedding_matrix_center = next(\n",
    "    _model_parameters\n",
    ").detach()  # Assuming that first matrix was for central word\n",
    "embedding_matrix_context = next(\n",
    "    _model_parameters\n",
    ").detach()  # Assuming that second matrix was for context word"
   ]
  },
  {
   "cell_type": "code",
   "execution_count": 25,
   "metadata": {},
   "outputs": [],
   "source": [
    "def get_word_vector(word, embedding_matrix, word_to_index=word_to_index):\n",
    "    return embedding_matrix[word_to_index[word]]"
   ]
  },
  {
   "cell_type": "markdown",
   "metadata": {},
   "source": [
    "Простые проверки:"
   ]
  },
  {
   "cell_type": "code",
   "execution_count": 26,
   "metadata": {},
   "outputs": [],
   "source": [
    "similarity_1 = F.cosine_similarity(\n",
    "    get_word_vector(\"iphone\", embedding_matrix_context)[None, :],\n",
    "    get_word_vector(\"apple\", embedding_matrix_context)[None, :],\n",
    ")\n",
    "similarity_2 = F.cosine_similarity(\n",
    "    get_word_vector(\"iphone\", embedding_matrix_context)[None, :],\n",
    "    get_word_vector(\"dell\", embedding_matrix_context)[None, :],\n",
    ")\n",
    "assert similarity_1 > similarity_2"
   ]
  },
  {
   "cell_type": "code",
   "execution_count": 27,
   "metadata": {},
   "outputs": [
    {
     "ename": "AssertionError",
     "evalue": "",
     "output_type": "error",
     "traceback": [
      "\u001b[0;31m---------------------------------------------------------------------------\u001b[0m",
      "\u001b[0;31mAssertionError\u001b[0m                            Traceback (most recent call last)",
      "Cell \u001b[0;32mIn[27], line 9\u001b[0m\n\u001b[1;32m      1\u001b[0m similarity_1 \u001b[38;5;241m=\u001b[39m F\u001b[38;5;241m.\u001b[39mcosine_similarity(\n\u001b[1;32m      2\u001b[0m     get_word_vector(\u001b[38;5;124m\"\u001b[39m\u001b[38;5;124mwindows\u001b[39m\u001b[38;5;124m\"\u001b[39m, embedding_matrix_context)[\u001b[38;5;28;01mNone\u001b[39;00m, :],\n\u001b[1;32m      3\u001b[0m     get_word_vector(\u001b[38;5;124m\"\u001b[39m\u001b[38;5;124mlaptop\u001b[39m\u001b[38;5;124m\"\u001b[39m, embedding_matrix_context)[\u001b[38;5;28;01mNone\u001b[39;00m, :],\n\u001b[1;32m      4\u001b[0m )\n\u001b[1;32m      5\u001b[0m similarity_2 \u001b[38;5;241m=\u001b[39m F\u001b[38;5;241m.\u001b[39mcosine_similarity(\n\u001b[1;32m      6\u001b[0m     get_word_vector(\u001b[38;5;124m\"\u001b[39m\u001b[38;5;124mwindows\u001b[39m\u001b[38;5;124m\"\u001b[39m, embedding_matrix_context)[\u001b[38;5;28;01mNone\u001b[39;00m, :],\n\u001b[1;32m      7\u001b[0m     get_word_vector(\u001b[38;5;124m\"\u001b[39m\u001b[38;5;124mmacbook\u001b[39m\u001b[38;5;124m\"\u001b[39m, embedding_matrix_context)[\u001b[38;5;28;01mNone\u001b[39;00m, :],\n\u001b[1;32m      8\u001b[0m )\n\u001b[0;32m----> 9\u001b[0m \u001b[38;5;28;01massert\u001b[39;00m similarity_1 \u001b[38;5;241m>\u001b[39m similarity_2\n",
      "\u001b[0;31mAssertionError\u001b[0m: "
     ]
    }
   ],
   "source": [
    "similarity_1 = F.cosine_similarity(\n",
    "    get_word_vector(\"windows\", embedding_matrix_context)[None, :],\n",
    "    get_word_vector(\"laptop\", embedding_matrix_context)[None, :],\n",
    ")\n",
    "similarity_2 = F.cosine_similarity(\n",
    "    get_word_vector(\"windows\", embedding_matrix_context)[None, :],\n",
    "    get_word_vector(\"macbook\", embedding_matrix_context)[None, :],\n",
    ")\n",
    "assert similarity_1 > similarity_2"
   ]
  },
  {
   "cell_type": "markdown",
   "metadata": {},
   "source": [
    "Наконец, взглянем на ближайшие по косинусной мере слова. Функция реализована ниже."
   ]
  },
  {
   "cell_type": "code",
   "execution_count": 28,
   "metadata": {
    "id": "dA0V6rOYtsLk"
   },
   "outputs": [],
   "source": [
    "def find_nearest(word, embedding_matrix, word_to_index=word_to_index, k=10):\n",
    "    word_vector = get_word_vector(word, embedding_matrix)[None, :]\n",
    "    dists = F.cosine_similarity(embedding_matrix, word_vector)\n",
    "    index_sorted = torch.argsort(dists)\n",
    "    top_k = index_sorted[-k:]\n",
    "    return [(index_to_word[x], dists[x].item()) for x in top_k.numpy()]"
   ]
  },
  {
   "cell_type": "code",
   "execution_count": 29,
   "metadata": {},
   "outputs": [
    {
     "data": {
      "text/plain": [
       "[('chronograph', 0.6809438467025757),\n",
       " ('arouse', 0.6815319657325745),\n",
       " ('rosa', 0.6973733305931091),\n",
       " ('industrialization', 0.7002047896385193),\n",
       " ('steamed', 0.706747829914093),\n",
       " ('tool', 0.7077449560165405),\n",
       " ('digital', 0.7106621265411377),\n",
       " ('screenplay', 0.7172250151634216),\n",
       " ('gui', 0.734635591506958),\n",
       " ('python', 1.0)]"
      ]
     },
     "execution_count": 29,
     "metadata": {},
     "output_type": "execute_result"
    }
   ],
   "source": [
    "find_nearest(\"python\", embedding_matrix_context, k=10)"
   ]
  },
  {
   "cell_type": "markdown",
   "metadata": {},
   "source": [
    "Также вы можете визуально проверить, как представлены в латентном пространстве часто встречающиеся слова."
   ]
  },
  {
   "cell_type": "code",
   "execution_count": 30,
   "metadata": {},
   "outputs": [],
   "source": [
    "top_k = 5000\n",
    "_top_words = sorted([x for x in word_count_dict.items()], key=lambda x: x[1])[\n",
    "    -top_k - 100 : -100\n",
    "]  # ignoring 100 most frequent words\n",
    "top_words = [x[0] for x in _top_words]\n",
    "del _top_words"
   ]
  },
  {
   "cell_type": "code",
   "execution_count": 31,
   "metadata": {},
   "outputs": [],
   "source": [
    "word_embeddings = torch.cat(\n",
    "    [embedding_matrix_context[word_to_index[x]][None, :] for x in top_words], dim=0\n",
    ").numpy()"
   ]
  },
  {
   "cell_type": "code",
   "execution_count": 32,
   "metadata": {
    "scrolled": true
   },
   "outputs": [
    {
     "data": {
      "text/html": [
       "    <style>\n",
       "        .bk-notebook-logo {\n",
       "            display: block;\n",
       "            width: 20px;\n",
       "            height: 20px;\n",
       "            background-image: url(data:image/png;base64,iVBORw0KGgoAAAANSUhEUgAAABQAAAAUCAYAAACNiR0NAAAABHNCSVQICAgIfAhkiAAAAAlwSFlzAAALEgAACxIB0t1+/AAAABx0RVh0U29mdHdhcmUAQWRvYmUgRmlyZXdvcmtzIENTNui8sowAAAOkSURBVDiNjZRtaJVlGMd/1/08zzln5zjP1LWcU9N0NkN8m2CYjpgQYQXqSs0I84OLIC0hkEKoPtiH3gmKoiJDU7QpLgoLjLIQCpEsNJ1vqUOdO7ppbuec5+V+rj4ctwzd8IIbbi6u+8f1539dt3A78eXC7QizUF7gyV1fD1Yqg4JWz84yffhm0qkFqBogB9rM8tZdtwVsPUhWhGcFJngGeWrPzHm5oaMmkfEg1usvLFyc8jLRqDOMru7AyC8saQr7GG7f5fvDeH7Ej8CM66nIF+8yngt6HWaKh7k49Soy9nXurCi1o3qUbS3zWfrYeQDTB/Qj6kX6Ybhw4B+bOYoLKCC9H3Nu/leUTZ1JdRWkkn2ldcCamzrcf47KKXdAJllSlxAOkRgyHsGC/zRday5Qld9DyoM4/q/rUoy/CXh3jzOu3bHUVZeU+DEn8FInkPBFlu3+nW3Nw0mk6vCDiWg8CeJaxEwuHS3+z5RgY+YBR6V1Z1nxSOfoaPa4LASWxxdNp+VWTk7+4vzaou8v8PN+xo+KY2xsw6une2frhw05CTYOmQvsEhjhWjn0bmXPjpE1+kplmmkP3suftwTubK9Vq22qKmrBhpY4jvd5afdRA3wGjFAgcnTK2s4hY0/GPNIb0nErGMCRxWOOX64Z8RAC4oCXdklmEvcL8o0BfkNK4lUg9HTl+oPlQxdNo3Mg4Nv175e/1LDGzZen30MEjRUtmXSfiTVu1kK8W4txyV6BMKlbgk3lMwYCiusNy9fVfvvwMxv8Ynl6vxoByANLTWplvuj/nF9m2+PDtt1eiHPBr1oIfhCChQMBw6Aw0UulqTKZdfVvfG7VcfIqLG9bcldL/+pdWTLxLUy8Qq38heUIjh4XlzZxzQm19lLFlr8vdQ97rjZVOLf8nclzckbcD4wxXMidpX30sFd37Fv/GtwwhzhxGVAprjbg0gCAEeIgwCZyTV2Z1REEW8O4py0wsjeloKoMr6iCY6dP92H6Vw/oTyICIthibxjm/DfN9lVz8IqtqKYLUXfoKVMVQVVJOElGjrnnUt9T9wbgp8AyYKaGlqingHZU/uG2NTZSVqwHQTWkx9hxjkpWDaCg6Ckj5qebgBVbT3V3NNXMSiWSDdGV3hrtzla7J+duwPOToIg42ChPQOQjspnSlp1V+Gjdged7+8UN5CRAV7a5EdFNwCjEaBR27b3W890TE7g24NAP/mMDXRWrGoFPQI9ls/MWO2dWFAar/xcOIImbbpA3zgAAAABJRU5ErkJggg==);\n",
       "        }\n",
       "    </style>\n",
       "    <div>\n",
       "        <a href=\"https://bokeh.org\" target=\"_blank\" class=\"bk-notebook-logo\"></a>\n",
       "        <span id=\"c81a93c3-d9dd-4e3e-9a02-7ba7e1fcb2de\">Loading BokehJS ...</span>\n",
       "    </div>\n"
      ]
     },
     "metadata": {},
     "output_type": "display_data"
    },
    {
     "data": {
      "application/javascript": [
       "'use strict';\n",
       "(function(root) {\n",
       "  function now() {\n",
       "    return new Date();\n",
       "  }\n",
       "\n",
       "  const force = true;\n",
       "\n",
       "  if (typeof root._bokeh_onload_callbacks === \"undefined\" || force === true) {\n",
       "    root._bokeh_onload_callbacks = [];\n",
       "    root._bokeh_is_loading = undefined;\n",
       "  }\n",
       "\n",
       "const JS_MIME_TYPE = 'application/javascript';\n",
       "  const HTML_MIME_TYPE = 'text/html';\n",
       "  const EXEC_MIME_TYPE = 'application/vnd.bokehjs_exec.v0+json';\n",
       "  const CLASS_NAME = 'output_bokeh rendered_html';\n",
       "\n",
       "  /**\n",
       "   * Render data to the DOM node\n",
       "   */\n",
       "  function render(props, node) {\n",
       "    const script = document.createElement(\"script\");\n",
       "    node.appendChild(script);\n",
       "  }\n",
       "\n",
       "  /**\n",
       "   * Handle when an output is cleared or removed\n",
       "   */\n",
       "  function handleClearOutput(event, handle) {\n",
       "    function drop(id) {\n",
       "      const view = Bokeh.index.get_by_id(id)\n",
       "      if (view != null) {\n",
       "        view.model.document.clear()\n",
       "        Bokeh.index.delete(view)\n",
       "      }\n",
       "    }\n",
       "\n",
       "    const cell = handle.cell;\n",
       "\n",
       "    const id = cell.output_area._bokeh_element_id;\n",
       "    const server_id = cell.output_area._bokeh_server_id;\n",
       "\n",
       "    // Clean up Bokeh references\n",
       "    if (id != null) {\n",
       "      drop(id)\n",
       "    }\n",
       "\n",
       "    if (server_id !== undefined) {\n",
       "      // Clean up Bokeh references\n",
       "      const cmd_clean = \"from bokeh.io.state import curstate; print(curstate().uuid_to_server['\" + server_id + \"'].get_sessions()[0].document.roots[0]._id)\";\n",
       "      cell.notebook.kernel.execute(cmd_clean, {\n",
       "        iopub: {\n",
       "          output: function(msg) {\n",
       "            const id = msg.content.text.trim()\n",
       "            drop(id)\n",
       "          }\n",
       "        }\n",
       "      });\n",
       "      // Destroy server and session\n",
       "      const cmd_destroy = \"import bokeh.io.notebook as ion; ion.destroy_server('\" + server_id + \"')\";\n",
       "      cell.notebook.kernel.execute(cmd_destroy);\n",
       "    }\n",
       "  }\n",
       "\n",
       "  /**\n",
       "   * Handle when a new output is added\n",
       "   */\n",
       "  function handleAddOutput(event, handle) {\n",
       "    const output_area = handle.output_area;\n",
       "    const output = handle.output;\n",
       "\n",
       "    // limit handleAddOutput to display_data with EXEC_MIME_TYPE content only\n",
       "    if ((output.output_type != \"display_data\") || (!Object.prototype.hasOwnProperty.call(output.data, EXEC_MIME_TYPE))) {\n",
       "      return\n",
       "    }\n",
       "\n",
       "    const toinsert = output_area.element.find(\".\" + CLASS_NAME.split(' ')[0]);\n",
       "\n",
       "    if (output.metadata[EXEC_MIME_TYPE][\"id\"] !== undefined) {\n",
       "      toinsert[toinsert.length - 1].firstChild.textContent = output.data[JS_MIME_TYPE];\n",
       "      // store reference to embed id on output_area\n",
       "      output_area._bokeh_element_id = output.metadata[EXEC_MIME_TYPE][\"id\"];\n",
       "    }\n",
       "    if (output.metadata[EXEC_MIME_TYPE][\"server_id\"] !== undefined) {\n",
       "      const bk_div = document.createElement(\"div\");\n",
       "      bk_div.innerHTML = output.data[HTML_MIME_TYPE];\n",
       "      const script_attrs = bk_div.children[0].attributes;\n",
       "      for (let i = 0; i < script_attrs.length; i++) {\n",
       "        toinsert[toinsert.length - 1].firstChild.setAttribute(script_attrs[i].name, script_attrs[i].value);\n",
       "        toinsert[toinsert.length - 1].firstChild.textContent = bk_div.children[0].textContent\n",
       "      }\n",
       "      // store reference to server id on output_area\n",
       "      output_area._bokeh_server_id = output.metadata[EXEC_MIME_TYPE][\"server_id\"];\n",
       "    }\n",
       "  }\n",
       "\n",
       "  function register_renderer(events, OutputArea) {\n",
       "\n",
       "    function append_mime(data, metadata, element) {\n",
       "      // create a DOM node to render to\n",
       "      const toinsert = this.create_output_subarea(\n",
       "        metadata,\n",
       "        CLASS_NAME,\n",
       "        EXEC_MIME_TYPE\n",
       "      );\n",
       "      this.keyboard_manager.register_events(toinsert);\n",
       "      // Render to node\n",
       "      const props = {data: data, metadata: metadata[EXEC_MIME_TYPE]};\n",
       "      render(props, toinsert[toinsert.length - 1]);\n",
       "      element.append(toinsert);\n",
       "      return toinsert\n",
       "    }\n",
       "\n",
       "    /* Handle when an output is cleared or removed */\n",
       "    events.on('clear_output.CodeCell', handleClearOutput);\n",
       "    events.on('delete.Cell', handleClearOutput);\n",
       "\n",
       "    /* Handle when a new output is added */\n",
       "    events.on('output_added.OutputArea', handleAddOutput);\n",
       "\n",
       "    /**\n",
       "     * Register the mime type and append_mime function with output_area\n",
       "     */\n",
       "    OutputArea.prototype.register_mime_type(EXEC_MIME_TYPE, append_mime, {\n",
       "      /* Is output safe? */\n",
       "      safe: true,\n",
       "      /* Index of renderer in `output_area.display_order` */\n",
       "      index: 0\n",
       "    });\n",
       "  }\n",
       "\n",
       "  // register the mime type if in Jupyter Notebook environment and previously unregistered\n",
       "  if (root.Jupyter !== undefined) {\n",
       "    const events = require('base/js/events');\n",
       "    const OutputArea = require('notebook/js/outputarea').OutputArea;\n",
       "\n",
       "    if (OutputArea.prototype.mime_types().indexOf(EXEC_MIME_TYPE) == -1) {\n",
       "      register_renderer(events, OutputArea);\n",
       "    }\n",
       "  }\n",
       "  if (typeof (root._bokeh_timeout) === \"undefined\" || force === true) {\n",
       "    root._bokeh_timeout = Date.now() + 5000;\n",
       "    root._bokeh_failed_load = false;\n",
       "  }\n",
       "\n",
       "  const NB_LOAD_WARNING = {'data': {'text/html':\n",
       "     \"<div style='background-color: #fdd'>\\n\"+\n",
       "     \"<p>\\n\"+\n",
       "     \"BokehJS does not appear to have successfully loaded. If loading BokehJS from CDN, this \\n\"+\n",
       "     \"may be due to a slow or bad network connection. Possible fixes:\\n\"+\n",
       "     \"</p>\\n\"+\n",
       "     \"<ul>\\n\"+\n",
       "     \"<li>re-rerun `output_notebook()` to attempt to load from CDN again, or</li>\\n\"+\n",
       "     \"<li>use INLINE resources instead, as so:</li>\\n\"+\n",
       "     \"</ul>\\n\"+\n",
       "     \"<code>\\n\"+\n",
       "     \"from bokeh.resources import INLINE\\n\"+\n",
       "     \"output_notebook(resources=INLINE)\\n\"+\n",
       "     \"</code>\\n\"+\n",
       "     \"</div>\"}};\n",
       "\n",
       "  function display_loaded(error = null) {\n",
       "    const el = document.getElementById(\"c81a93c3-d9dd-4e3e-9a02-7ba7e1fcb2de\");\n",
       "    if (el != null) {\n",
       "      const html = (() => {\n",
       "        if (typeof root.Bokeh === \"undefined\") {\n",
       "          if (error == null) {\n",
       "            return \"BokehJS is loading ...\";\n",
       "          } else {\n",
       "            return \"BokehJS failed to load.\";\n",
       "          }\n",
       "        } else {\n",
       "          const prefix = `BokehJS ${root.Bokeh.version}`;\n",
       "          if (error == null) {\n",
       "            return `${prefix} successfully loaded.`;\n",
       "          } else {\n",
       "            return `${prefix} <b>encountered errors</b> while loading and may not function as expected.`;\n",
       "          }\n",
       "        }\n",
       "      })();\n",
       "      el.innerHTML = html;\n",
       "\n",
       "      if (error != null) {\n",
       "        const wrapper = document.createElement(\"div\");\n",
       "        wrapper.style.overflow = \"auto\";\n",
       "        wrapper.style.height = \"5em\";\n",
       "        wrapper.style.resize = \"vertical\";\n",
       "        const content = document.createElement(\"div\");\n",
       "        content.style.fontFamily = \"monospace\";\n",
       "        content.style.whiteSpace = \"pre-wrap\";\n",
       "        content.style.backgroundColor = \"rgb(255, 221, 221)\";\n",
       "        content.textContent = error.stack ?? error.toString();\n",
       "        wrapper.append(content);\n",
       "        el.append(wrapper);\n",
       "      }\n",
       "    } else if (Date.now() < root._bokeh_timeout) {\n",
       "      setTimeout(() => display_loaded(error), 100);\n",
       "    }\n",
       "  }\n",
       "\n",
       "  function run_callbacks() {\n",
       "    try {\n",
       "      root._bokeh_onload_callbacks.forEach(function(callback) {\n",
       "        if (callback != null)\n",
       "          callback();\n",
       "      });\n",
       "    } finally {\n",
       "      delete root._bokeh_onload_callbacks\n",
       "    }\n",
       "    console.debug(\"Bokeh: all callbacks have finished\");\n",
       "  }\n",
       "\n",
       "  function load_libs(css_urls, js_urls, callback) {\n",
       "    if (css_urls == null) css_urls = [];\n",
       "    if (js_urls == null) js_urls = [];\n",
       "\n",
       "    root._bokeh_onload_callbacks.push(callback);\n",
       "    if (root._bokeh_is_loading > 0) {\n",
       "      console.debug(\"Bokeh: BokehJS is being loaded, scheduling callback at\", now());\n",
       "      return null;\n",
       "    }\n",
       "    if (js_urls == null || js_urls.length === 0) {\n",
       "      run_callbacks();\n",
       "      return null;\n",
       "    }\n",
       "    console.debug(\"Bokeh: BokehJS not loaded, scheduling load and callback at\", now());\n",
       "    root._bokeh_is_loading = css_urls.length + js_urls.length;\n",
       "\n",
       "    function on_load() {\n",
       "      root._bokeh_is_loading--;\n",
       "      if (root._bokeh_is_loading === 0) {\n",
       "        console.debug(\"Bokeh: all BokehJS libraries/stylesheets loaded\");\n",
       "        run_callbacks()\n",
       "      }\n",
       "    }\n",
       "\n",
       "    function on_error(url) {\n",
       "      console.error(\"failed to load \" + url);\n",
       "    }\n",
       "\n",
       "    for (let i = 0; i < css_urls.length; i++) {\n",
       "      const url = css_urls[i];\n",
       "      const element = document.createElement(\"link\");\n",
       "      element.onload = on_load;\n",
       "      element.onerror = on_error.bind(null, url);\n",
       "      element.rel = \"stylesheet\";\n",
       "      element.type = \"text/css\";\n",
       "      element.href = url;\n",
       "      console.debug(\"Bokeh: injecting link tag for BokehJS stylesheet: \", url);\n",
       "      document.body.appendChild(element);\n",
       "    }\n",
       "\n",
       "    for (let i = 0; i < js_urls.length; i++) {\n",
       "      const url = js_urls[i];\n",
       "      const element = document.createElement('script');\n",
       "      element.onload = on_load;\n",
       "      element.onerror = on_error.bind(null, url);\n",
       "      element.async = false;\n",
       "      element.src = url;\n",
       "      console.debug(\"Bokeh: injecting script tag for BokehJS library: \", url);\n",
       "      document.head.appendChild(element);\n",
       "    }\n",
       "  };\n",
       "\n",
       "  function inject_raw_css(css) {\n",
       "    const element = document.createElement(\"style\");\n",
       "    element.appendChild(document.createTextNode(css));\n",
       "    document.body.appendChild(element);\n",
       "  }\n",
       "\n",
       "  const js_urls = [\"https://cdn.bokeh.org/bokeh/release/bokeh-3.6.0.min.js\", \"https://cdn.bokeh.org/bokeh/release/bokeh-gl-3.6.0.min.js\", \"https://cdn.bokeh.org/bokeh/release/bokeh-widgets-3.6.0.min.js\", \"https://cdn.bokeh.org/bokeh/release/bokeh-tables-3.6.0.min.js\", \"https://cdn.bokeh.org/bokeh/release/bokeh-mathjax-3.6.0.min.js\"];\n",
       "  const css_urls = [];\n",
       "\n",
       "  const inline_js = [    function(Bokeh) {\n",
       "      Bokeh.set_log_level(\"info\");\n",
       "    },\n",
       "function(Bokeh) {\n",
       "    }\n",
       "  ];\n",
       "\n",
       "  function run_inline_js() {\n",
       "    if (root.Bokeh !== undefined || force === true) {\n",
       "      try {\n",
       "            for (let i = 0; i < inline_js.length; i++) {\n",
       "      inline_js[i].call(root, root.Bokeh);\n",
       "    }\n",
       "\n",
       "      } catch (error) {display_loaded(error);throw error;\n",
       "      }if (force === true) {\n",
       "        display_loaded();\n",
       "      }} else if (Date.now() < root._bokeh_timeout) {\n",
       "      setTimeout(run_inline_js, 100);\n",
       "    } else if (!root._bokeh_failed_load) {\n",
       "      console.log(\"Bokeh: BokehJS failed to load within specified timeout.\");\n",
       "      root._bokeh_failed_load = true;\n",
       "    } else if (force !== true) {\n",
       "      const cell = $(document.getElementById(\"c81a93c3-d9dd-4e3e-9a02-7ba7e1fcb2de\")).parents('.cell').data().cell;\n",
       "      cell.output_area.append_execute_result(NB_LOAD_WARNING)\n",
       "    }\n",
       "  }\n",
       "\n",
       "  if (root._bokeh_is_loading === 0) {\n",
       "    console.debug(\"Bokeh: BokehJS loaded, going straight to plotting\");\n",
       "    run_inline_js();\n",
       "  } else {\n",
       "    load_libs(css_urls, js_urls, function() {\n",
       "      console.debug(\"Bokeh: BokehJS plotting callback run at\", now());\n",
       "      run_inline_js();\n",
       "    });\n",
       "  }\n",
       "}(window));"
      ],
      "application/vnd.bokehjs_load.v0+json": "'use strict';\n(function(root) {\n  function now() {\n    return new Date();\n  }\n\n  const force = true;\n\n  if (typeof root._bokeh_onload_callbacks === \"undefined\" || force === true) {\n    root._bokeh_onload_callbacks = [];\n    root._bokeh_is_loading = undefined;\n  }\n\n\n  if (typeof (root._bokeh_timeout) === \"undefined\" || force === true) {\n    root._bokeh_timeout = Date.now() + 5000;\n    root._bokeh_failed_load = false;\n  }\n\n  const NB_LOAD_WARNING = {'data': {'text/html':\n     \"<div style='background-color: #fdd'>\\n\"+\n     \"<p>\\n\"+\n     \"BokehJS does not appear to have successfully loaded. If loading BokehJS from CDN, this \\n\"+\n     \"may be due to a slow or bad network connection. Possible fixes:\\n\"+\n     \"</p>\\n\"+\n     \"<ul>\\n\"+\n     \"<li>re-rerun `output_notebook()` to attempt to load from CDN again, or</li>\\n\"+\n     \"<li>use INLINE resources instead, as so:</li>\\n\"+\n     \"</ul>\\n\"+\n     \"<code>\\n\"+\n     \"from bokeh.resources import INLINE\\n\"+\n     \"output_notebook(resources=INLINE)\\n\"+\n     \"</code>\\n\"+\n     \"</div>\"}};\n\n  function display_loaded(error = null) {\n    const el = document.getElementById(\"c81a93c3-d9dd-4e3e-9a02-7ba7e1fcb2de\");\n    if (el != null) {\n      const html = (() => {\n        if (typeof root.Bokeh === \"undefined\") {\n          if (error == null) {\n            return \"BokehJS is loading ...\";\n          } else {\n            return \"BokehJS failed to load.\";\n          }\n        } else {\n          const prefix = `BokehJS ${root.Bokeh.version}`;\n          if (error == null) {\n            return `${prefix} successfully loaded.`;\n          } else {\n            return `${prefix} <b>encountered errors</b> while loading and may not function as expected.`;\n          }\n        }\n      })();\n      el.innerHTML = html;\n\n      if (error != null) {\n        const wrapper = document.createElement(\"div\");\n        wrapper.style.overflow = \"auto\";\n        wrapper.style.height = \"5em\";\n        wrapper.style.resize = \"vertical\";\n        const content = document.createElement(\"div\");\n        content.style.fontFamily = \"monospace\";\n        content.style.whiteSpace = \"pre-wrap\";\n        content.style.backgroundColor = \"rgb(255, 221, 221)\";\n        content.textContent = error.stack ?? error.toString();\n        wrapper.append(content);\n        el.append(wrapper);\n      }\n    } else if (Date.now() < root._bokeh_timeout) {\n      setTimeout(() => display_loaded(error), 100);\n    }\n  }\n\n  function run_callbacks() {\n    try {\n      root._bokeh_onload_callbacks.forEach(function(callback) {\n        if (callback != null)\n          callback();\n      });\n    } finally {\n      delete root._bokeh_onload_callbacks\n    }\n    console.debug(\"Bokeh: all callbacks have finished\");\n  }\n\n  function load_libs(css_urls, js_urls, callback) {\n    if (css_urls == null) css_urls = [];\n    if (js_urls == null) js_urls = [];\n\n    root._bokeh_onload_callbacks.push(callback);\n    if (root._bokeh_is_loading > 0) {\n      console.debug(\"Bokeh: BokehJS is being loaded, scheduling callback at\", now());\n      return null;\n    }\n    if (js_urls == null || js_urls.length === 0) {\n      run_callbacks();\n      return null;\n    }\n    console.debug(\"Bokeh: BokehJS not loaded, scheduling load and callback at\", now());\n    root._bokeh_is_loading = css_urls.length + js_urls.length;\n\n    function on_load() {\n      root._bokeh_is_loading--;\n      if (root._bokeh_is_loading === 0) {\n        console.debug(\"Bokeh: all BokehJS libraries/stylesheets loaded\");\n        run_callbacks()\n      }\n    }\n\n    function on_error(url) {\n      console.error(\"failed to load \" + url);\n    }\n\n    for (let i = 0; i < css_urls.length; i++) {\n      const url = css_urls[i];\n      const element = document.createElement(\"link\");\n      element.onload = on_load;\n      element.onerror = on_error.bind(null, url);\n      element.rel = \"stylesheet\";\n      element.type = \"text/css\";\n      element.href = url;\n      console.debug(\"Bokeh: injecting link tag for BokehJS stylesheet: \", url);\n      document.body.appendChild(element);\n    }\n\n    for (let i = 0; i < js_urls.length; i++) {\n      const url = js_urls[i];\n      const element = document.createElement('script');\n      element.onload = on_load;\n      element.onerror = on_error.bind(null, url);\n      element.async = false;\n      element.src = url;\n      console.debug(\"Bokeh: injecting script tag for BokehJS library: \", url);\n      document.head.appendChild(element);\n    }\n  };\n\n  function inject_raw_css(css) {\n    const element = document.createElement(\"style\");\n    element.appendChild(document.createTextNode(css));\n    document.body.appendChild(element);\n  }\n\n  const js_urls = [\"https://cdn.bokeh.org/bokeh/release/bokeh-3.6.0.min.js\", \"https://cdn.bokeh.org/bokeh/release/bokeh-gl-3.6.0.min.js\", \"https://cdn.bokeh.org/bokeh/release/bokeh-widgets-3.6.0.min.js\", \"https://cdn.bokeh.org/bokeh/release/bokeh-tables-3.6.0.min.js\", \"https://cdn.bokeh.org/bokeh/release/bokeh-mathjax-3.6.0.min.js\"];\n  const css_urls = [];\n\n  const inline_js = [    function(Bokeh) {\n      Bokeh.set_log_level(\"info\");\n    },\nfunction(Bokeh) {\n    }\n  ];\n\n  function run_inline_js() {\n    if (root.Bokeh !== undefined || force === true) {\n      try {\n            for (let i = 0; i < inline_js.length; i++) {\n      inline_js[i].call(root, root.Bokeh);\n    }\n\n      } catch (error) {display_loaded(error);throw error;\n      }if (force === true) {\n        display_loaded();\n      }} else if (Date.now() < root._bokeh_timeout) {\n      setTimeout(run_inline_js, 100);\n    } else if (!root._bokeh_failed_load) {\n      console.log(\"Bokeh: BokehJS failed to load within specified timeout.\");\n      root._bokeh_failed_load = true;\n    } else if (force !== true) {\n      const cell = $(document.getElementById(\"c81a93c3-d9dd-4e3e-9a02-7ba7e1fcb2de\")).parents('.cell').data().cell;\n      cell.output_area.append_execute_result(NB_LOAD_WARNING)\n    }\n  }\n\n  if (root._bokeh_is_loading === 0) {\n    console.debug(\"Bokeh: BokehJS loaded, going straight to plotting\");\n    run_inline_js();\n  } else {\n    load_libs(css_urls, js_urls, function() {\n      console.debug(\"Bokeh: BokehJS plotting callback run at\", now());\n      run_inline_js();\n    });\n  }\n}(window));"
     },
     "metadata": {},
     "output_type": "display_data"
    }
   ],
   "source": [
    "import bokeh.models as bm\n",
    "import bokeh.plotting as pl\n",
    "from bokeh.io import output_notebook\n",
    "\n",
    "output_notebook()\n",
    "\n",
    "\n",
    "def draw_vectors(\n",
    "    x,\n",
    "    y,\n",
    "    radius=10,\n",
    "    alpha=0.25,\n",
    "    color=\"blue\",\n",
    "    width=600,\n",
    "    height=400,\n",
    "    show=True,\n",
    "    **kwargs,\n",
    "):\n",
    "    \"\"\"draws an interactive plot for data points with auxilirary info on hover\"\"\"\n",
    "    if isinstance(color, str):\n",
    "        color = [color] * len(x)\n",
    "    data_source = bm.ColumnDataSource({\"x\": x, \"y\": y, \"color\": color, **kwargs})\n",
    "\n",
    "    fig = pl.figure(active_scroll=\"wheel_zoom\", width=width, height=height)\n",
    "    fig.scatter(\"x\", \"y\", size=radius, color=\"color\", alpha=alpha, source=data_source)\n",
    "\n",
    "    fig.add_tools(bm.HoverTool(tooltips=[(key, \"@\" + key) for key in kwargs.keys()]))\n",
    "    if show:\n",
    "        pl.show(fig)\n",
    "    return fig"
   ]
  },
  {
   "cell_type": "code",
   "execution_count": 33,
   "metadata": {},
   "outputs": [],
   "source": [
    "embedding = umap.UMAP(n_neighbors=5).fit_transform(word_embeddings)"
   ]
  },
  {
   "cell_type": "code",
   "execution_count": 34,
   "metadata": {},
   "outputs": [
    {
     "data": {
      "text/html": [
       "\n",
       "  <div id=\"ffe2a94c-363c-42cd-b7e8-e60ba8289a88\" data-root-id=\"p1004\" style=\"display: contents;\"></div>\n"
      ]
     },
     "metadata": {},
     "output_type": "display_data"
    },
    {
     "data": {
      "application/javascript": [
       "(function(root) {\n",
       "  function embed_document(root) {\n",
       "  const docs_json = {\"a41aeada-85f7-4ca6-bda3-3799a207da77\":{\"version\":\"3.6.0\",\"title\":\"Bokeh Application\",\"roots\":[{\"type\":\"object\",\"name\":\"Figure\",\"id\":\"p1004\",\"attributes\":{\"height\":400,\"x_range\":{\"type\":\"object\",\"name\":\"DataRange1d\",\"id\":\"p1005\"},\"y_range\":{\"type\":\"object\",\"name\":\"DataRange1d\",\"id\":\"p1006\"},\"x_scale\":{\"type\":\"object\",\"name\":\"LinearScale\",\"id\":\"p1013\"},\"y_scale\":{\"type\":\"object\",\"name\":\"LinearScale\",\"id\":\"p1014\"},\"title\":{\"type\":\"object\",\"name\":\"Title\",\"id\":\"p1011\"},\"renderers\":[{\"type\":\"object\",\"name\":\"GlyphRenderer\",\"id\":\"p1044\",\"attributes\":{\"data_source\":{\"type\":\"object\",\"name\":\"ColumnDataSource\",\"id\":\"p1001\",\"attributes\":{\"selected\":{\"type\":\"object\",\"name\":\"Selection\",\"id\":\"p1002\",\"attributes\":{\"indices\":[],\"line_indices\":[]}},\"selection_policy\":{\"type\":\"object\",\"name\":\"UnionRenderers\",\"id\":\"p1003\"},\"data\":{\"type\":\"map\",\"entries\":[[\"x\",{\"type\":\"ndarray\",\"array\":{\"type\":\"bytes\",\"data\":\"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\"},\"shape\":[5000],\"dtype\":\"float32\",\"order\":\"little\"}],[\"y\",{\"type\":\"ndarray\",\"array\":{\"type\":\"bytes\",\"data\":\"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\"},\"shape\":[5000],\"dtype\":\"float32\",\"order\":\"little\"}],[\"color\",[\"blue\",\"blue\",\"blue\",\"blue\",\"blue\",\"blue\",\"blue\",\"blue\",\"blue\",\"blue\",\"blue\",\"blue\",\"blue\",\"blue\",\"blue\",\"blue\",\"blue\",\"blue\",\"blue\",\"blue\",\"blue\",\"blue\",\"blue\",\"blue\",\"blue\",\"blue\",\"blue\",\"blue\",\"blue\",\"blue\",\"blue\",\"blue\",\"blue\",\"blue\",\"blue\",\"blue\",\"blue\",\"blue\",\"blue\",\"blue\",\"blue\",\"blue\",\"blue\",\"blue\",\"blue\",\"blue\",\"blue\",\"blue\",\"blue\",\"blue\",\"blue\",\"blue\",\"blue\",\"blue\",\"blue\",\"blue\",\"blue\",\"blue\",\"blue\",\"blue\",\"blue\",\"blue\",\"blue\",\"blue\",\"blue\",\"blue\",\"blue\",\"blue\",\"blue\",\"blue\",\"blue\",\"blue\",\"blue\",\"blue\",\"blue\",\"blue\",\"blue\",\"blue\",\"blue\",\"blue\",\"blue\",\"blue\",\"blue\",\"blue\",\"blue\",\"blue\",\"blue\",\"blue\",\"blue\",\"blue\",\"blue\",\"blue\",\"blue\",\"blue\",\"blue\",\"blue\",\"blue\",\"blue\",\"blue\",\"blue\",\"blue\",\"blue\",\"blue\",\"blue\",\"blue\",\"blue\",\"blue\",\"blue\",\"blue\",\"blue\",\"blue\",\"blue\",\"blue\",\"blue\",\"blue\",\"blue\",\"blue\",\"blue\",\"blue\",\"blue\",\"blue\",\"blue\",\"blue\",\"blue\",\"blue\",\"blue\",\"blue\",\"blue\",\"blue\",\"blue\",\"blue\",\"blue\",\"blue\",\"blue\",\"blue\",\"blue\",\"blue\",\"blue\",\"blue\",\"blue\",\"blue\",\"blue\",\"blue\",\"blue\",\"blue\",\"blue\",\"blue\",\"blue\",\"blue\",\"blue\",\"blue\",\"blue\",\"blue\",\"blue\",\"blue\",\"blue\",\"blue\",\"blue\",\"blue\",\"blue\",\"blue\",\"blue\",\"blue\",\"blue\",\"blue\",\"blue\",\"blue\",\"blue\",\"blue\",\"blue\",\"blue\",\"blue\",\"blue\",\"blue\",\"blue\",\"blue\",\"blue\",\"blue\",\"blue\",\"blue\",\"blue\",\"blue\",\"blue\",\"blue\",\"blue\",\"blue\",\"blue\",\"blue\",\"blue\",\"blue\",\"blue\",\"blue\",\"blue\",\"blue\",\"blue\",\"blue\",\"blue\",\"blue\",\"blue\",\"blue\",\"blue\",\"blue\",\"blue\",\"blue\",\"blue\",\"blue\",\"blue\",\"blue\",\"blue\",\"blue\",\"blue\",\"blue\",\"blue\",\"blue\",\"blue\",\"blue\",\"blue\",\"blue\",\"blue\",\"blue\",\"blue\",\"blue\",\"blue\",\"blue\",\"blue\",\"blue\",\"blue\",\"blue\",\"blue\",\"blue\",\"blue\",\"blue\",\"blue\",\"blue\",\"blue\",\"blue\",\"blue\",\"blue\",\"blue\",\"blue\",\"blue\",\"blue\",\"blue\",\"blue\",\"blue\",\"blue\",\"blue\",\"blue\",\"blue\",\"blue\",\"blue\",\"blue\",\"blue\",\"blue\",\"blue\",\"blue\",\"blue\",\"blue\",\"blue\",\"blue\",\"blue\",\"blue\",\"blue\",\"blue\",\"blue\",\"blue\",\"blue\",\"blue\",\"blue\",\"blue\",\"blue\",\"blue\",\"blue\",\"blue\",\"blue\",\"blue\",\"blue\",\"blue\",\"blue\",\"blue\",\"blue\",\"blue\",\"blue\",\"blue\",\"blue\",\"blue\",\"blue\",\"blue\",\"blue\",\"blue\",\"blue\",\"blue\",\"blue\",\"blue\",\"blue\",\"blue\",\"blue\",\"blue\",\"blue\",\"blue\",\"blue\",\"blue\",\"blue\",\"blue\",\"blue\",\"blue\",\"blue\",\"blue\",\"blue\",\"blue\",\"blue\",\"blue\",\"blue\",\"blue\",\"blue\",\"blue\",\"blue\",\"blue\",\"blue\",\"blue\",\"blue\",\"blue\",\"blue\",\"blue\",\"blue\",\"blue\",\"blue\",\"blue\",\"blue\",\"blue\",\"blue\",\"blue\",\"blue\",\"blue\",\"blue\",\"blue\",\"blue\",\"blue\",\"blue\",\"blue\",\"blue\",\"blue\",\"blue\",\"blue\",\"blue\",\"blue\",\"blue\",\"blue\",\"blue\",\"blue\",\"blue\",\"blue\",\"blue\",\"blue\",\"blue\",\"blue\",\"blue\",\"blue\",\"blue\",\"blue\",\"blue\",\"blue\",\"blue\",\"blue\",\"blue\",\"blue\",\"blue\",\"blue\",\"blue\",\"blue\",\"blue\",\"blue\",\"blue\",\"blue\",\"blue\",\"blue\",\"blue\",\"blue\",\"blue\",\"blue\",\"blue\",\"blue\",\"blue\",\"blue\",\"blue\",\"blue\",\"blue\",\"blue\",\"blue\",\"blue\",\"blue\",\"blue\",\"blue\",\"blue\",\"blue\",\"blue\",\"blue\",\"blue\",\"blue\",\"blue\",\"blue\",\"blue\",\"blue\",\"blue\",\"blue\",\"blue\",\"blue\",\"blue\",\"blue\",\"blue\",\"blue\",\"blue\",\"blue\",\"blue\",\"blue\",\"blue\",\"blue\",\"blue\",\"blue\",\"blue\",\"blue\",\"blue\",\"blue\",\"blue\",\"blue\",\"blue\",\"blue\",\"blue\",\"blue\",\"blue\",\"blue\",\"blue\",\"blue\",\"blue\",\"blue\",\"blue\",\"blue\",\"blue\",\"blue\",\"blue\",\"blue\",\"blue\",\"blue\",\"blue\",\"blue\",\"blue\",\"blue\",\"blue\",\"blue\",\"blue\",\"blue\",\"blue\",\"blue\",\"blue\",\"blue\",\"blue\",\"blue\",\"blue\",\"blue\",\"blue\",\"blue\",\"blue\",\"blue\",\"blue\",\"blue\",\"blue\",\"blue\",\"blue\",\"blue\",\"blue\",\"blue\",\"blue\",\"blue\",\"blue\",\"blue\",\"blue\",\"blue\",\"blue\",\"blue\",\"blue\",\"blue\",\"blue\",\"blue\",\"blue\",\"blue\",\"blue\",\"blue\",\"blue\",\"blue\",\"blue\",\"blue\",\"blue\",\"blue\",\"blue\",\"blue\",\"blue\",\"blue\",\"blue\",\"blue\",\"blue\",\"blue\",\"blue\",\"blue\",\"blue\",\"blue\",\"blue\",\"blue\",\"blue\",\"blue\",\"blue\",\"blue\",\"blue\",\"blue\",\"blue\",\"blue\",\"blue\",\"blue\",\"blue\",\"blue\",\"blue\",\"blue\",\"blue\",\"blue\",\"blue\",\"blue\",\"blue\",\"blue\",\"blue\",\"blue\",\"blue\",\"blue\",\"blue\",\"blue\",\"blue\",\"blue\",\"blue\",\"blue\",\"blue\",\"blue\",\"blue\",\"blue\",\"blue\",\"blue\",\"blue\",\"blue\",\"blue\",\"blue\",\"blue\",\"blue\",\"blue\",\"blue\",\"blue\",\"blue\",\"blue\",\"blue\",\"blue\",\"blue\",\"blue\",\"blue\",\"blue\",\"blue\",\"blue\",\"blue\",\"blue\",\"blue\",\"blue\",\"blue\",\"blue\",\"blue\",\"blue\",\"blue\",\"blue\",\"blue\",\"blue\",\"blue\",\"blue\",\"blue\",\"blue\",\"blue\",\"blue\",\"blue\",\"blue\",\"blue\",\"blue\",\"blue\",\"blue\",\"blue\",\"blue\",\"blue\",\"blue\",\"blue\",\"blue\",\"blue\",\"blue\",\"blue\",\"blue\",\"blue\",\"blue\",\"blue\",\"blue\",\"blue\",\"blue\",\"blue\",\"blue\",\"blue\",\"blue\",\"blue\",\"blue\",\"blue\",\"blue\",\"blue\",\"blue\",\"blue\",\"blue\",\"blue\",\"blue\",\"blue\",\"blue\",\"blue\",\"blue\",\"blue\",\"blue\",\"blue\",\"blue\",\"blue\",\"blue\",\"blue\",\"blue\",\"blue\",\"blue\",\"blue\",\"blue\",\"blue\",\"blue\",\"blue\",\"blue\",\"blue\",\"blue\",\"blue\",\"blue\",\"blue\",\"blue\",\"blue\",\"blue\",\"blue\",\"blue\",\"blue\",\"blue\",\"blue\",\"blue\",\"blue\",\"blue\",\"blue\",\"blue\",\"blue\",\"blue\",\"blue\",\"blue\",\"blue\",\"blue\",\"blue\",\"blue\",\"blue\",\"blue\",\"blue\",\"blue\",\"blue\",\"blue\",\"blue\",\"blue\",\"blue\",\"blue\",\"blue\",\"blue\",\"blue\",\"blue\",\"blue\",\"blue\",\"blue\",\"blue\",\"blue\",\"blue\",\"blue\",\"blue\",\"blue\",\"blue\",\"blue\",\"blue\",\"blue\",\"blue\",\"blue\",\"blue\",\"blue\",\"blue\",\"blue\",\"blue\",\"blue\",\"blue\",\"blue\",\"blue\",\"blue\",\"blue\",\"blue\",\"blue\",\"blue\",\"blue\",\"blue\",\"blue\",\"blue\",\"blue\",\"blue\",\"blue\",\"blue\",\"blue\",\"blue\",\"blue\",\"blue\",\"blue\",\"blue\",\"blue\",\"blue\",\"blue\",\"blue\",\"blue\",\"blue\",\"blue\",\"blue\",\"blue\",\"blue\",\"blue\",\"blue\",\"blue\",\"blue\",\"blue\",\"blue\",\"blue\",\"blue\",\"blue\",\"blue\",\"blue\",\"blue\",\"blue\",\"blue\",\"blue\",\"blue\",\"blue\",\"blue\",\"blue\",\"blue\",\"blue\",\"blue\",\"blue\",\"blue\",\"blue\",\"blue\",\"blue\",\"blue\",\"blue\",\"blue\",\"blue\",\"blue\",\"blue\",\"blue\",\"blue\",\"blue\",\"blue\",\"blue\",\"blue\",\"blue\",\"blue\",\"blue\",\"blue\",\"blue\",\"blue\",\"blue\",\"blue\",\"blue\",\"blue\",\"blue\",\"blue\",\"blue\",\"blue\",\"blue\",\"blue\",\"blue\",\"blue\",\"blue\",\"blue\",\"blue\",\"blue\",\"blue\",\"blue\",\"blue\",\"blue\",\"blue\",\"blue\",\"blue\",\"blue\",\"blue\",\"blue\",\"blue\",\"blue\",\"blue\",\"blue\",\"blue\",\"blue\",\"blue\",\"blue\",\"blue\",\"blue\",\"blue\",\"blue\",\"blue\",\"blue\",\"blue\",\"blue\",\"blue\",\"blue\",\"blue\",\"blue\",\"blue\",\"blue\",\"blue\",\"blue\",\"blue\",\"blue\",\"blue\",\"blue\",\"blue\",\"blue\",\"blue\",\"blue\",\"blue\",\"blue\",\"blue\",\"blue\",\"blue\",\"blue\",\"blue\",\"blue\",\"blue\",\"blue\",\"blue\",\"blue\",\"blue\",\"blue\",\"blue\",\"blue\",\"blue\",\"blue\",\"blue\",\"blue\",\"blue\",\"blue\",\"blue\",\"blue\",\"blue\",\"blue\",\"blue\",\"blue\",\"blue\",\"blue\",\"blue\",\"blue\",\"blue\",\"blue\",\"blue\",\"blue\",\"blue\",\"blue\",\"blue\",\"blue\",\"blue\",\"blue\",\"blue\",\"blue\",\"blue\",\"blue\",\"blue\",\"blue\",\"blue\",\"blue\",\"blue\",\"blue\",\"blue\",\"blue\",\"blue\",\"blue\",\"blue\",\"blue\",\"blue\",\"blue\",\"blue\",\"blue\",\"blue\",\"blue\",\"blue\",\"blue\",\"blue\",\"blue\",\"blue\",\"blue\",\"blue\",\"blue\",\"blue\",\"blue\",\"blue\",\"blue\",\"blue\",\"blue\",\"blue\",\"blue\",\"blue\",\"blue\",\"blue\",\"blue\",\"blue\",\"blue\",\"blue\",\"blue\",\"blue\",\"blue\",\"blue\",\"blue\",\"blue\",\"blue\",\"blue\",\"blue\",\"blue\",\"blue\",\"blue\",\"blue\",\"blue\",\"blue\",\"blue\",\"blue\",\"blue\",\"blue\",\"blue\",\"blue\",\"blue\",\"blue\",\"blue\",\"blue\",\"blue\",\"blue\",\"blue\",\"blue\",\"blue\",\"blue\",\"blue\",\"blue\",\"blue\",\"blue\",\"blue\",\"blue\",\"blue\",\"blue\",\"blue\",\"blue\",\"blue\",\"blue\",\"blue\",\"blue\",\"blue\",\"blue\",\"blue\",\"blue\",\"blue\",\"blue\",\"blue\",\"blue\",\"blue\",\"blue\",\"blue\",\"blue\",\"blue\",\"blue\",\"blue\",\"blue\",\"blue\",\"blue\",\"blue\",\"blue\",\"blue\",\"blue\",\"blue\",\"blue\",\"blue\",\"blue\",\"blue\",\"blue\",\"blue\",\"blue\",\"blue\",\"blue\",\"blue\",\"blue\",\"blue\",\"blue\",\"blue\",\"blue\",\"blue\",\"blue\",\"blue\",\"blue\",\"blue\",\"blue\",\"blue\",\"blue\",\"blue\",\"blue\",\"blue\",\"blue\",\"blue\",\"blue\",\"blue\",\"blue\",\"blue\",\"blue\",\"blue\",\"blue\",\"blue\",\"blue\",\"blue\",\"blue\",\"blue\",\"blue\",\"blue\",\"blue\",\"blue\",\"blue\",\"blue\",\"blue\",\"blue\",\"blue\",\"blue\",\"blue\",\"blue\",\"blue\",\"blue\",\"blue\",\"blue\",\"blue\",\"blue\",\"blue\",\"blue\",\"blue\",\"blue\",\"blue\",\"blue\",\"blue\",\"blue\",\"blue\",\"blue\",\"blue\",\"blue\",\"blue\",\"blue\",\"blue\",\"blue\",\"blue\",\"blue\",\"blue\",\"blue\",\"blue\",\"blue\",\"blue\",\"blue\",\"blue\",\"blue\",\"blue\",\"blue\",\"blue\",\"blue\",\"blue\",\"blue\",\"blue\",\"blue\",\"blue\",\"blue\",\"blue\",\"blue\",\"blue\",\"blue\",\"blue\",\"blue\",\"blue\",\"blue\",\"blue\",\"blue\",\"blue\",\"blue\",\"blue\",\"blue\",\"blue\",\"blue\",\"blue\",\"blue\",\"blue\",\"blue\",\"blue\",\"blue\",\"blue\",\"blue\",\"blue\",\"blue\",\"blue\",\"blue\",\"blue\",\"blue\",\"blue\",\"blue\",\"blue\",\"blue\",\"blue\",\"blue\",\"blue\",\"blue\",\"blue\",\"blue\",\"blue\",\"blue\",\"blue\",\"blue\",\"blue\",\"blue\",\"blue\",\"blue\",\"blue\",\"blue\",\"blue\",\"blue\",\"blue\",\"blue\",\"blue\",\"blue\",\"blue\",\"blue\",\"blue\",\"blue\",\"blue\",\"blue\",\"blue\",\"blue\",\"blue\",\"blue\",\"blue\",\"blue\",\"blue\",\"blue\",\"blue\",\"blue\",\"blue\",\"blue\",\"blue\",\"blue\",\"blue\",\"blue\",\"blue\",\"blue\",\"blue\",\"blue\",\"blue\",\"blue\",\"blue\",\"blue\",\"blue\",\"blue\",\"blue\",\"blue\",\"blue\",\"blue\",\"blue\",\"blue\",\"blue\",\"blue\",\"blue\",\"blue\",\"blue\",\"blue\",\"blue\",\"blue\",\"blue\",\"blue\",\"blue\",\"blue\",\"blue\",\"blue\",\"blue\",\"blue\",\"blue\",\"blue\",\"blue\",\"blue\",\"blue\",\"blue\",\"blue\",\"blue\",\"blue\",\"blue\",\"blue\",\"blue\",\"blue\",\"blue\",\"blue\",\"blue\",\"blue\",\"blue\",\"blue\",\"blue\",\"blue\",\"blue\",\"blue\",\"blue\",\"blue\",\"blue\",\"blue\",\"blue\",\"blue\",\"blue\",\"blue\",\"blue\",\"blue\",\"blue\",\"blue\",\"blue\",\"blue\",\"blue\",\"blue\",\"blue\",\"blue\",\"blue\",\"blue\",\"blue\",\"blue\",\"blue\",\"blue\",\"blue\",\"blue\",\"blue\",\"blue\",\"blue\",\"blue\",\"blue\",\"blue\",\"blue\",\"blue\",\"blue\",\"blue\",\"blue\",\"blue\",\"blue\",\"blue\",\"blue\",\"blue\",\"blue\",\"blue\",\"blue\",\"blue\",\"blue\",\"blue\",\"blue\",\"blue\",\"blue\",\"blue\",\"blue\",\"blue\",\"blue\",\"blue\",\"blue\",\"blue\",\"blue\",\"blue\",\"blue\",\"blue\",\"blue\",\"blue\",\"blue\",\"blue\",\"blue\",\"blue\",\"blue\",\"blue\",\"blue\",\"blue\",\"blue\",\"blue\",\"blue\",\"blue\",\"blue\",\"blue\",\"blue\",\"blue\",\"blue\",\"blue\",\"blue\",\"blue\",\"blue\",\"blue\",\"blue\",\"blue\",\"blue\",\"blue\",\"blue\",\"blue\",\"blue\",\"blue\",\"blue\",\"blue\",\"blue\",\"blue\",\"blue\",\"blue\",\"blue\",\"blue\",\"blue\",\"blue\",\"blue\",\"blue\",\"blue\",\"blue\",\"blue\",\"blue\",\"blue\",\"blue\",\"blue\",\"blue\",\"blue\",\"blue\",\"blue\",\"blue\",\"blue\",\"blue\",\"blue\",\"blue\",\"blue\",\"blue\",\"blue\",\"blue\",\"blue\",\"blue\",\"blue\",\"blue\",\"blue\",\"blue\",\"blue\",\"blue\",\"blue\",\"blue\",\"blue\",\"blue\",\"blue\",\"blue\",\"blue\",\"blue\",\"blue\",\"blue\",\"blue\",\"blue\",\"blue\",\"blue\",\"blue\",\"blue\",\"blue\",\"blue\",\"blue\",\"blue\",\"blue\",\"blue\",\"blue\",\"blue\",\"blue\",\"blue\",\"blue\",\"blue\",\"blue\",\"blue\",\"blue\",\"blue\",\"blue\",\"blue\",\"blue\",\"blue\",\"blue\",\"blue\",\"blue\",\"blue\",\"blue\",\"blue\",\"blue\",\"blue\",\"blue\",\"blue\",\"blue\",\"blue\",\"blue\",\"blue\",\"blue\",\"blue\",\"blue\",\"blue\",\"blue\",\"blue\",\"blue\",\"blue\",\"blue\",\"blue\",\"blue\",\"blue\",\"blue\",\"blue\",\"blue\",\"blue\",\"blue\",\"blue\",\"blue\",\"blue\",\"blue\",\"blue\",\"blue\",\"blue\",\"blue\",\"blue\",\"blue\",\"blue\",\"blue\",\"blue\",\"blue\",\"blue\",\"blue\",\"blue\",\"blue\",\"blue\",\"blue\",\"blue\",\"blue\",\"blue\",\"blue\",\"blue\",\"blue\",\"blue\",\"blue\",\"blue\",\"blue\",\"blue\",\"blue\",\"blue\",\"blue\",\"blue\",\"blue\",\"blue\",\"blue\",\"blue\",\"blue\",\"blue\",\"blue\",\"blue\",\"blue\",\"blue\",\"blue\",\"blue\",\"blue\",\"blue\",\"blue\",\"blue\",\"blue\",\"blue\",\"blue\",\"blue\",\"blue\",\"blue\",\"blue\",\"blue\",\"blue\",\"blue\",\"blue\",\"blue\",\"blue\",\"blue\",\"blue\",\"blue\",\"blue\",\"blue\",\"blue\",\"blue\",\"blue\",\"blue\",\"blue\",\"blue\",\"blue\",\"blue\",\"blue\",\"blue\",\"blue\",\"blue\",\"blue\",\"blue\",\"blue\",\"blue\",\"blue\",\"blue\",\"blue\",\"blue\",\"blue\",\"blue\",\"blue\",\"blue\",\"blue\",\"blue\",\"blue\",\"blue\",\"blue\",\"blue\",\"blue\",\"blue\",\"blue\",\"blue\",\"blue\",\"blue\",\"blue\",\"blue\",\"blue\",\"blue\",\"blue\",\"blue\",\"blue\",\"blue\",\"blue\",\"blue\",\"blue\",\"blue\",\"blue\",\"blue\",\"blue\",\"blue\",\"blue\",\"blue\",\"blue\",\"blue\",\"blue\",\"blue\",\"blue\",\"blue\",\"blue\",\"blue\",\"blue\",\"blue\",\"blue\",\"blue\",\"blue\",\"blue\",\"blue\",\"blue\",\"blue\",\"blue\",\"blue\",\"blue\",\"blue\",\"blue\",\"blue\",\"blue\",\"blue\",\"blue\",\"blue\",\"blue\",\"blue\",\"blue\",\"blue\",\"blue\",\"blue\",\"blue\",\"blue\",\"blue\",\"blue\",\"blue\",\"blue\",\"blue\",\"blue\",\"blue\",\"blue\",\"blue\",\"blue\",\"blue\",\"blue\",\"blue\",\"blue\",\"blue\",\"blue\",\"blue\",\"blue\",\"blue\",\"blue\",\"blue\",\"blue\",\"blue\",\"blue\",\"blue\",\"blue\",\"blue\",\"blue\",\"blue\",\"blue\",\"blue\",\"blue\",\"blue\",\"blue\",\"blue\",\"blue\",\"blue\",\"blue\",\"blue\",\"blue\",\"blue\",\"blue\",\"blue\",\"blue\",\"blue\",\"blue\",\"blue\",\"blue\",\"blue\",\"blue\",\"blue\",\"blue\",\"blue\",\"blue\",\"blue\",\"blue\",\"blue\",\"blue\",\"blue\",\"blue\",\"blue\",\"blue\",\"blue\",\"blue\",\"blue\",\"blue\",\"blue\",\"blue\",\"blue\",\"blue\",\"blue\",\"blue\",\"blue\",\"blue\",\"blue\",\"blue\",\"blue\",\"blue\",\"blue\",\"blue\",\"blue\",\"blue\",\"blue\",\"blue\",\"blue\",\"blue\",\"blue\",\"blue\",\"blue\",\"blue\",\"blue\",\"blue\",\"blue\",\"blue\",\"blue\",\"blue\",\"blue\",\"blue\",\"blue\",\"blue\",\"blue\",\"blue\",\"blue\",\"blue\",\"blue\",\"blue\",\"blue\",\"blue\",\"blue\",\"blue\",\"blue\",\"blue\",\"blue\",\"blue\",\"blue\",\"blue\",\"blue\",\"blue\",\"blue\",\"blue\",\"blue\",\"blue\",\"blue\",\"blue\",\"blue\",\"blue\",\"blue\",\"blue\",\"blue\",\"blue\",\"blue\",\"blue\",\"blue\",\"blue\",\"blue\",\"blue\",\"blue\",\"blue\",\"blue\",\"blue\",\"blue\",\"blue\",\"blue\",\"blue\",\"blue\",\"blue\",\"blue\",\"blue\",\"blue\",\"blue\",\"blue\",\"blue\",\"blue\",\"blue\",\"blue\",\"blue\",\"blue\",\"blue\",\"blue\",\"blue\",\"blue\",\"blue\",\"blue\",\"blue\",\"blue\",\"blue\",\"blue\",\"blue\",\"blue\",\"blue\",\"blue\",\"blue\",\"blue\",\"blue\",\"blue\",\"blue\",\"blue\",\"blue\",\"blue\",\"blue\",\"blue\",\"blue\",\"blue\",\"blue\",\"blue\",\"blue\",\"blue\",\"blue\",\"blue\",\"blue\",\"blue\",\"blue\",\"blue\",\"blue\",\"blue\",\"blue\",\"blue\",\"blue\",\"blue\",\"blue\",\"blue\",\"blue\",\"blue\",\"blue\",\"blue\",\"blue\",\"blue\",\"blue\",\"blue\",\"blue\",\"blue\",\"blue\",\"blue\",\"blue\",\"blue\",\"blue\",\"blue\",\"blue\",\"blue\",\"blue\",\"blue\",\"blue\",\"blue\",\"blue\",\"blue\",\"blue\",\"blue\",\"blue\",\"blue\",\"blue\",\"blue\",\"blue\",\"blue\",\"blue\",\"blue\",\"blue\",\"blue\",\"blue\",\"blue\",\"blue\",\"blue\",\"blue\",\"blue\",\"blue\",\"blue\",\"blue\",\"blue\",\"blue\",\"blue\",\"blue\",\"blue\",\"blue\",\"blue\",\"blue\",\"blue\",\"blue\",\"blue\",\"blue\",\"blue\",\"blue\",\"blue\",\"blue\",\"blue\",\"blue\",\"blue\",\"blue\",\"blue\",\"blue\",\"blue\",\"blue\",\"blue\",\"blue\",\"blue\",\"blue\",\"blue\",\"blue\",\"blue\",\"blue\",\"blue\",\"blue\",\"blue\",\"blue\",\"blue\",\"blue\",\"blue\",\"blue\",\"blue\",\"blue\",\"blue\",\"blue\",\"blue\",\"blue\",\"blue\",\"blue\",\"blue\",\"blue\",\"blue\",\"blue\",\"blue\",\"blue\",\"blue\",\"blue\",\"blue\",\"blue\",\"blue\",\"blue\",\"blue\",\"blue\",\"blue\",\"blue\",\"blue\",\"blue\",\"blue\",\"blue\",\"blue\",\"blue\",\"blue\",\"blue\",\"blue\",\"blue\",\"blue\",\"blue\",\"blue\",\"blue\",\"blue\",\"blue\",\"blue\",\"blue\",\"blue\",\"blue\",\"blue\",\"blue\",\"blue\",\"blue\",\"blue\",\"blue\",\"blue\",\"blue\",\"blue\",\"blue\",\"blue\",\"blue\",\"blue\",\"blue\",\"blue\",\"blue\",\"blue\",\"blue\",\"blue\",\"blue\",\"blue\",\"blue\",\"blue\",\"blue\",\"blue\",\"blue\",\"blue\",\"blue\",\"blue\",\"blue\",\"blue\",\"blue\",\"blue\",\"blue\",\"blue\",\"blue\",\"blue\",\"blue\",\"blue\",\"blue\",\"blue\",\"blue\",\"blue\",\"blue\",\"blue\",\"blue\",\"blue\",\"blue\",\"blue\",\"blue\",\"blue\",\"blue\",\"blue\",\"blue\",\"blue\",\"blue\",\"blue\",\"blue\",\"blue\",\"blue\",\"blue\",\"blue\",\"blue\",\"blue\",\"blue\",\"blue\",\"blue\",\"blue\",\"blue\",\"blue\",\"blue\",\"blue\",\"blue\",\"blue\",\"blue\",\"blue\",\"blue\",\"blue\",\"blue\",\"blue\",\"blue\",\"blue\",\"blue\",\"blue\",\"blue\",\"blue\",\"blue\",\"blue\",\"blue\",\"blue\",\"blue\",\"blue\",\"blue\",\"blue\",\"blue\",\"blue\",\"blue\",\"blue\",\"blue\",\"blue\",\"blue\",\"blue\",\"blue\",\"blue\",\"blue\",\"blue\",\"blue\",\"blue\",\"blue\",\"blue\",\"blue\",\"blue\",\"blue\",\"blue\",\"blue\",\"blue\",\"blue\",\"blue\",\"blue\",\"blue\",\"blue\",\"blue\",\"blue\",\"blue\",\"blue\",\"blue\",\"blue\",\"blue\",\"blue\",\"blue\",\"blue\",\"blue\",\"blue\",\"blue\",\"blue\",\"blue\",\"blue\",\"blue\",\"blue\",\"blue\",\"blue\",\"blue\",\"blue\",\"blue\",\"blue\",\"blue\",\"blue\",\"blue\",\"blue\",\"blue\",\"blue\",\"blue\",\"blue\",\"blue\",\"blue\",\"blue\",\"blue\",\"blue\",\"blue\",\"blue\",\"blue\",\"blue\",\"blue\",\"blue\",\"blue\",\"blue\",\"blue\",\"blue\",\"blue\",\"blue\",\"blue\",\"blue\",\"blue\",\"blue\",\"blue\",\"blue\",\"blue\",\"blue\",\"blue\",\"blue\",\"blue\",\"blue\",\"blue\",\"blue\",\"blue\",\"blue\",\"blue\",\"blue\",\"blue\",\"blue\",\"blue\",\"blue\",\"blue\",\"blue\",\"blue\",\"blue\",\"blue\",\"blue\",\"blue\",\"blue\",\"blue\",\"blue\",\"blue\",\"blue\",\"blue\",\"blue\",\"blue\",\"blue\",\"blue\",\"blue\",\"blue\",\"blue\",\"blue\",\"blue\",\"blue\",\"blue\",\"blue\",\"blue\",\"blue\",\"blue\",\"blue\",\"blue\",\"blue\",\"blue\",\"blue\",\"blue\",\"blue\",\"blue\",\"blue\",\"blue\",\"blue\",\"blue\",\"blue\",\"blue\",\"blue\",\"blue\",\"blue\",\"blue\",\"blue\",\"blue\",\"blue\",\"blue\",\"blue\",\"blue\",\"blue\",\"blue\",\"blue\",\"blue\",\"blue\",\"blue\",\"blue\",\"blue\",\"blue\",\"blue\",\"blue\",\"blue\",\"blue\",\"blue\",\"blue\",\"blue\",\"blue\",\"blue\",\"blue\",\"blue\",\"blue\",\"blue\",\"blue\",\"blue\",\"blue\",\"blue\",\"blue\",\"blue\",\"blue\",\"blue\",\"blue\",\"blue\",\"blue\",\"blue\",\"blue\",\"blue\",\"blue\",\"blue\",\"blue\",\"blue\",\"blue\",\"blue\",\"blue\",\"blue\",\"blue\",\"blue\",\"blue\",\"blue\",\"blue\",\"blue\",\"blue\",\"blue\",\"blue\",\"blue\",\"blue\",\"blue\",\"blue\",\"blue\",\"blue\",\"blue\",\"blue\",\"blue\",\"blue\",\"blue\",\"blue\",\"blue\",\"blue\",\"blue\",\"blue\",\"blue\",\"blue\",\"blue\",\"blue\",\"blue\",\"blue\",\"blue\",\"blue\",\"blue\",\"blue\",\"blue\",\"blue\",\"blue\",\"blue\",\"blue\",\"blue\",\"blue\",\"blue\",\"blue\",\"blue\",\"blue\",\"blue\",\"blue\",\"blue\",\"blue\",\"blue\",\"blue\",\"blue\",\"blue\",\"blue\",\"blue\",\"blue\",\"blue\",\"blue\",\"blue\",\"blue\",\"blue\",\"blue\",\"blue\",\"blue\",\"blue\",\"blue\",\"blue\",\"blue\",\"blue\",\"blue\",\"blue\",\"blue\",\"blue\",\"blue\",\"blue\",\"blue\",\"blue\",\"blue\",\"blue\",\"blue\",\"blue\",\"blue\",\"blue\",\"blue\",\"blue\",\"blue\",\"blue\",\"blue\",\"blue\",\"blue\",\"blue\",\"blue\",\"blue\",\"blue\",\"blue\",\"blue\",\"blue\",\"blue\",\"blue\",\"blue\",\"blue\",\"blue\",\"blue\",\"blue\",\"blue\",\"blue\",\"blue\",\"blue\",\"blue\",\"blue\",\"blue\",\"blue\",\"blue\",\"blue\",\"blue\",\"blue\",\"blue\",\"blue\",\"blue\",\"blue\",\"blue\",\"blue\",\"blue\",\"blue\",\"blue\",\"blue\",\"blue\",\"blue\",\"blue\",\"blue\",\"blue\",\"blue\",\"blue\",\"blue\",\"blue\",\"blue\",\"blue\",\"blue\",\"blue\",\"blue\",\"blue\",\"blue\",\"blue\",\"blue\",\"blue\",\"blue\",\"blue\",\"blue\",\"blue\",\"blue\",\"blue\",\"blue\",\"blue\",\"blue\",\"blue\",\"blue\",\"blue\",\"blue\",\"blue\",\"blue\",\"blue\",\"blue\",\"blue\",\"blue\",\"blue\",\"blue\",\"blue\",\"blue\",\"blue\",\"blue\",\"blue\",\"blue\",\"blue\",\"blue\",\"blue\",\"blue\",\"blue\",\"blue\",\"blue\",\"blue\",\"blue\",\"blue\",\"blue\",\"blue\",\"blue\",\"blue\",\"blue\",\"blue\",\"blue\",\"blue\",\"blue\",\"blue\",\"blue\",\"blue\",\"blue\",\"blue\",\"blue\",\"blue\",\"blue\",\"blue\",\"blue\",\"blue\",\"blue\",\"blue\",\"blue\",\"blue\",\"blue\",\"blue\",\"blue\",\"blue\",\"blue\",\"blue\",\"blue\",\"blue\",\"blue\",\"blue\",\"blue\",\"blue\",\"blue\",\"blue\",\"blue\",\"blue\",\"blue\",\"blue\",\"blue\",\"blue\",\"blue\",\"blue\",\"blue\",\"blue\",\"blue\",\"blue\",\"blue\",\"blue\",\"blue\",\"blue\",\"blue\",\"blue\",\"blue\",\"blue\",\"blue\",\"blue\",\"blue\",\"blue\",\"blue\",\"blue\",\"blue\",\"blue\",\"blue\",\"blue\",\"blue\",\"blue\",\"blue\",\"blue\",\"blue\",\"blue\",\"blue\",\"blue\",\"blue\",\"blue\",\"blue\",\"blue\",\"blue\",\"blue\",\"blue\",\"blue\",\"blue\",\"blue\",\"blue\",\"blue\",\"blue\",\"blue\",\"blue\",\"blue\",\"blue\",\"blue\",\"blue\",\"blue\",\"blue\",\"blue\",\"blue\",\"blue\",\"blue\",\"blue\",\"blue\",\"blue\",\"blue\",\"blue\",\"blue\",\"blue\",\"blue\",\"blue\",\"blue\",\"blue\",\"blue\",\"blue\",\"blue\",\"blue\",\"blue\",\"blue\",\"blue\",\"blue\",\"blue\",\"blue\",\"blue\",\"blue\",\"blue\",\"blue\",\"blue\",\"blue\",\"blue\",\"blue\",\"blue\",\"blue\",\"blue\",\"blue\",\"blue\",\"blue\",\"blue\",\"blue\",\"blue\",\"blue\",\"blue\",\"blue\",\"blue\",\"blue\",\"blue\",\"blue\",\"blue\",\"blue\",\"blue\",\"blue\",\"blue\",\"blue\",\"blue\",\"blue\",\"blue\",\"blue\",\"blue\",\"blue\",\"blue\",\"blue\",\"blue\",\"blue\",\"blue\",\"blue\",\"blue\",\"blue\",\"blue\",\"blue\",\"blue\",\"blue\",\"blue\",\"blue\",\"blue\",\"blue\",\"blue\",\"blue\",\"blue\",\"blue\",\"blue\",\"blue\",\"blue\",\"blue\",\"blue\",\"blue\",\"blue\",\"blue\",\"blue\",\"blue\",\"blue\",\"blue\",\"blue\",\"blue\",\"blue\",\"blue\",\"blue\",\"blue\",\"blue\",\"blue\",\"blue\",\"blue\",\"blue\",\"blue\",\"blue\",\"blue\",\"blue\",\"blue\",\"blue\",\"blue\",\"blue\",\"blue\",\"blue\",\"blue\",\"blue\",\"blue\",\"blue\",\"blue\",\"blue\",\"blue\",\"blue\",\"blue\",\"blue\",\"blue\",\"blue\",\"blue\",\"blue\",\"blue\",\"blue\",\"blue\",\"blue\",\"blue\",\"blue\",\"blue\",\"blue\",\"blue\",\"blue\",\"blue\",\"blue\",\"blue\",\"blue\",\"blue\",\"blue\",\"blue\",\"blue\",\"blue\",\"blue\",\"blue\",\"blue\",\"blue\",\"blue\",\"blue\",\"blue\",\"blue\",\"blue\",\"blue\",\"blue\",\"blue\",\"blue\",\"blue\",\"blue\",\"blue\",\"blue\",\"blue\",\"blue\",\"blue\",\"blue\",\"blue\",\"blue\",\"blue\",\"blue\",\"blue\",\"blue\",\"blue\",\"blue\",\"blue\",\"blue\",\"blue\",\"blue\",\"blue\",\"blue\",\"blue\",\"blue\",\"blue\",\"blue\",\"blue\",\"blue\",\"blue\",\"blue\",\"blue\",\"blue\",\"blue\",\"blue\",\"blue\",\"blue\",\"blue\",\"blue\",\"blue\",\"blue\",\"blue\",\"blue\",\"blue\",\"blue\",\"blue\",\"blue\",\"blue\",\"blue\",\"blue\",\"blue\",\"blue\",\"blue\",\"blue\",\"blue\",\"blue\",\"blue\",\"blue\",\"blue\",\"blue\",\"blue\",\"blue\",\"blue\",\"blue\",\"blue\",\"blue\",\"blue\",\"blue\",\"blue\",\"blue\",\"blue\",\"blue\",\"blue\",\"blue\",\"blue\",\"blue\",\"blue\",\"blue\",\"blue\",\"blue\",\"blue\",\"blue\",\"blue\",\"blue\",\"blue\",\"blue\",\"blue\",\"blue\",\"blue\",\"blue\",\"blue\",\"blue\",\"blue\",\"blue\",\"blue\",\"blue\",\"blue\",\"blue\",\"blue\",\"blue\",\"blue\",\"blue\",\"blue\",\"blue\",\"blue\",\"blue\",\"blue\",\"blue\",\"blue\",\"blue\",\"blue\",\"blue\",\"blue\",\"blue\",\"blue\",\"blue\",\"blue\",\"blue\",\"blue\",\"blue\",\"blue\",\"blue\",\"blue\",\"blue\",\"blue\",\"blue\",\"blue\",\"blue\",\"blue\",\"blue\",\"blue\",\"blue\",\"blue\",\"blue\",\"blue\",\"blue\",\"blue\",\"blue\",\"blue\",\"blue\",\"blue\",\"blue\",\"blue\",\"blue\",\"blue\",\"blue\",\"blue\",\"blue\",\"blue\",\"blue\",\"blue\",\"blue\",\"blue\",\"blue\",\"blue\",\"blue\",\"blue\",\"blue\",\"blue\",\"blue\",\"blue\",\"blue\",\"blue\",\"blue\",\"blue\",\"blue\",\"blue\",\"blue\",\"blue\",\"blue\",\"blue\",\"blue\",\"blue\",\"blue\",\"blue\",\"blue\",\"blue\",\"blue\",\"blue\",\"blue\",\"blue\",\"blue\",\"blue\",\"blue\",\"blue\",\"blue\",\"blue\",\"blue\",\"blue\",\"blue\",\"blue\",\"blue\",\"blue\",\"blue\",\"blue\",\"blue\",\"blue\",\"blue\",\"blue\",\"blue\",\"blue\",\"blue\",\"blue\",\"blue\",\"blue\",\"blue\",\"blue\",\"blue\",\"blue\",\"blue\",\"blue\",\"blue\",\"blue\",\"blue\",\"blue\",\"blue\",\"blue\",\"blue\",\"blue\",\"blue\",\"blue\",\"blue\",\"blue\",\"blue\",\"blue\",\"blue\",\"blue\",\"blue\",\"blue\",\"blue\",\"blue\",\"blue\",\"blue\",\"blue\",\"blue\",\"blue\",\"blue\",\"blue\",\"blue\",\"blue\",\"blue\",\"blue\",\"blue\",\"blue\",\"blue\",\"blue\",\"blue\",\"blue\",\"blue\",\"blue\",\"blue\",\"blue\",\"blue\",\"blue\",\"blue\",\"blue\",\"blue\",\"blue\",\"blue\",\"blue\",\"blue\",\"blue\",\"blue\",\"blue\",\"blue\",\"blue\",\"blue\",\"blue\",\"blue\",\"blue\",\"blue\",\"blue\",\"blue\",\"blue\",\"blue\",\"blue\",\"blue\",\"blue\",\"blue\",\"blue\",\"blue\",\"blue\",\"blue\",\"blue\",\"blue\",\"blue\",\"blue\",\"blue\",\"blue\",\"blue\",\"blue\",\"blue\",\"blue\",\"blue\",\"blue\",\"blue\",\"blue\",\"blue\",\"blue\",\"blue\",\"blue\",\"blue\",\"blue\",\"blue\",\"blue\",\"blue\",\"blue\",\"blue\",\"blue\",\"blue\",\"blue\",\"blue\",\"blue\",\"blue\",\"blue\",\"blue\",\"blue\",\"blue\",\"blue\",\"blue\",\"blue\",\"blue\",\"blue\",\"blue\",\"blue\",\"blue\",\"blue\",\"blue\",\"blue\",\"blue\",\"blue\",\"blue\",\"blue\",\"blue\",\"blue\",\"blue\",\"blue\",\"blue\",\"blue\",\"blue\",\"blue\",\"blue\",\"blue\",\"blue\",\"blue\",\"blue\",\"blue\",\"blue\",\"blue\",\"blue\",\"blue\",\"blue\",\"blue\",\"blue\",\"blue\",\"blue\",\"blue\",\"blue\",\"blue\",\"blue\",\"blue\",\"blue\",\"blue\",\"blue\",\"blue\",\"blue\",\"blue\",\"blue\",\"blue\",\"blue\",\"blue\",\"blue\",\"blue\",\"blue\",\"blue\",\"blue\",\"blue\",\"blue\",\"blue\",\"blue\",\"blue\",\"blue\",\"blue\",\"blue\",\"blue\",\"blue\",\"blue\",\"blue\",\"blue\",\"blue\",\"blue\",\"blue\",\"blue\",\"blue\",\"blue\",\"blue\",\"blue\",\"blue\",\"blue\",\"blue\",\"blue\",\"blue\",\"blue\",\"blue\",\"blue\",\"blue\",\"blue\",\"blue\",\"blue\",\"blue\",\"blue\",\"blue\",\"blue\",\"blue\",\"blue\",\"blue\",\"blue\",\"blue\",\"blue\",\"blue\",\"blue\",\"blue\",\"blue\",\"blue\",\"blue\",\"blue\",\"blue\",\"blue\",\"blue\",\"blue\",\"blue\",\"blue\",\"blue\",\"blue\",\"blue\",\"blue\",\"blue\",\"blue\",\"blue\",\"blue\",\"blue\",\"blue\",\"blue\",\"blue\",\"blue\",\"blue\",\"blue\",\"blue\",\"blue\",\"blue\",\"blue\",\"blue\",\"blue\",\"blue\",\"blue\",\"blue\",\"blue\",\"blue\",\"blue\",\"blue\",\"blue\",\"blue\",\"blue\",\"blue\",\"blue\",\"blue\",\"blue\",\"blue\",\"blue\",\"blue\",\"blue\",\"blue\",\"blue\",\"blue\",\"blue\",\"blue\",\"blue\",\"blue\",\"blue\",\"blue\",\"blue\",\"blue\",\"blue\",\"blue\",\"blue\",\"blue\",\"blue\",\"blue\",\"blue\",\"blue\",\"blue\",\"blue\",\"blue\",\"blue\",\"blue\",\"blue\",\"blue\",\"blue\",\"blue\",\"blue\",\"blue\",\"blue\",\"blue\",\"blue\",\"blue\",\"blue\",\"blue\",\"blue\",\"blue\",\"blue\",\"blue\",\"blue\",\"blue\",\"blue\",\"blue\",\"blue\",\"blue\",\"blue\",\"blue\",\"blue\",\"blue\",\"blue\",\"blue\",\"blue\",\"blue\",\"blue\",\"blue\",\"blue\",\"blue\",\"blue\",\"blue\",\"blue\",\"blue\",\"blue\",\"blue\",\"blue\",\"blue\",\"blue\",\"blue\",\"blue\",\"blue\",\"blue\",\"blue\",\"blue\",\"blue\",\"blue\",\"blue\",\"blue\",\"blue\",\"blue\",\"blue\",\"blue\",\"blue\",\"blue\",\"blue\",\"blue\",\"blue\",\"blue\",\"blue\",\"blue\",\"blue\",\"blue\",\"blue\",\"blue\",\"blue\",\"blue\",\"blue\",\"blue\",\"blue\",\"blue\",\"blue\",\"blue\",\"blue\",\"blue\",\"blue\",\"blue\",\"blue\",\"blue\",\"blue\",\"blue\",\"blue\",\"blue\",\"blue\",\"blue\",\"blue\",\"blue\",\"blue\",\"blue\",\"blue\",\"blue\",\"blue\",\"blue\",\"blue\",\"blue\",\"blue\",\"blue\",\"blue\",\"blue\",\"blue\",\"blue\",\"blue\",\"blue\",\"blue\",\"blue\",\"blue\",\"blue\",\"blue\",\"blue\",\"blue\",\"blue\",\"blue\",\"blue\",\"blue\",\"blue\",\"blue\",\"blue\",\"blue\",\"blue\",\"blue\",\"blue\",\"blue\",\"blue\",\"blue\",\"blue\",\"blue\",\"blue\",\"blue\",\"blue\",\"blue\",\"blue\",\"blue\",\"blue\",\"blue\",\"blue\",\"blue\",\"blue\",\"blue\",\"blue\",\"blue\",\"blue\",\"blue\",\"blue\",\"blue\",\"blue\",\"blue\",\"blue\",\"blue\",\"blue\",\"blue\",\"blue\",\"blue\",\"blue\",\"blue\",\"blue\",\"blue\",\"blue\",\"blue\",\"blue\",\"blue\",\"blue\",\"blue\",\"blue\",\"blue\",\"blue\",\"blue\",\"blue\",\"blue\",\"blue\",\"blue\",\"blue\",\"blue\",\"blue\",\"blue\",\"blue\",\"blue\",\"blue\",\"blue\",\"blue\",\"blue\",\"blue\",\"blue\",\"blue\",\"blue\",\"blue\",\"blue\",\"blue\",\"blue\",\"blue\",\"blue\",\"blue\",\"blue\",\"blue\",\"blue\",\"blue\",\"blue\",\"blue\",\"blue\",\"blue\",\"blue\",\"blue\",\"blue\",\"blue\",\"blue\",\"blue\",\"blue\",\"blue\",\"blue\",\"blue\",\"blue\",\"blue\",\"blue\",\"blue\",\"blue\",\"blue\",\"blue\",\"blue\",\"blue\",\"blue\",\"blue\",\"blue\",\"blue\",\"blue\",\"blue\",\"blue\",\"blue\",\"blue\",\"blue\",\"blue\",\"blue\",\"blue\",\"blue\",\"blue\",\"blue\",\"blue\",\"blue\",\"blue\",\"blue\",\"blue\",\"blue\",\"blue\",\"blue\",\"blue\",\"blue\",\"blue\",\"blue\",\"blue\",\"blue\",\"blue\",\"blue\",\"blue\",\"blue\",\"blue\",\"blue\",\"blue\",\"blue\",\"blue\",\"blue\",\"blue\",\"blue\",\"blue\",\"blue\",\"blue\",\"blue\",\"blue\",\"blue\",\"blue\",\"blue\",\"blue\",\"blue\",\"blue\",\"blue\",\"blue\",\"blue\",\"blue\",\"blue\",\"blue\",\"blue\",\"blue\",\"blue\",\"blue\",\"blue\",\"blue\",\"blue\",\"blue\",\"blue\",\"blue\",\"blue\",\"blue\",\"blue\",\"blue\",\"blue\",\"blue\",\"blue\",\"blue\",\"blue\",\"blue\",\"blue\",\"blue\",\"blue\",\"blue\",\"blue\",\"blue\",\"blue\",\"blue\",\"blue\",\"blue\",\"blue\",\"blue\",\"blue\",\"blue\",\"blue\",\"blue\",\"blue\",\"blue\",\"blue\",\"blue\",\"blue\",\"blue\",\"blue\",\"blue\",\"blue\",\"blue\",\"blue\",\"blue\",\"blue\",\"blue\",\"blue\",\"blue\",\"blue\",\"blue\",\"blue\",\"blue\",\"blue\",\"blue\",\"blue\",\"blue\",\"blue\",\"blue\",\"blue\",\"blue\",\"blue\",\"blue\",\"blue\",\"blue\",\"blue\",\"blue\",\"blue\",\"blue\",\"blue\",\"blue\",\"blue\",\"blue\",\"blue\",\"blue\",\"blue\",\"blue\",\"blue\",\"blue\",\"blue\",\"blue\",\"blue\",\"blue\",\"blue\",\"blue\",\"blue\",\"blue\",\"blue\",\"blue\",\"blue\",\"blue\",\"blue\",\"blue\",\"blue\",\"blue\",\"blue\",\"blue\",\"blue\",\"blue\",\"blue\",\"blue\",\"blue\",\"blue\",\"blue\",\"blue\",\"blue\",\"blue\",\"blue\",\"blue\",\"blue\",\"blue\",\"blue\",\"blue\",\"blue\",\"blue\",\"blue\",\"blue\",\"blue\",\"blue\",\"blue\",\"blue\",\"blue\",\"blue\",\"blue\",\"blue\",\"blue\",\"blue\",\"blue\",\"blue\",\"blue\",\"blue\",\"blue\",\"blue\",\"blue\",\"blue\",\"blue\",\"blue\",\"blue\",\"blue\",\"blue\",\"blue\",\"blue\",\"blue\",\"blue\",\"blue\",\"blue\",\"blue\",\"blue\",\"blue\",\"blue\",\"blue\",\"blue\",\"blue\",\"blue\",\"blue\",\"blue\",\"blue\",\"blue\",\"blue\",\"blue\",\"blue\",\"blue\",\"blue\",\"blue\",\"blue\",\"blue\",\"blue\",\"blue\",\"blue\",\"blue\",\"blue\",\"blue\",\"blue\",\"blue\",\"blue\",\"blue\",\"blue\",\"blue\",\"blue\",\"blue\",\"blue\",\"blue\",\"blue\",\"blue\",\"blue\",\"blue\",\"blue\",\"blue\",\"blue\",\"blue\",\"blue\",\"blue\",\"blue\",\"blue\",\"blue\",\"blue\",\"blue\",\"blue\",\"blue\",\"blue\",\"blue\",\"blue\",\"blue\",\"blue\",\"blue\",\"blue\",\"blue\",\"blue\",\"blue\",\"blue\",\"blue\",\"blue\",\"blue\",\"blue\",\"blue\",\"blue\",\"blue\",\"blue\",\"blue\",\"blue\",\"blue\",\"blue\",\"blue\",\"blue\",\"blue\",\"blue\",\"blue\",\"blue\",\"blue\",\"blue\",\"blue\",\"blue\",\"blue\",\"blue\",\"blue\",\"blue\",\"blue\",\"blue\",\"blue\",\"blue\",\"blue\",\"blue\",\"blue\",\"blue\",\"blue\",\"blue\",\"blue\",\"blue\",\"blue\",\"blue\",\"blue\",\"blue\",\"blue\",\"blue\",\"blue\",\"blue\",\"blue\",\"blue\",\"blue\",\"blue\",\"blue\",\"blue\",\"blue\",\"blue\",\"blue\",\"blue\",\"blue\",\"blue\",\"blue\",\"blue\",\"blue\",\"blue\",\"blue\",\"blue\",\"blue\",\"blue\",\"blue\",\"blue\",\"blue\",\"blue\",\"blue\",\"blue\",\"blue\",\"blue\",\"blue\",\"blue\",\"blue\",\"blue\",\"blue\",\"blue\",\"blue\",\"blue\",\"blue\",\"blue\",\"blue\",\"blue\",\"blue\",\"blue\",\"blue\",\"blue\",\"blue\",\"blue\",\"blue\",\"blue\",\"blue\",\"blue\",\"blue\",\"blue\",\"blue\",\"blue\",\"blue\",\"blue\",\"blue\",\"blue\",\"blue\",\"blue\",\"blue\",\"blue\",\"blue\",\"blue\",\"blue\",\"blue\",\"blue\",\"blue\",\"blue\",\"blue\",\"blue\",\"blue\",\"blue\",\"blue\",\"blue\",\"blue\",\"blue\",\"blue\",\"blue\",\"blue\",\"blue\",\"blue\",\"blue\",\"blue\",\"blue\",\"blue\",\"blue\",\"blue\",\"blue\",\"blue\",\"blue\",\"blue\",\"blue\",\"blue\",\"blue\",\"blue\",\"blue\",\"blue\",\"blue\",\"blue\",\"blue\",\"blue\",\"blue\",\"blue\",\"blue\",\"blue\",\"blue\",\"blue\",\"blue\",\"blue\",\"blue\",\"blue\",\"blue\",\"blue\",\"blue\",\"blue\",\"blue\",\"blue\",\"blue\",\"blue\",\"blue\",\"blue\",\"blue\",\"blue\",\"blue\",\"blue\",\"blue\",\"blue\",\"blue\",\"blue\",\"blue\",\"blue\",\"blue\",\"blue\",\"blue\",\"blue\",\"blue\",\"blue\",\"blue\",\"blue\",\"blue\",\"blue\",\"blue\",\"blue\",\"blue\",\"blue\",\"blue\",\"blue\",\"blue\",\"blue\",\"blue\",\"blue\",\"blue\",\"blue\",\"blue\",\"blue\",\"blue\",\"blue\",\"blue\",\"blue\",\"blue\",\"blue\",\"blue\",\"blue\",\"blue\",\"blue\",\"blue\",\"blue\",\"blue\",\"blue\",\"blue\",\"blue\",\"blue\",\"blue\",\"blue\",\"blue\",\"blue\",\"blue\",\"blue\",\"blue\",\"blue\",\"blue\",\"blue\",\"blue\",\"blue\",\"blue\",\"blue\",\"blue\",\"blue\",\"blue\",\"blue\",\"blue\",\"blue\",\"blue\",\"blue\",\"blue\",\"blue\",\"blue\",\"blue\",\"blue\",\"blue\",\"blue\",\"blue\",\"blue\",\"blue\",\"blue\",\"blue\",\"blue\",\"blue\",\"blue\",\"blue\",\"blue\",\"blue\",\"blue\",\"blue\",\"blue\",\"blue\",\"blue\",\"blue\",\"blue\",\"blue\",\"blue\",\"blue\",\"blue\",\"blue\",\"blue\",\"blue\",\"blue\",\"blue\",\"blue\",\"blue\",\"blue\",\"blue\",\"blue\",\"blue\",\"blue\",\"blue\",\"blue\",\"blue\",\"blue\",\"blue\",\"blue\",\"blue\",\"blue\",\"blue\",\"blue\",\"blue\",\"blue\",\"blue\",\"blue\",\"blue\",\"blue\",\"blue\",\"blue\",\"blue\",\"blue\",\"blue\",\"blue\",\"blue\",\"blue\",\"blue\",\"blue\",\"blue\",\"blue\",\"blue\",\"blue\",\"blue\",\"blue\",\"blue\",\"blue\",\"blue\",\"blue\",\"blue\",\"blue\",\"blue\",\"blue\",\"blue\",\"blue\",\"blue\",\"blue\",\"blue\",\"blue\",\"blue\",\"blue\",\"blue\",\"blue\",\"blue\",\"blue\",\"blue\",\"blue\",\"blue\",\"blue\",\"blue\",\"blue\",\"blue\",\"blue\",\"blue\",\"blue\",\"blue\",\"blue\",\"blue\",\"blue\",\"blue\",\"blue\",\"blue\",\"blue\",\"blue\",\"blue\",\"blue\",\"blue\",\"blue\",\"blue\",\"blue\",\"blue\",\"blue\",\"blue\",\"blue\",\"blue\",\"blue\",\"blue\",\"blue\",\"blue\",\"blue\",\"blue\",\"blue\",\"blue\",\"blue\",\"blue\",\"blue\",\"blue\",\"blue\",\"blue\",\"blue\",\"blue\",\"blue\",\"blue\",\"blue\",\"blue\",\"blue\",\"blue\",\"blue\",\"blue\",\"blue\",\"blue\",\"blue\",\"blue\",\"blue\",\"blue\",\"blue\",\"blue\",\"blue\",\"blue\",\"blue\",\"blue\",\"blue\",\"blue\",\"blue\",\"blue\",\"blue\",\"blue\",\"blue\",\"blue\",\"blue\",\"blue\",\"blue\",\"blue\",\"blue\",\"blue\",\"blue\",\"blue\",\"blue\",\"blue\",\"blue\",\"blue\",\"blue\",\"blue\",\"blue\",\"blue\",\"blue\",\"blue\",\"blue\",\"blue\",\"blue\",\"blue\",\"blue\",\"blue\",\"blue\",\"blue\",\"blue\",\"blue\",\"blue\",\"blue\",\"blue\",\"blue\",\"blue\",\"blue\",\"blue\",\"blue\",\"blue\",\"blue\",\"blue\",\"blue\",\"blue\",\"blue\",\"blue\",\"blue\",\"blue\",\"blue\",\"blue\",\"blue\",\"blue\",\"blue\",\"blue\",\"blue\",\"blue\",\"blue\",\"blue\",\"blue\",\"blue\",\"blue\",\"blue\",\"blue\",\"blue\",\"blue\",\"blue\",\"blue\",\"blue\",\"blue\",\"blue\",\"blue\",\"blue\",\"blue\",\"blue\",\"blue\",\"blue\",\"blue\",\"blue\",\"blue\",\"blue\",\"blue\",\"blue\",\"blue\",\"blue\",\"blue\",\"blue\",\"blue\",\"blue\",\"blue\",\"blue\",\"blue\",\"blue\",\"blue\",\"blue\",\"blue\",\"blue\",\"blue\",\"blue\",\"blue\",\"blue\",\"blue\",\"blue\",\"blue\",\"blue\",\"blue\",\"blue\",\"blue\",\"blue\",\"blue\",\"blue\",\"blue\",\"blue\",\"blue\",\"blue\",\"blue\",\"blue\",\"blue\",\"blue\",\"blue\",\"blue\",\"blue\",\"blue\",\"blue\",\"blue\",\"blue\",\"blue\",\"blue\",\"blue\",\"blue\",\"blue\",\"blue\",\"blue\",\"blue\",\"blue\",\"blue\",\"blue\",\"blue\",\"blue\",\"blue\",\"blue\",\"blue\",\"blue\",\"blue\",\"blue\",\"blue\",\"blue\",\"blue\",\"blue\",\"blue\",\"blue\",\"blue\",\"blue\",\"blue\",\"blue\",\"blue\",\"blue\",\"blue\",\"blue\",\"blue\",\"blue\",\"blue\",\"blue\",\"blue\",\"blue\",\"blue\",\"blue\",\"blue\",\"blue\",\"blue\",\"blue\",\"blue\",\"blue\",\"blue\",\"blue\",\"blue\",\"blue\",\"blue\",\"blue\",\"blue\",\"blue\",\"blue\",\"blue\",\"blue\",\"blue\",\"blue\",\"blue\",\"blue\",\"blue\",\"blue\",\"blue\",\"blue\",\"blue\",\"blue\",\"blue\",\"blue\",\"blue\",\"blue\",\"blue\",\"blue\",\"blue\",\"blue\",\"blue\",\"blue\",\"blue\",\"blue\",\"blue\",\"blue\",\"blue\",\"blue\",\"blue\",\"blue\",\"blue\",\"blue\",\"blue\",\"blue\",\"blue\",\"blue\",\"blue\",\"blue\",\"blue\",\"blue\",\"blue\",\"blue\",\"blue\",\"blue\",\"blue\",\"blue\",\"blue\",\"blue\",\"blue\",\"blue\",\"blue\",\"blue\",\"blue\",\"blue\",\"blue\",\"blue\",\"blue\",\"blue\",\"blue\",\"blue\",\"blue\",\"blue\",\"blue\",\"blue\",\"blue\",\"blue\",\"blue\",\"blue\",\"blue\",\"blue\",\"blue\",\"blue\",\"blue\",\"blue\",\"blue\",\"blue\",\"blue\",\"blue\",\"blue\",\"blue\",\"blue\",\"blue\",\"blue\",\"blue\",\"blue\",\"blue\",\"blue\",\"blue\",\"blue\",\"blue\",\"blue\",\"blue\",\"blue\",\"blue\",\"blue\",\"blue\",\"blue\",\"blue\",\"blue\",\"blue\",\"blue\",\"blue\",\"blue\",\"blue\",\"blue\",\"blue\",\"blue\",\"blue\",\"blue\",\"blue\",\"blue\",\"blue\",\"blue\",\"blue\",\"blue\",\"blue\",\"blue\",\"blue\",\"blue\",\"blue\",\"blue\",\"blue\",\"blue\",\"blue\",\"blue\",\"blue\",\"blue\",\"blue\",\"blue\",\"blue\",\"blue\",\"blue\",\"blue\",\"blue\",\"blue\",\"blue\",\"blue\",\"blue\",\"blue\",\"blue\",\"blue\",\"blue\",\"blue\",\"blue\",\"blue\",\"blue\",\"blue\",\"blue\",\"blue\",\"blue\",\"blue\",\"blue\",\"blue\",\"blue\",\"blue\",\"blue\",\"blue\",\"blue\",\"blue\",\"blue\",\"blue\",\"blue\",\"blue\",\"blue\",\"blue\",\"blue\",\"blue\",\"blue\",\"blue\",\"blue\",\"blue\",\"blue\",\"blue\",\"blue\",\"blue\",\"blue\",\"blue\",\"blue\",\"blue\",\"blue\",\"blue\",\"blue\",\"blue\",\"blue\",\"blue\",\"blue\",\"blue\",\"blue\",\"blue\",\"blue\",\"blue\",\"blue\",\"blue\",\"blue\",\"blue\",\"blue\",\"blue\",\"blue\",\"blue\",\"blue\",\"blue\",\"blue\",\"blue\",\"blue\",\"blue\",\"blue\",\"blue\",\"blue\",\"blue\",\"blue\",\"blue\",\"blue\",\"blue\",\"blue\",\"blue\",\"blue\",\"blue\",\"blue\",\"blue\",\"blue\",\"blue\",\"blue\",\"blue\",\"blue\",\"blue\",\"blue\",\"blue\",\"blue\",\"blue\",\"blue\",\"blue\",\"blue\",\"blue\",\"blue\",\"blue\",\"blue\",\"blue\",\"blue\",\"blue\",\"blue\",\"blue\",\"blue\",\"blue\",\"blue\",\"blue\",\"blue\",\"blue\",\"blue\",\"blue\",\"blue\",\"blue\",\"blue\",\"blue\",\"blue\",\"blue\",\"blue\",\"blue\",\"blue\",\"blue\",\"blue\",\"blue\",\"blue\",\"blue\",\"blue\",\"blue\",\"blue\",\"blue\",\"blue\",\"blue\",\"blue\",\"blue\",\"blue\",\"blue\",\"blue\",\"blue\",\"blue\",\"blue\",\"blue\",\"blue\",\"blue\",\"blue\",\"blue\",\"blue\",\"blue\",\"blue\",\"blue\",\"blue\",\"blue\",\"blue\",\"blue\",\"blue\",\"blue\",\"blue\",\"blue\",\"blue\",\"blue\",\"blue\",\"blue\",\"blue\",\"blue\",\"blue\",\"blue\",\"blue\",\"blue\",\"blue\",\"blue\",\"blue\",\"blue\",\"blue\",\"blue\",\"blue\",\"blue\",\"blue\",\"blue\",\"blue\",\"blue\",\"blue\",\"blue\",\"blue\",\"blue\",\"blue\",\"blue\",\"blue\",\"blue\",\"blue\",\"blue\",\"blue\",\"blue\",\"blue\",\"blue\",\"blue\",\"blue\",\"blue\",\"blue\",\"blue\",\"blue\",\"blue\",\"blue\",\"blue\",\"blue\",\"blue\",\"blue\",\"blue\",\"blue\",\"blue\",\"blue\",\"blue\",\"blue\",\"blue\",\"blue\",\"blue\",\"blue\",\"blue\",\"blue\",\"blue\",\"blue\",\"blue\",\"blue\",\"blue\",\"blue\",\"blue\",\"blue\",\"blue\",\"blue\",\"blue\",\"blue\",\"blue\",\"blue\",\"blue\",\"blue\",\"blue\",\"blue\",\"blue\",\"blue\",\"blue\",\"blue\",\"blue\",\"blue\",\"blue\",\"blue\",\"blue\",\"blue\",\"blue\",\"blue\",\"blue\",\"blue\",\"blue\",\"blue\",\"blue\",\"blue\",\"blue\",\"blue\",\"blue\",\"blue\",\"blue\",\"blue\",\"blue\",\"blue\",\"blue\",\"blue\",\"blue\",\"blue\",\"blue\",\"blue\",\"blue\",\"blue\",\"blue\",\"blue\",\"blue\",\"blue\",\"blue\",\"blue\",\"blue\",\"blue\",\"blue\",\"blue\",\"blue\",\"blue\",\"blue\",\"blue\",\"blue\",\"blue\",\"blue\",\"blue\",\"blue\",\"blue\",\"blue\",\"blue\",\"blue\",\"blue\",\"blue\",\"blue\",\"blue\",\"blue\",\"blue\",\"blue\",\"blue\",\"blue\",\"blue\",\"blue\",\"blue\",\"blue\",\"blue\",\"blue\",\"blue\",\"blue\",\"blue\",\"blue\",\"blue\",\"blue\",\"blue\",\"blue\",\"blue\",\"blue\",\"blue\",\"blue\",\"blue\",\"blue\",\"blue\",\"blue\",\"blue\",\"blue\",\"blue\",\"blue\",\"blue\",\"blue\",\"blue\",\"blue\",\"blue\",\"blue\",\"blue\",\"blue\",\"blue\",\"blue\",\"blue\",\"blue\",\"blue\",\"blue\",\"blue\",\"blue\",\"blue\",\"blue\",\"blue\",\"blue\",\"blue\",\"blue\",\"blue\",\"blue\",\"blue\",\"blue\",\"blue\",\"blue\",\"blue\",\"blue\",\"blue\",\"blue\",\"blue\",\"blue\",\"blue\",\"blue\",\"blue\",\"blue\",\"blue\",\"blue\",\"blue\",\"blue\",\"blue\",\"blue\",\"blue\",\"blue\",\"blue\",\"blue\",\"blue\",\"blue\",\"blue\",\"blue\",\"blue\",\"blue\",\"blue\",\"blue\",\"blue\",\"blue\",\"blue\",\"blue\",\"blue\",\"blue\",\"blue\",\"blue\",\"blue\",\"blue\",\"blue\",\"blue\",\"blue\",\"blue\",\"blue\",\"blue\",\"blue\",\"blue\",\"blue\",\"blue\",\"blue\",\"blue\",\"blue\",\"blue\",\"blue\",\"blue\",\"blue\",\"blue\",\"blue\",\"blue\",\"blue\",\"blue\",\"blue\",\"blue\",\"blue\",\"blue\",\"blue\",\"blue\",\"blue\",\"blue\",\"blue\",\"blue\",\"blue\",\"blue\",\"blue\",\"blue\",\"blue\",\"blue\",\"blue\",\"blue\",\"blue\",\"blue\",\"blue\",\"blue\",\"blue\",\"blue\",\"blue\",\"blue\",\"blue\",\"blue\",\"blue\",\"blue\",\"blue\",\"blue\",\"blue\",\"blue\",\"blue\",\"blue\",\"blue\",\"blue\",\"blue\",\"blue\",\"blue\",\"blue\",\"blue\",\"blue\",\"blue\",\"blue\",\"blue\",\"blue\",\"blue\",\"blue\",\"blue\",\"blue\",\"blue\",\"blue\",\"blue\",\"blue\",\"blue\",\"blue\",\"blue\",\"blue\",\"blue\",\"blue\",\"blue\",\"blue\",\"blue\",\"blue\",\"blue\",\"blue\",\"blue\",\"blue\",\"blue\",\"blue\",\"blue\",\"blue\",\"blue\",\"blue\",\"blue\",\"blue\",\"blue\",\"blue\",\"blue\",\"blue\",\"blue\",\"blue\",\"blue\",\"blue\",\"blue\",\"blue\",\"blue\",\"blue\",\"blue\",\"blue\",\"blue\",\"blue\",\"blue\",\"blue\",\"blue\",\"blue\",\"blue\",\"blue\",\"blue\",\"blue\",\"blue\",\"blue\",\"blue\",\"blue\",\"blue\",\"blue\",\"blue\",\"blue\",\"blue\",\"blue\",\"blue\",\"blue\",\"blue\",\"blue\",\"blue\",\"blue\",\"blue\",\"blue\",\"blue\",\"blue\",\"blue\",\"blue\",\"blue\",\"blue\",\"blue\",\"blue\",\"blue\",\"blue\",\"blue\",\"blue\",\"blue\",\"blue\",\"blue\",\"blue\",\"blue\",\"blue\",\"blue\",\"blue\",\"blue\",\"blue\",\"blue\",\"blue\",\"blue\",\"blue\",\"blue\",\"blue\",\"blue\",\"blue\",\"blue\",\"blue\",\"blue\",\"blue\",\"blue\",\"blue\",\"blue\",\"blue\",\"blue\",\"blue\",\"blue\",\"blue\",\"blue\",\"blue\",\"blue\",\"blue\",\"blue\",\"blue\",\"blue\",\"blue\",\"blue\",\"blue\",\"blue\",\"blue\",\"blue\",\"blue\",\"blue\",\"blue\",\"blue\",\"blue\",\"blue\",\"blue\",\"blue\",\"blue\",\"blue\",\"blue\",\"blue\",\"blue\",\"blue\",\"blue\",\"blue\",\"blue\",\"blue\",\"blue\",\"blue\",\"blue\",\"blue\",\"blue\",\"blue\",\"blue\",\"blue\",\"blue\",\"blue\",\"blue\",\"blue\",\"blue\",\"blue\",\"blue\",\"blue\",\"blue\",\"blue\",\"blue\",\"blue\",\"blue\",\"blue\",\"blue\",\"blue\",\"blue\",\"blue\",\"blue\",\"blue\",\"blue\",\"blue\",\"blue\",\"blue\",\"blue\",\"blue\",\"blue\",\"blue\",\"blue\",\"blue\",\"blue\",\"blue\",\"blue\",\"blue\",\"blue\",\"blue\",\"blue\",\"blue\",\"blue\",\"blue\",\"blue\",\"blue\"]],[\"token\",[\"verified\",\"2gb\",\"illinois\",\"jazz\",\"checking\",\"telescope\",\"seasons\",\"astrologer\",\"contribution\",\"homemade\",\"heroes\",\"warcraft\",\"kumar\",\"tester\",\"politically\",\"conquer\",\"columbia\",\"quiet\",\"repeat\",\"kapil\",\"involve\",\"mckinsey\",\"switched\",\"att\",\"instance\",\"innocent\",\"portuguese\",\"subscribers\",\"cabinet\",\"terror\",\"85\",\"rotation\",\"shirts\",\"drawn\",\"bi\",\"aspergers\",\"inspiration\",\"beats\",\"\\u00a3\",\"approximately\",\"asset\",\"empathy\",\"rooting\",\"ia\",\"dandruff\",\"slab\",\"operator\",\"horrible\",\"dominant\",\"ocd\",\"spacetime\",\"blow\",\"installing\",\"learnt\",\"separation\",\"institution\",\"temples\",\"hons\",\"pound\",\"removing\",\"unemployment\",\"greenlit\",\"audit\",\"supplement\",\"roller\",\"dota\",\"tiny\",\"equally\",\"braces\",\"aggressive\",\"corn\",\"camps\",\"additional\",\"consent\",\"granted\",\"welfare\",\"myths\",\"stations\",\"timeline\",\"psychologist\",\"nagpur\",\"herself\",\"cooper\",\"exgirlfriend\",\"intercourse\",\"flip\",\"hurts\",\"lpa\",\"nerve\",\"tvs\",\"halloween\",\"screenshot\",\"biomedical\",\"covered\",\"milky\",\"onsite\",\"aside\",\"meaningful\",\"stretch\",\"joker\",\"encounter\",\"tone\",\"founders\",\"talked\",\"respectively\",\"downloads\",\"cocaine\",\"toxic\",\"sword\",\"fuck\",\"trainer\",\"partition\",\"boxing\",\"grid\",\"practicing\",\"menu\",\"cms\",\"indore\",\"ate\",\"volunteer\",\"misconceptions\",\"pics\",\"flies\",\"instantly\",\"trans\",\"friday\",\"sociopaths\",\"ctc\",\"hoax\",\"detailed\",\"sizes\",\"rejection\",\"limitations\",\"bharat\",\"kissing\",\"renewable\",\"oriented\",\"countrys\",\"dumps\",\"spiders\",\"technological\",\"advertisement\",\"headache\",\"zodiac\",\"accommodation\",\"venus\",\"calcium\",\"passenger\",\"falls\",\"overnight\",\"pickup\",\"gary\",\"transportation\",\"odds\",\"jupiter\",\"purchasing\",\"fluently\",\"flu\",\"photons\",\"conductor\",\"ohio\",\"balaji\",\"mcdonalds\",\"betting\",\"irrational\",\"sachin\",\"deactivate\",\"estimate\",\"hairs\",\"fluent\",\"errors\",\"remaining\",\"marriages\",\"medieval\",\"charles\",\"spider\",\"oxford\",\"gita\",\"races\",\"liquor\",\"poland\",\"lease\",\"co2\",\"selenium\",\"attempts\",\"crystal\",\"manaphy\",\"knight\",\"collapsed\",\"wheels\",\"behaviour\",\"bitcoins\",\"parliament\",\"himher\",\"handsome\",\"thousands\",\"caring\",\"kings\",\"lucky\",\"workplace\",\"condom\",\"intuitive\",\"chronic\",\"eyesight\",\"simulation\",\"prank\",\"quickest\",\"concert\",\"popularity\",\"connections\",\"disorders\",\"scripting\",\"appearance\",\"js\",\"depth\",\"cheque\",\"longterm\",\"documentaries\",\"dioxide\",\"bright\",\"info\",\"diseases\",\"appeal\",\"snap\",\"smoked\",\"singers\",\"boil\",\"probably\",\"temperatures\",\"appearing\",\"olive\",\"ntse\",\"telecom\",\"brief\",\"discrimination\",\"ethnic\",\"cache\",\"passionate\",\"shoulder\",\"assault\",\"marshmallow\",\"momentum\",\"yr\",\"migrate\",\"retire\",\"cet\",\"canvas\",\"vietnamese\",\"institutions\",\"meter\",\"roots\",\"integer\",\"imported\",\"ants\",\"lyft\",\"piercing\",\"il\",\"poop\",\"organisms\",\"ve\",\"entropy\",\"calm\",\"saddest\",\"toward\",\"myth\",\"sight\",\"filling\",\"hdmi\",\"satisfied\",\"transactions\",\"pharmacy\",\"nursing\",\"correlation\",\"regression\",\"awake\",\"md\",\"nri\",\"recommendations\",\"bin\",\"finland\",\"multi\",\"voted\",\"discovery\",\"edward\",\"touching\",\"immigrant\",\"geometry\",\"indicate\",\"ourselves\",\"texting\",\"seek\",\"expecting\",\"dj\",\"brake\",\"helicopter\",\"blonde\",\"triple\",\"ladies\",\"vivekananda\",\"switching\",\"prostitution\",\"banana\",\"magazines\",\"shippuden\",\"lucknow\",\"2019\",\"failing\",\"elizabeth\",\"irish\",\"ebook\",\"temporary\",\"governor\",\"wasting\",\"weekends\",\"cpt\",\"wax\",\"labor\",\"instruments\",\"instrumentation\",\"hates\",\"hip\",\"arnab\",\"bubble\",\"employers\",\"aadhaar\",\"boyfriends\",\"jake\",\"explained\",\"yesterday\",\"beta\",\"extrovert\",\"andhra\",\"micromax\",\"vertical\",\"lay\",\"nonprofit\",\"dubbed\",\"typing\",\"automotive\",\"thomas\",\"procedures\",\"priority\",\"funded\",\"arabs\",\"siblings\",\"guinea\",\"missile\",\"luck\",\"strategic\",\"defend\",\"module\",\"tuition\",\"acids\",\"controller\",\"committee\",\"housing\",\"integral\",\"peaceful\",\"refugees\",\"prescription\",\"interns\",\"supported\",\"womans\",\"dentist\",\"wives\",\"village\",\"affecting\",\"lte\",\"beaches\",\"austin\",\"substance\",\"engagement\",\"trainee\",\"measures\",\"trailer\",\"purchased\",\"15000\",\"uttar\",\"glue\",\"dtu\",\"medal\",\"photon\",\"engg\",\"violin\",\"column\",\"somehow\",\"rotate\",\"3000\",\"virat\",\"forgotten\",\"fingers\",\"slim\",\"arrest\",\"covalent\",\"ncert\",\"kernel\",\"da\",\"alarm\",\"ngo\",\"4gb\",\"productivity\",\"planned\",\"district\",\"berlin\",\"lists\",\"leads\",\"slang\",\"defence\",\"aspiring\",\"56\",\"enemy\",\"farming\",\"muller\",\"pays\",\"liver\",\"membrane\",\"secretly\",\"plug\",\"gum\",\"eclipse\",\"chewing\",\"labs\",\"zombie\",\"authority\",\"males\",\"argentina\",\"tasks\",\"fell\",\"nails\",\"palestine\",\"tanks\",\"identical\",\"deck\",\"qualification\",\"leadership\",\"kohli\",\"pronunciation\",\"hello\",\"violent\",\"sabha\",\"respiration\",\"transform\",\"warranty\",\"faculty\",\"adolf\",\"expenses\",\"jersey\",\"mercury\",\"whiskey\",\"tackle\",\"tweet\",\"blame\",\"cruise\",\"mahindra\",\"discharge\",\"reduced\",\"vodka\",\"mahatma\",\"bass\",\"compete\",\"stains\",\"pill\",\"swim\",\"ali\",\"gf\",\"ford\",\"prince\",\"sweat\",\"performing\",\"limits\",\"leonardo\",\"cow\",\"resolve\",\"matters\",\"pharmaceutical\",\"ray\",\"remotely\",\"pf\",\"clinical\",\"bpo\",\"homeless\",\"husbands\",\"rising\",\"newtons\",\"outcome\",\"derivative\",\"alpha\",\"grown\",\"capitalism\",\"astronaut\",\"hybrid\",\"palm\",\"teens\",\"hits\",\"airplanes\",\"none\",\"admin\",\"applicable\",\"amcat\",\"spam\",\"neutrality\",\"pixel\",\"festival\",\"faces\",\"molar\",\"snakes\",\"sip\",\"kik\",\"farm\",\"ltd\",\"votes\",\"publishing\",\"comfort\",\"frontend\",\"spin\",\"diagnosed\",\"buildings\",\"\\u00b0\",\"cashless\",\"addictive\",\"extinct\",\"ugc\",\"coke\",\"llb\",\"phrases\",\"struggle\",\"drives\",\"fiber\",\"grocery\",\"achieved\",\"penny\",\"bath\",\"allies\",\"uninstall\",\"ny\",\"appears\",\"effort\",\"satellites\",\"confirmed\",\"loneliness\",\"illuminati\",\"uri\",\"lucid\",\"preferably\",\"neither\",\"\\u221a\",\"pacific\",\"americas\",\"bs\",\"graduated\",\"bills\",\"tube\",\"germans\",\"assume\",\"cleared\",\"mate\",\"divide\",\"versions\",\"fallen\",\"journey\",\"anthem\",\"certificates\",\"looked\",\"sponsor\",\"useless\",\"dependent\",\"invite\",\"guru\",\"keyword\",\"aipmt\",\"clone\",\"kgs\",\"chip\",\"origins\",\"wide\",\"motivational\",\"elite\",\"wanna\",\"unity\",\"cough\",\"connecting\",\"mystery\",\"kim\",\"syrian\",\"voldemort\",\"responsibilities\",\"molecules\",\"boobs\",\"holidays\",\"tutorial\",\"circumstances\",\"fiitjee\",\"islands\",\"bypass\",\"slowly\",\"mixture\",\"aluminum\",\"salesforce\",\"twin\",\"iot\",\"remedy\",\"sheets\",\"pole\",\"hated\",\"females\",\"protected\",\"irs\",\"insecure\",\"entering\",\"neuroscience\",\"offices\",\"delta\",\"suggestion\",\"snapdeal\",\"backstory\",\"periodic\",\"cancelled\",\"mans\",\"complicated\",\"bitsat\",\"pleasure\",\"loop\",\"dropbox\",\"selfish\",\"nude\",\"20000\",\"voter\",\"variables\",\"victory\",\"closest\",\"compensation\",\"extended\",\"locations\",\"cracked\",\"perks\",\"ended\",\"exit\",\"awareness\",\"pakistanis\",\"ebooks\",\"bull\",\"unblock\",\"100000\",\"entrepreneurship\",\"infrastructure\",\"scotland\",\"guest\",\"attacked\",\"hurting\",\"lion\",\"reject\",\"purposes\",\"knife\",\"thai\",\"ipl\",\"knee\",\"accepting\",\"spent\",\"punjabi\",\"tab\",\"quoras\",\"caffeine\",\"athletes\",\"ink\",\"cooked\",\"improving\",\"invaded\",\"allah\",\"thermodynamics\",\"mortgage\",\"firsttime\",\"achievements\",\"issued\",\"breath\",\"award\",\"llc\",\"legends\",\"mood\",\"influenced\",\"proteins\",\"holy\",\"performed\",\"pee\",\"blocks\",\"molecule\",\"interests\",\"imei\",\"requires\",\"cisco\",\"moves\",\"marrying\",\"mca\",\"perfectly\",\"iisc\",\"corporation\",\"shiva\",\"viruses\",\"difficulty\",\"50000\",\"volte\",\"shampoo\",\"secular\",\"transplant\",\"ghz\",\"ahead\",\"crew\",\"interact\",\"depend\",\"hawaii\",\"hiv\",\"evening\",\"vegetable\",\"revenge\",\"suppose\",\"busy\",\"label\",\"rogue\",\"rational\",\"hillstation\",\"brains\",\"urdu\",\"imagine\",\"salaries\",\"survey\",\"g4\",\"butt\",\"manufacturers\",\"saas\",\"residency\",\"recommendation\",\"purple\",\"fault\",\"aadhar\",\"aging\",\"bhopal\",\"conducted\",\"loses\",\"infection\",\"forest\",\"impacts\",\"collection\",\"fridge\",\"diamond\",\"mis\",\"recorded\",\"march\",\"conditioner\",\"signature\",\"listed\",\"branches\",\"manchester\",\"wanting\",\"perception\",\"absolutely\",\"servers\",\"soluble\",\"swami\",\"lumia\",\"directors\",\"52\",\"2008\",\"gaining\",\"stereotypes\",\"homes\",\"vegas\",\"jam\",\"behave\",\"relatively\",\"forum\",\"ib\",\"earphones\",\"facilities\",\"april\",\"finally\",\"tail\",\"capacitor\",\"tiger\",\"deaf\",\"deliver\",\"django\",\"expand\",\"skip\",\"nearly\",\"maybe\",\"task\",\"gateway\",\"strangest\",\"abstract\",\"adding\",\"suck\",\"tim\",\"printed\",\"sigma\",\"immigrate\",\"decline\",\"arrested\",\"95\",\"narcissistic\",\"freelancing\",\"patterns\",\"expired\",\"casual\",\"tablets\",\"patients\",\"lean\",\"pieces\",\"laymans\",\"whatever\",\"polish\",\"lemon\",\"abortion\",\"i3\",\"theorem\",\"h\",\"compulsory\",\"helped\",\"sons\",\"feminism\",\"compiler\",\"tested\",\"enhance\",\"adhd\",\"manhattan\",\"iii\",\"nail\",\"eee\",\"deals\",\"excellent\",\"ipo\",\"folder\",\"sand\",\"continuous\",\"capable\",\"libraries\",\"aggregate\",\"64\",\"bsnl\",\"profiles\",\"spirit\",\"pulled\",\"owns\",\"deloitte\",\"therapist\",\"acts\",\"millions\",\"authors\",\"marathi\",\"dvd\",\"coconut\",\"swiss\",\"interaction\",\"ncr\",\"kannada\",\"smallest\",\"advisable\",\"smartest\",\"sorry\",\"normally\",\"ends\",\"rome\",\"spectrum\",\"cousin\",\"75\",\"suzuki\",\"nights\",\"cap\",\"enable\",\"counselling\",\"proxy\",\"margin\",\"shops\",\"hackers\",\"tatkal\",\"opened\",\"cinema\",\"consumption\",\"coal\",\"silent\",\"choosing\",\"introduction\",\"electromagnetic\",\"hcl\",\"complaint\",\"puppies\",\"vc\",\"symbols\",\"lenses\",\"username\",\"arrow\",\"adopted\",\"affects\",\"sudden\",\"pcm\",\"gel\",\"affair\",\"pinterest\",\"statements\",\"supplements\",\"justified\",\"turns\",\"santa\",\"shoe\",\"trek\",\"headphone\",\"girlfriends\",\"verizon\",\"rocket\",\"conference\",\"ego\",\"srm\",\"afghanistan\",\"nucleus\",\"generated\",\"chinas\",\"ww1\",\"consultancy\",\"socially\",\"allen\",\"berkeley\",\"missed\",\"crying\",\"introduced\",\"ps3\",\"flour\",\"brought\",\"elder\",\"minecraft\",\"9th\",\"freelancer\",\"circles\",\"scars\",\"entertainment\",\"turbine\",\"deeply\",\"rom\",\"evolved\",\"nato\",\"strengths\",\"ide\",\"tweets\",\"scholarships\",\"mentor\",\"collect\",\"hdfc\",\"mandarin\",\"solo\",\"terrible\",\"influential\",\"professionals\",\"65\",\"recognition\",\"nvidia\",\"cia\",\"designs\",\"10k\",\"creation\",\"tom\",\"rated\",\"introverts\",\"boiling\",\"communism\",\"treaty\",\"whereas\",\"thanks\",\"cigarette\",\"bengaluru\",\"oneplus\",\"reserve\",\"advertise\",\"nits\",\"helping\",\"bruce\",\"mp3\",\"severe\",\"proposal\",\"cultures\",\"tap\",\"animated\",\"planes\",\"hall\",\"cognitive\",\"supports\",\"keys\",\"gotten\",\"feedback\",\"recording\",\"proceed\",\"membership\",\"console\",\"overseas\",\"hows\",\"william\",\"billionaires\",\"updated\",\"pre\",\"organizations\",\"messi\",\"unexpected\",\"nitrogen\",\"hungry\",\"nigeria\",\"sync\",\"arduino\",\"gross\",\"outer\",\"searching\",\"workers\",\"outlook\",\"europeans\",\"founder\",\"lectures\",\"legitimate\",\"camp\",\"ordinary\",\"investments\",\"bone\",\"raising\",\"quite\",\"ages\",\"joint\",\"johnson\",\"destination\",\"concerned\",\"belief\",\"refrigerator\",\"implications\",\"manga\",\"mandatory\",\"obamas\",\"lawyers\",\"bedroom\",\"icon\",\"qualifications\",\"qa\",\"bikes\",\"boston\",\"holding\",\"session\",\"appointment\",\"weaknesses\",\"iphones\",\"motorcycle\",\"schizophrenia\",\"5th\",\"intellectual\",\"eaten\",\"attending\",\"medals\",\"adsense\",\"nda\",\"6th\",\"kali\",\"georgia\",\"wechat\",\"earlier\",\"drone\",\"truck\",\"horse\",\"merchant\",\"torque\",\"seed\",\"backend\",\"holmes\",\"graduating\",\"400\",\"bones\",\"sufficient\",\"participate\",\"rifle\",\"shock\",\"downloaded\",\"earthquake\",\"breasts\",\"secretary\",\"insert\",\"damaged\",\"massive\",\"standing\",\"remainder\",\"programme\",\"holocaust\",\"totally\",\"belt\",\"affairs\",\"nokia\",\"mechanism\",\"pin\",\"scan\",\"fought\",\"superpower\",\"poetry\",\"signals\",\"educated\",\"scariest\",\"trains\",\"closer\",\"weapon\",\"icici\",\"serial\",\"bicycle\",\"terminal\",\"finished\",\"stolen\",\"inspiring\",\"cuisine\",\"spark\",\"sounds\",\"pricing\",\"click\",\"underwear\",\"kidney\",\"bengal\",\"invention\",\"discount\",\"chase\",\"evaluate\",\"distributed\",\"themes\",\"amd\",\"stem\",\"st\",\"genre\",\"vegetables\",\"council\",\"bihar\",\"thick\",\"mouse\",\"worry\",\"newly\",\"updates\",\"candy\",\"prepaid\",\"wet\",\"rap\",\"motors\",\"implemented\",\"theoretical\",\"fabric\",\"mexican\",\"portfolio\",\"technique\",\"icse\",\"expansion\",\"evolutionary\",\"justify\",\"trick\",\"attached\",\"lightning\",\"pitch\",\"armed\",\"einstein\",\"conversion\",\"iitjee\",\"declared\",\"admit\",\"acquisition\",\"innovation\",\"runs\",\"wwe\",\"trial\",\"memories\",\"refuse\",\"netherlands\",\"committed\",\"fraud\",\"jailbreak\",\"settle\",\"badly\",\"approved\",\"eligibility\",\"trend\",\"increases\",\"comic\",\"quorans\",\"cellular\",\"matches\",\"receiving\",\"bmw\",\"vlsi\",\"signed\",\"lakes\",\"350\",\"communications\",\"pork\",\"joined\",\"anyway\",\"differentiate\",\"actresses\",\"29\",\"ethics\",\"premier\",\"hearing\",\"vehicles\",\"drama\",\"instant\",\"lips\",\"dates\",\"july\",\"holiday\",\"coach\",\"malayalam\",\"superior\",\"soviet\",\"plate\",\"throw\",\"worship\",\"bars\",\"sharma\",\"mothers\",\"integrated\",\"clubs\",\"bug\",\"melbourne\",\"co\",\"bisexual\",\"regions\",\"lesson\",\"heads\",\"reader\",\"snake\",\"qualify\",\"paul\",\"causing\",\"disappear\",\"era\",\"lets\",\"qualified\",\"spiritual\",\"wolf\",\"requirement\",\"journalism\",\"studied\",\"lowest\",\"vader\",\"coursera\",\"stark\",\"configuration\",\"verbal\",\"undergrad\",\"dimensions\",\"transition\",\"efficiently\",\"interstellar\",\"locked\",\"summary\",\"chandigarh\",\"ghosts\",\"included\",\"operate\",\"dimension\",\"mount\",\"noticed\",\"rating\",\"somewhere\",\"martin\",\"bra\",\"bird\",\"zuckerberg\",\"sensor\",\"audience\",\"dirty\",\"starbucks\",\"permission\",\"residential\",\"wholesale\",\"assets\",\"clearly\",\"km\",\"invade\",\"ipcc\",\"fb\",\"shell\",\"shave\",\"loud\",\"tip\",\"seeds\",\"sets\",\"polar\",\"although\",\"june\",\"judaism\",\"anti\",\"instrument\",\"seven\",\"shooting\",\"j\",\"portal\",\"tower\",\"github\",\"linked\",\"admitted\",\"punishment\",\"mid\",\"micro\",\"cured\",\"lifestyle\",\"nor\",\"upset\",\"challenge\",\"soap\",\"standards\",\"integration\",\"lottery\",\"lab\",\"williams\",\"odd\",\"soil\",\"sensitive\",\"route\",\"tattoos\",\"coin\",\"declare\",\"frame\",\"differential\",\"bowl\",\"softwares\",\"notifications\",\"maintenance\",\"inner\",\"apples\",\"converted\",\"recruiter\",\"bombay\",\"command\",\"posting\",\"controlled\",\"balls\",\"personally\",\"poker\",\"extract\",\"hired\",\"bugs\",\"providers\",\"loans\",\"calculator\",\"attractions\",\"torrents\",\"keywords\",\"profession\",\"blogging\",\"transport\",\"sue\",\"anonymously\",\"compounds\",\"robot\",\"buddhism\",\"sweet\",\"defense\",\"nobody\",\"uc\",\"defined\",\"division\",\"bags\",\"epic\",\"unhealthy\",\"craziest\",\"urban\",\"combination\",\"pair\",\"laugh\",\"cv\",\"usd\",\"launched\",\"usps\",\"visited\",\"nexus\",\"regularly\",\"brothers\",\"broker\",\"concentrate\",\"agreement\",\"nervous\",\"frozen\",\"detail\",\"sir\",\"situations\",\"borderline\",\"angularjs\",\"abusive\",\"tourism\",\"relate\",\"august\",\"communist\",\"accountant\",\"dumb\",\"arab\",\"b2b\",\"du\",\"thermal\",\"asians\",\"threat\",\"karma\",\"passive\",\"homosexuality\",\"putting\",\"quantitative\",\"relativity\",\"sanskrit\",\"opinions\",\"verify\",\"bear\",\"roll\",\"expanding\",\"teenage\",\"jeans\",\"providing\",\"shared\",\"extreme\",\"mi\",\"vr\",\"progress\",\"greece\",\"cpu\",\"ips\",\"merge\",\"reputation\",\"loving\",\"salman\",\"iss\",\"warm\",\"dental\",\"extension\",\"attraction\",\"fictional\",\"journal\",\"login\",\"secondary\",\"recognize\",\"southern\",\"ph\",\"lunch\",\"wallet\",\"ronaldo\",\"larger\",\"actions\",\"fathers\",\"adopt\",\"claims\",\"bottom\",\"therapy\",\"patient\",\"described\",\"virginity\",\"functional\",\"ionic\",\"chartered\",\"discover\",\"55\",\"21st\",\"biased\",\"mad\",\"northern\",\"onto\",\"liberals\",\"premium\",\"neutral\",\"detect\",\"diagram\",\"sperm\",\"ga\",\"bleach\",\"spread\",\"contributions\",\"activate\",\"prior\",\"safest\",\"holder\",\"360\",\"aim\",\"rental\",\"families\",\"everybody\",\"shut\",\"payments\",\"150\",\"cube\",\"vegan\",\"newspaper\",\"beef\",\"houses\",\"preferred\",\"simultaneously\",\"marked\",\"reactions\",\"emergency\",\"protection\",\"cab\",\"forex\",\"norway\",\"immigrants\",\"googles\",\"ssb\",\"wing\",\"yrs\",\"ensure\",\"spy\",\"reasoning\",\"strange\",\"forgive\",\"turkish\",\"tag\",\"ranking\",\"platforms\",\"fox\",\"existed\",\"walmart\",\"lazy\",\"ears\",\"clock\",\"beam\",\"rare\",\"bush\",\"2011\",\"stops\",\"batteries\",\"certified\",\"naked\",\"worldwide\",\"staying\",\"lifetime\",\"ted\",\"lake\",\"wealthy\",\"transit\",\"stephen\",\"rural\",\"versa\",\"pets\",\"commonly\",\"adults\",\"ultimate\",\"genius\",\"vinegar\",\"allows\",\"aid\",\"retirement\",\"airtel\",\"sciences\",\"mountain\",\"drinks\",\"tour\",\"wind\",\"seattle\",\"disabled\",\"bodies\",\"lesbian\",\"governments\",\"kinetic\",\"tumblr\",\"absolute\",\"author\",\"toilet\",\"whey\",\"sleepy\",\"molecular\",\"watches\",\"inventions\",\"rain\",\"34\",\"angular\",\"o\",\"dish\",\"however\",\"agents\",\"abs\",\"switzerland\",\"transformer\",\"clearing\",\"consciousness\",\"broadband\",\"uae\",\"automatic\",\"opposed\",\"geography\",\"astronauts\",\"decisions\",\"cement\",\"induction\",\"luxury\",\"upvotes\",\"politicians\",\"posted\",\"toefl\",\"kitchen\",\"noise\",\"radius\",\"dye\",\"miles\",\"risks\",\"scientifically\",\"mnc\",\"propose\",\"prepared\",\"iiit\",\"mention\",\"equipment\",\"darth\",\"january\",\"surname\",\"raised\",\"attitude\",\"gta\",\"david\",\"hike\",\"awkward\",\"proven\",\"productive\",\"lg\",\"filled\",\"atmosphere\",\"lee\",\"irctc\",\"addicted\",\"dynamic\",\"employment\",\"weekend\",\"replacement\",\"singing\",\"owners\",\"bipolar\",\"tomorrow\",\"poems\",\"default\",\"kvpy\",\"sauce\",\"competitors\",\"russians\",\"sample\",\"crimes\",\"hang\",\"inspired\",\"furniture\",\"throughout\",\"presence\",\"efficiency\",\"leg\",\"biological\",\"pilani\",\"conversations\",\"inspirational\",\"bachelor\",\"centers\",\"withdraw\",\"fundamental\",\"comparison\",\"november\",\"fifa\",\"penalty\",\"algebra\",\"joke\",\"htc\",\"pilots\",\"collapse\",\"texts\",\"vocabulary\",\"moved\",\"sc\",\"smile\",\"october\",\"dot\",\"genetic\",\"architect\",\"url\",\"51\",\"sore\",\"uniform\",\"re\",\"rails\",\"smaller\",\"marine\",\"terrorists\",\"nazi\",\"breast\",\"politician\",\"subtitles\",\"chosen\",\"egypt\",\"thin\",\"packages\",\"editor\",\"bands\",\"mythology\",\"reasonable\",\"permit\",\"acceptable\",\"seriously\",\"iraq\",\"fever\",\"visitor\",\"honest\",\"friction\",\"offering\",\"smarter\",\"ahmedabad\",\"replaced\",\"resolution\",\"burning\",\"bridge\",\"catholic\",\"calendar\",\"resident\",\"policies\",\"forced\",\"leading\",\"arm\",\"deserve\",\"context\",\"coolest\",\"arranged\",\"arizona\",\"comics\",\"harm\",\"democrats\",\"jail\",\"breed\",\"anywhere\",\"psu\",\"christ\",\"violence\",\"agriculture\",\"objective\",\"moments\",\"infinity\",\"supporting\",\"critical\",\"trees\",\"beyond\",\"bag\",\"vitamin\",\"assembly\",\"solved\",\"array\",\"perspective\",\"pas\",\"wwii\",\"skinny\",\"contains\",\"lift\",\"cleaning\",\"peter\",\"aap\",\"pimples\",\"initial\",\"lesserknown\",\"sights\",\"principles\",\"realize\",\"millionaire\",\"faux\",\"orbit\",\"desire\",\"hi\",\"prophet\",\"suits\",\"careers\",\"thinks\",\"quantity\",\"spots\",\"wage\",\"asleep\",\"sociology\",\"guard\",\"units\",\"structural\",\"operation\",\"pants\",\"w\",\"bulk\",\"possibly\",\"drunk\",\"fired\",\"accident\",\"inch\",\"bottle\",\"aerospace\",\"narcissist\",\"ux\",\"angeles\",\"wood\",\"index\",\"safely\",\"robotics\",\"edition\",\"metals\",\"practices\",\"scheme\",\"interior\",\"diabetes\",\"nobel\",\"youth\",\"lived\",\"september\",\"chief\",\"proposed\",\"assuming\",\"sin\",\"counter\",\"disable\",\"introduce\",\"restore\",\"swimming\",\"intern\",\"answering\",\"mentioned\",\"crash\",\"laser\",\"teenagers\",\"presentation\",\"quran\",\"classified\",\"demonetisation\",\"communicate\",\"cotton\",\"autism\",\"anger\",\"environmental\",\"stable\",\"7th\",\"bread\",\"invited\",\"wisdom\",\"wrote\",\"widely\",\"minor\",\"formal\",\"dreaming\",\"managers\",\"escape\",\"pollution\",\"taiwan\",\"verification\",\"los\",\"figures\",\"26\",\"illness\",\"sides\",\"compatible\",\"pack\",\"conspiracy\",\"hedge\",\"flights\",\"dropped\",\"former\",\"suffer\",\"aware\",\"designers\",\"mahabharata\",\"evolve\",\"weigh\",\"dies\",\"fruits\",\"cc\",\"butter\",\"sharing\",\"atoms\",\"tongue\",\"transaction\",\"poverty\",\"suffering\",\"presidents\",\"resistance\",\"adam\",\"civilization\",\"mining\",\"toronto\",\"stick\",\"increased\",\"wild\",\"freelance\",\"removal\",\"aws\",\"rio\",\"principle\",\"asus\",\"cute\",\"consumer\",\"pool\",\"variable\",\"tutorials\",\"advance\",\"keeping\",\"visible\",\"cognizant\",\"equations\",\"rooms\",\"krishna\",\"printer\",\"tooth\",\"mentally\",\"realistic\",\"automobile\",\"cake\",\"tie\",\"beach\",\"ghost\",\"comfortable\",\"mysql\",\"oral\",\"closed\",\"helps\",\"maharashtra\",\"admissions\",\"i5\",\"partners\",\"axis\",\"beliefs\",\"neck\",\"clans\",\"hidden\",\"cyber\",\"voting\",\"bacteria\",\"layer\",\"chhattisgarh\",\"5000\",\"sitting\",\"murder\",\"argument\",\"f\",\"privacy\",\"syndrome\",\"2010\",\"bite\",\"vacation\",\"isro\",\"trouble\",\"records\",\"answered\",\"digit\",\"defeat\",\"childhood\",\"5s\",\"gates\",\"f1\",\"town\",\"anal\",\"copper\",\"talks\",\"affiliate\",\"sociopath\",\"installed\",\"static\",\"copyright\",\"animation\",\"donate\",\"stranger\",\"bcom\",\"destroyed\",\"gujarat\",\"foundation\",\"prize\",\"components\",\"foreigner\",\"arms\",\"unlimited\",\"needing\",\"settings\",\"item\",\"eve\",\"competition\",\"landing\",\"beard\",\"patent\",\"ending\",\"2020\",\"incident\",\"petroleum\",\"florida\",\"particularly\",\"ups\",\"generator\",\"leather\",\"heal\",\"experiment\",\"28\",\"passing\",\"talent\",\"remote\",\"300\",\"published\",\"impossible\",\"steam\",\"80\",\"washing\",\"guilty\",\"punjab\",\"70\",\"album\",\"bullet\",\"paris\",\"interface\",\"agencies\",\"mission\",\"digits\",\"modis\",\"recruitment\",\"manipal\",\"telling\",\"meal\",\"orange\",\"stone\",\"links\",\"ab\",\"upper\",\"cameras\",\"p\",\"combat\",\"passion\",\"shower\",\"thailand\",\"beings\",\"grad\",\"27\",\"finger\",\"jump\",\"lights\",\"ui\",\"bba\",\"sweden\",\"arrive\",\"4th\",\"amendment\",\"window\",\"satellite\",\"al\",\"matlab\",\"jokes\",\"muhammad\",\"expression\",\"booking\",\"dinner\",\"skype\",\"lots\",\"2018\",\"teen\",\"finish\",\"dslr\",\"mens\",\"proud\",\"entrepreneurs\",\"ukraine\",\"coins\",\"scenario\",\"transmission\",\"ignore\",\"pride\",\"contribute\",\"grand\",\"curve\",\"false\",\"operations\",\"breakup\",\"eventually\",\"acquire\",\"commission\",\"lies\",\"spoken\",\"pills\",\"masturbating\",\"jackson\",\"airbnb\",\"delivered\",\"disk\",\"radiation\",\"plays\",\"marvel\",\"particle\",\"breakfast\",\"smartphones\",\"relevant\",\"quota\",\"refund\",\"inches\",\"telugu\",\"angel\",\"eastern\",\"inflation\",\"predict\",\"annoying\",\"obc\",\"tough\",\"conduct\",\"originate\",\"notification\",\"backup\",\"harder\",\"richest\",\"pronounce\",\"sri\",\"wheel\",\"wasnt\",\"oldest\",\"sheet\",\"soda\",\"20s\",\"wipro\",\"awesome\",\"facial\",\"z\",\"noida\",\"confident\",\"fbi\",\"corrupt\",\"succeed\",\"reddit\",\"associate\",\"input\",\"guns\",\"rahul\",\"baking\",\"description\",\"musical\",\"apache\",\"nowadays\",\"fluid\",\"capacity\",\"loose\",\"freshman\",\"cfa\",\"optional\",\"theres\",\"ps4\",\"trends\",\"jon\",\"richard\",\"legit\",\"nodejs\",\"document\",\"sexually\",\"particles\",\"singer\",\"printing\",\"captain\",\"valuable\",\"several\",\"aiims\",\"boot\",\"sit\",\"zone\",\"billionaire\",\"floor\",\"gravitational\",\"export\",\"motivation\",\"golden\",\"transgender\",\"healthcare\",\"heaven\",\"81\",\"leaves\",\"listening\",\"overall\",\"press\",\"dishes\",\"railways\",\"warming\",\"enfield\",\"extent\",\"acceleration\",\"afford\",\"bonds\",\"border\",\"registration\",\"cast\",\"hope\",\"shipping\",\"karnataka\",\"specifically\",\"opportunity\",\"arabia\",\"pump\",\"pg\",\"carrier\",\"plot\",\"kingdom\",\"contract\",\"painful\",\"kindle\",\"boring\",\"essential\",\"disney\",\"charger\",\"seconds\",\"measured\",\"honda\",\"ba\",\"makeup\",\"\\u2013\",\"mini\",\"annual\",\"traits\",\"retrieve\",\"willing\",\"swift\",\"consume\",\"hindus\",\"psychopath\",\"tells\",\"solving\",\"conditions\",\"artists\",\"spotify\",\"bomb\",\"integrate\",\"stuck\",\"nikon\",\"gadgets\",\"womens\",\"judge\",\"republicans\",\"vacuum\",\"felt\",\"putin\",\"tennis\",\"concentration\",\"fans\",\"constantly\",\"matrix\",\"secrets\",\"spot\",\"soft\",\"stored\",\"neural\",\"submit\",\"scores\",\"ola\",\"wire\",\"gdp\",\"jaipur\",\"typically\",\"airline\",\"roles\",\"cheaper\",\"machines\",\"shift\",\"impress\",\"basics\",\"32\",\"conservative\",\"birds\",\"tend\",\"duty\",\"setup\",\"rude\",\"pink\",\"church\",\"mine\",\"jack\",\"sending\",\"cooking\",\"versus\",\"expert\",\"olympic\",\"biotechnology\",\"gurgaon\",\"worked\",\"codes\",\"successfully\",\"hardware\",\"faith\",\"pr\",\"television\",\"compound\",\"vit\",\"universal\",\"thank\",\"grammatically\",\"chicago\",\"ivy\",\"worried\",\"enterprise\",\"sodium\",\"railway\",\"remedies\",\"racism\",\"tracking\",\"psychological\",\"apartment\",\"magazine\",\"martial\",\"beauty\",\"waiting\",\"attacks\",\"horror\",\"fantasy\",\"ma\",\"select\",\"increasing\",\"metro\",\"opt\",\"map\",\"watched\",\"gear\",\"icloud\",\"james\",\"comedy\",\"lollipop\",\"ireland\",\"upcoming\",\"italian\",\"oven\",\"emotionally\",\"decided\",\"lakh\",\"grey\",\"kept\",\"produced\",\"mouth\",\"manual\",\"dhoni\",\"fill\",\"throat\",\"shoot\",\"liked\",\"innovative\",\"immediately\",\"lonely\",\"fighting\",\"max\",\"accidentally\",\"schedule\",\"orgasm\",\"rape\",\"ride\",\"muscles\",\"graduates\",\"taller\",\"boost\",\"lakhs\",\"microwave\",\"electrons\",\"upon\",\"attract\",\"ap\",\"abuse\",\"earths\",\"forever\",\"underrated\",\"facing\",\"terrorist\",\"alien\",\"celebrity\",\"frequently\",\"vpn\",\"wales\",\"powder\",\"superman\",\"mixed\",\"caught\",\"goods\",\"beginning\",\"starts\",\"atomic\",\"associated\",\"triangle\",\"parties\",\"banning\",\"k\",\"honey\",\"monitor\",\"graph\",\"leaders\",\"embedded\",\"juice\",\"split\",\"lady\",\"sequence\",\"911\",\"harassment\",\"nepal\",\"pop\",\"habit\",\"setting\",\"edge\",\"ww2\",\"gps\",\"federal\",\"charged\",\"lying\",\"empty\",\"whenever\",\"airplane\",\"jet\",\"destroy\",\"ies\",\"wouldnt\",\"quick\",\"decrease\",\"robert\",\"pradesh\",\"professors\",\"massage\",\"held\",\"spending\",\"markets\",\"objects\",\"chart\",\"mechanics\",\"silver\",\"usage\",\"basketball\",\"gen\",\"periods\",\"identity\",\"individuals\",\"css\",\"soul\",\"ipod\",\"chest\",\"understanding\",\"coast\",\"classic\",\"spain\",\"babies\",\"sd\",\"hostel\",\"shirt\",\"further\",\"logical\",\"franchise\",\"obtain\",\"foreigners\",\"fully\",\"region\",\"designed\",\"cheated\",\"beneficial\",\"shes\",\"accent\",\"couldnt\",\"queen\",\"sick\",\"blowing\",\"properly\",\"stronger\",\"returns\",\"condition\",\"musk\",\"ugly\",\"teams\",\"filter\",\"snow\",\"glasses\",\"employer\",\"solid\",\"followed\",\"embarrassing\",\"auto\",\"meeting\",\"belong\",\"strike\",\"internships\",\"bachelors\",\"administration\",\"temple\",\"wealth\",\"retail\",\"speakers\",\"electoral\",\"headphones\",\"streaming\",\"mirror\",\"diesel\",\"republic\",\"antivirus\",\"customers\",\"atm\",\"vagina\",\"cigarettes\",\"aptitude\",\"lewis\",\"saudi\",\"puppy\",\"recovery\",\"jimmy\",\"obsessed\",\"domestic\",\"pen\",\"batch\",\"de\",\"drawing\",\"ai\",\"medium\",\"simply\",\"photoshop\",\"sms\",\"turning\",\"nadu\",\"appropriate\",\"adobe\",\"substitute\",\"fruit\",\"recipes\",\"fighter\",\"saving\",\"greater\",\"cheat\",\"routine\",\"push\",\"sherlock\",\"arguments\",\"sony\",\"import\",\"soldiers\",\"charges\",\"emotions\",\"ibm\",\"un\",\"innovations\",\"itunes\",\"consultant\",\"iims\",\"relations\",\"psychopaths\",\"existing\",\"angle\",\"clash\",\"bus\",\"australian\",\"crazy\",\"pull\",\"theories\",\"savings\",\"suit\",\"contrast\",\"calculus\",\"pi\",\"credits\",\"bluetooth\",\"himself\",\"traveling\",\"criminal\",\"xiaomi\",\"zealand\",\"seats\",\"electron\",\"script\",\"11th\",\"lessons\",\"programmers\",\"december\",\"flag\",\"singh\",\"arabic\",\"sale\",\"nfl\",\"grammar\",\"killing\",\"virgin\",\"differently\",\"poem\",\"provided\",\"automation\",\"shy\",\"translation\",\"mathematical\",\"45\",\"celebrities\",\"spring\",\"downloading\",\"dr\",\"organization\",\"majority\",\"clients\",\"hd\",\"motivate\",\"thats\",\"thesis\",\"door\",\"weakest\",\"saw\",\"canon\",\"younger\",\"costs\",\"river\",\"rings\",\"factory\",\"decent\",\"clintons\",\"holes\",\"desert\",\"divorce\",\"sold\",\"cheese\",\"atom\",\"taught\",\"minute\",\"ocean\",\"crisis\",\"represent\",\"surgical\",\"parent\",\"brexit\",\"possibility\",\"longest\",\"edit\",\"scholarship\",\"motivated\",\"chocolate\",\"faced\",\"90\",\"parallel\",\"foot\",\"examination\",\"friendly\",\"kinds\",\"wins\",\"islamic\",\"degrees\",\"registered\",\"distribution\",\"junior\",\"gave\",\"sing\",\"articles\",\"hadoop\",\"saved\",\"hero\",\"ear\",\"asks\",\"improved\",\"teenager\",\"forms\",\"wash\",\"provides\",\"washington\",\"strikes\",\"binary\",\"syria\",\"indonesia\",\"powers\",\"highly\",\"heshe\",\"happiness\",\"director\",\"citizenship\",\"knew\",\"humanity\",\"translate\",\"nba\",\"permanently\",\"soccer\",\"todays\",\"challenges\",\"barack\",\"title\",\"latin\",\"fitness\",\"genuine\",\"investor\",\"dislike\",\"scenes\",\"hacker\",\"bangladesh\",\"ebay\",\"earning\",\"dell\",\"paytm\",\"spouse\",\"bored\",\"roman\",\"official\",\"dragon\",\"park\",\"except\",\"habits\",\"quote\",\"astrology\",\"congress\",\"automatically\",\"island\",\"religions\",\"christianity\",\"supreme\",\"owner\",\"hell\",\"wikipedia\",\"cancel\",\"industries\",\"actress\",\"client\",\"visual\",\"michael\",\"remain\",\"ability\",\"concrete\",\"conflict\",\"string\",\"linear\",\"supposed\",\"engines\",\"2012\",\"\\u2018\",\"lesser\",\"traditional\",\"episodes\",\"goals\",\"tata\",\"opening\",\"target\",\"weak\",\"anonymous\",\"bjp\",\"resource\",\"concepts\",\"ruby\",\"friendship\",\"nyc\",\"pretty\",\"implement\",\"painting\",\"ill\",\"agency\",\"reverse\",\"confused\",\"italy\",\"response\",\"yellow\",\"dance\",\"contain\",\"vice\",\"editing\",\"acting\",\"weirdest\",\"feels\",\"govt\",\"accounting\",\"rise\",\"wise\",\"leaving\",\"lens\",\"artist\",\"arvind\",\"pattern\",\"scared\",\"attention\",\"airlines\",\"sky\",\"malaysia\",\"port\",\"attempt\",\"element\",\"classical\",\"shown\",\"safety\",\"including\",\"tablet\",\"la\",\"terrorism\",\"commit\",\"maps\",\"african\",\"viewed\",\"calling\",\"6s\",\"agent\",\"output\",\"justice\",\"don\",\"addiction\",\"lock\",\"vegetarian\",\"britain\",\"percent\",\"meditation\",\"ibps\",\"monthly\",\"writers\",\"forward\",\"stuff\",\"mr\",\"ready\",\"forgot\",\"flying\",\"recommended\",\"fields\",\"blind\",\"l\",\"hinduism\",\"desktop\",\"host\",\"tattoo\",\"maintain\",\"boards\",\"helpful\",\"semester\",\"load\",\"tier\",\"agree\",\"factor\",\"elon\",\"freshers\",\"sql\",\"cases\",\"exact\",\"confidence\",\"behavior\",\"hacked\",\"quotes\",\"hydrogen\",\"pakistani\",\"masturbate\",\"divided\",\"skill\",\"fine\",\"falling\",\"chess\",\"charging\",\"pages\",\"vector\",\"supporters\",\"waste\",\"sanders\",\"affordable\",\"unlock\",\"techniques\",\"wine\",\"keyboard\",\"cm\",\"wireless\",\"lawyer\",\"egg\",\"cope\",\"mindblowing\",\"recipe\",\"corruption\",\"scored\",\"secure\",\"teaching\",\"opposite\",\"educational\",\"bernie\",\"y\",\"library\",\"models\",\"kid\",\"stack\",\"separate\",\"19\",\"extremely\",\"properties\",\"cable\",\"magic\",\"removed\",\"computing\",\"hospital\",\"beer\",\"christians\",\"twice\",\"kg\",\"consulting\",\"whose\",\"serious\",\"petrol\",\"travelling\",\"revolution\",\"custom\",\"structures\",\"guide\",\"celebrate\",\"lenovo\",\"turned\",\"ielts\",\"grades\",\"fuel\",\"relative\",\"oracle\",\"academy\",\"lack\",\"passed\",\"relation\",\"values\",\"movement\",\"strategies\",\"eu\",\"emotional\",\"legs\",\"pokemon\",\"3g\",\"iran\",\"mostly\",\"jewish\",\"offered\",\"log\",\"hasnt\",\"explanation\",\"signal\",\"stores\",\"syllabus\",\"bits\",\"yoga\",\"weapons\",\"gods\",\"10000\",\"delivery\",\"gb\",\"sum\",\"letters\",\"venture\",\"selection\",\"winning\",\"35\",\"comment\",\"consequences\",\"sport\",\"items\",\"seems\",\"ring\",\"jealous\",\"laptops\",\"criteria\",\"fresh\",\"reference\",\"bitcoin\",\"infinite\",\"perform\",\"brazil\",\"density\",\"plans\",\"hosting\",\"clothing\",\"hong\",\"dying\",\"heavy\",\"steve\",\"gone\",\"damage\",\"missing\",\"ethical\",\"republican\",\"contacts\",\"activity\",\"electronic\",\"qualities\",\"piano\",\"hisher\",\"repair\",\"posts\",\"disease\",\"winter\",\"ten\",\"publish\",\"paint\",\"physically\",\"executive\",\"deposit\",\"elements\",\"xbox\",\"ceo\",\"visitors\",\"discovered\",\"tickets\",\"literature\",\"primary\",\"naturally\",\"senior\",\"u\",\"hardest\",\"debate\",\"frequency\",\"vietnam\",\"cry\",\"assistant\",\"gifts\",\"practical\",\"funny\",\"valid\",\"liberal\",\"refer\",\"beat\",\"shape\",\"institutes\",\"msc\",\"internal\",\"located\",\"significant\",\"scientists\",\"g\",\"ship\",\"proper\",\"independence\",\"added\",\"hes\",\"catch\",\"urine\",\"effectively\",\"named\",\"responsible\",\"strength\",\"whos\",\"immigration\",\"vehicle\",\"tesla\",\"kong\",\"meth\",\"england\",\"huge\",\"pizza\",\"rejected\",\"george\",\"fan\",\"salt\",\"browser\",\"sat\",\"loved\",\"fees\",\"walking\",\"symbol\",\"equity\",\"ubuntu\",\"alternatives\",\"theme\",\"virus\",\"manufacturing\",\"cutoff\",\"pure\",\"22\",\"introvert\",\"unable\",\"greek\",\"rice\",\"gst\",\"happening\",\"centre\",\"kiss\",\"prison\",\"bigger\",\"font\",\"construction\",\"exercises\",\"keeps\",\"gmat\",\"offers\",\"cross\",\"nasa\",\"unit\",\"advertising\",\"cup\",\"fixed\",\"limited\",\"billion\",\"subjects\",\"arts\",\"worlds\",\"stupid\",\"breaking\",\"funding\",\"tank\",\"generate\",\"efficient\",\"exists\",\"atheist\",\"entrepreneur\",\"direction\",\"broken\",\"offline\",\"firms\",\"station\",\"magnetic\",\"include\",\"aliens\",\"tinder\",\"logo\",\"photography\",\"worse\",\"besides\",\"path\",\"somebody\",\"interviews\",\"persons\",\"figure\",\"placed\",\"nation\",\"knows\",\"unmarried\",\"hp\",\"profitable\",\"tricks\",\"boss\",\"reply\",\"scam\",\"circle\",\"processor\",\"debt\",\"growing\",\"royal\",\"fiction\",\"department\",\"mistake\",\"weird\",\"graphics\",\"external\",\"article\",\"volume\",\"scratch\",\"chain\",\"protect\",\"storage\",\"texas\",\"liquid\",\"circuit\",\"graphic\",\"tired\",\"weather\",\"oxygen\",\"velocity\",\"dad\",\"band\",\"teachers\",\"drugs\",\"complex\",\"studio\",\"accenture\",\"leader\",\"levels\",\"goal\",\"logic\",\"acne\",\"plastic\",\"motion\",\"button\",\"peoples\",\"vision\",\"gap\",\"dollar\",\"computers\",\"stomach\",\"sources\",\"constant\",\"draw\",\"dress\",\"calculated\",\"sort\",\"3rd\",\"club\",\"channels\",\"creating\",\"candidates\",\"kejriwal\",\"broke\",\"sentences\",\"format\",\"emails\",\"raw\",\"stanford\",\"completed\",\"documents\",\"pan\",\"showing\",\"enter\",\"unknown\",\"bought\",\"router\",\"claim\",\"six\",\"technologies\",\"\\u20b9\",\"flipkart\",\"infosys\",\"mutual\",\"angry\",\"iits\",\"affected\",\"prices\",\"shares\",\"naruto\",\"processing\",\"finding\",\"democratic\",\"evolution\",\"harmful\",\"dual\",\"virtual\",\"member\",\"wave\",\"actual\",\"extra\",\"radio\",\"citizens\",\"e\",\"hr\",\"previous\",\"stopped\",\"walk\",\"redmi\",\"speaker\",\"torrent\",\"smoke\",\"mistakes\",\"flash\",\"iron\",\"entire\",\"individual\",\"express\",\"flow\",\"mode\",\"aircraft\",\"section\",\"planets\",\"10th\",\"respond\",\"easier\",\"evil\",\"percentile\",\"seeing\",\"calories\",\"upgrade\",\"professor\",\"v\",\"launch\",\"staff\",\"till\",\"silicon\",\"entry\",\"constitution\",\"century\",\"notice\",\"ie\",\"atheists\",\"tests\",\"21\",\"became\",\"kerala\",\"truly\",\"count\",\"essay\",\"papers\",\"accurate\",\"colors\",\"respect\",\"ideal\",\"rock\",\"reliance\",\"peace\",\"masturbation\",\"audio\",\"random\",\"independent\",\"colour\",\"hotels\",\"presidency\",\"generation\",\"paypal\",\"shot\",\"central\",\"released\",\"occur\",\"display\",\"industrial\",\"particular\",\"risk\",\"eg\",\"belly\",\"pet\",\"similarities\",\"organic\",\"marijuana\",\"networks\",\"aspects\",\"flat\",\"d\",\"comments\",\"nose\",\"identify\",\"rbi\",\"improvement\",\"directly\",\"framework\",\"suggestions\",\"designing\",\"brands\",\"religious\",\"influence\",\"novels\",\"statistics\",\"historical\",\"ground\",\"commerce\",\"pregnancy\",\"romantic\",\"failure\",\"wearing\",\"john\",\"apart\",\"bay\",\"symptoms\",\"200\",\"couple\",\"60\",\"canadian\",\"lie\",\"print\",\"carry\",\"gender\",\"experienced\",\"pounds\",\"reservation\",\"either\",\"stage\",\"artificial\",\"fit\",\"blogs\",\"developing\",\"environment\",\"learned\",\"copy\",\"phase\",\"bond\",\"democracy\",\"cgpa\",\"operating\",\"surface\",\"officers\",\"h1b\",\"ip\",\"workout\",\"fee\",\"elected\",\"hands\",\"largest\",\"sad\",\"shouldnt\",\"seat\",\"sister\",\"developers\",\"despite\",\"scene\",\"po\",\"diploma\",\"request\",\"empire\",\"ratio\",\"considering\",\"academic\",\"tree\",\"register\",\"advantage\",\"eligible\",\"nit\",\"shop\",\"intel\",\"funniest\",\"alternative\",\"fail\",\"ads\",\"nature\",\"miss\",\"involved\",\"overrated\",\"attend\",\"freedom\",\"dna\",\"beginners\",\"raise\",\"dry\",\"failed\",\"legally\",\"batman\",\"upload\",\"carbon\",\"regret\",\"applied\",\"points\",\"investors\",\"pick\",\"equivalent\",\"connected\",\"christmas\",\"lyrics\",\"nations\",\"caused\",\"bsc\",\"1st\",\"action\",\"activities\",\"biology\",\"hide\",\"asia\",\"takes\",\"require\",\"alive\",\"mom\",\"cycle\",\"generally\",\"campaign\",\"fair\",\"wake\",\"bit\",\"rules\",\"olympics\",\"racist\",\"areas\",\"eggs\",\"feature\",\"sap\",\"taxes\",\"ad\",\"shall\",\"theyre\",\"species\",\"pilot\",\"firm\",\"fish\",\"define\",\"doctors\",\"piece\",\"itself\",\"bang\",\"solutions\",\"iim\",\"2013\",\"wanted\",\"length\",\"burn\",\"waves\",\"bar\",\"gives\",\"forces\",\"christian\",\"anybody\",\"relationships\",\"nice\",\"wedding\",\"various\",\"brother\",\"films\",\"cream\",\"suddenly\",\"philippines\",\"fashion\",\"truth\",\"gpa\",\"cgl\",\"tall\",\"goa\",\"hacking\",\"statement\",\"reset\",\"materials\",\"played\",\"match\",\"usb\",\"novel\",\"unusual\",\"knowing\",\"selected\",\"valley\",\"chrome\",\"couples\",\"becomes\",\"died\",\"cheating\",\"community\",\"groups\",\"category\",\"pursuing\",\"writer\",\"mexico\",\"anymore\",\"sugar\",\"climate\",\"brown\",\"players\",\"ii\",\"reviews\",\"took\",\"led\",\"connection\",\"begin\",\"html\",\"changing\",\"received\",\"plants\",\"debit\",\"record\",\"revenue\",\"mars\",\"strongest\",\"members\",\"formed\",\"union\",\"thought\",\"existence\",\"kashmir\",\"gandhi\",\"pdf\",\"banned\",\"0\",\"plane\",\"treated\",\"electricity\",\"scale\",\"basis\",\"moral\",\"images\",\"methods\",\"certification\",\"voltage\",\"style\",\"base\",\"excel\",\"amazing\",\"regarding\",\"result\",\"rates\",\"hold\",\"indias\",\"airport\",\"businesses\",\"feet\",\"built\",\"linkedin\",\"signs\",\"above\",\"networking\",\"r\",\"shopping\",\"looks\",\"went\",\"placements\",\"bed\",\"experiences\",\"daughter\",\"tourist\",\"employee\",\"caste\",\"wait\",\"direct\",\"especially\",\"feed\",\"continue\",\"expected\",\"algorithm\",\"depressed\",\"shoes\",\"soon\",\"supply\",\"stress\",\"24\",\"inr\",\"foods\",\"rent\",\"architecture\",\"ban\",\"entrance\",\"actors\",\"messenger\",\"unique\",\"kolkata\",\"funds\",\"rupee\",\"promote\",\"rupees\",\"jews\",\"23\",\"cook\",\"cultural\",\"accepted\",\"hear\",\"glass\",\"road\",\"joining\",\"measure\",\"havent\",\"metal\",\"resume\",\"afraid\",\"turkey\",\"meat\",\"goes\",\"installation\",\"netflix\",\"benefit\",\"demand\",\"release\",\"produce\",\"report\",\"cover\",\"changes\",\"double\",\"2nd\",\"reaction\",\"killed\",\"steel\",\"requirements\",\"france\",\"exchange\",\"ac\",\"quantum\",\"reliable\",\"box\",\"results\",\"lives\",\"treatment\",\"4g\",\"ece\",\"probability\",\"sleeping\",\"philosophy\",\"handle\",\"forget\",\"driver\",\"demonetization\",\"algorithms\",\"trade\",\"rule\",\"muscle\",\"calls\",\"tried\",\"mental\",\"sure\",\"quit\",\"navy\",\"achieve\",\"francisco\",\"location\",\"until\",\"sense\",\"anxiety\",\"wordpress\",\"focus\",\"fact\",\"production\",\"conversation\",\"motor\",\"five\",\"attracted\",\"hit\",\"analyst\",\"moto\",\"isis\",\"chicken\",\"sector\",\"permanent\",\"along\",\"king\",\"slow\",\"candidate\",\"minutes\",\"purchase\",\"gun\",\"selling\",\"usually\",\"\\u2026\",\"fly\",\"round\",\"panel\",\"error\",\"stocks\",\"api\",\"remember\",\"africa\",\"paying\",\"hitler\",\"3d\",\"regular\",\"losing\",\"mail\",\"yahoo\",\"cheapest\",\"older\",\"concept\",\"characters\",\"definition\",\"lines\",\"pm\",\"cloud\",\"cats\",\"russian\",\"ipad\",\"korean\",\"proof\",\"battle\",\"stars\",\"stream\",\"recent\",\"typical\",\"performance\",\"harvard\",\"restaurant\",\"origin\",\"listen\",\"smell\",\"decide\",\"serve\",\"undergraduate\",\"profit\",\"situation\",\"surgery\",\"asking\",\"plant\",\"link\",\"square\",\"completing\",\"four\",\"trust\",\"payment\",\"gym\",\"andor\",\"worklife\",\"guitar\",\"elections\",\"half\",\"investing\",\"scientist\",\"street\",\"needs\",\"native\",\"thoughts\",\"reality\",\"40\",\"medicine\",\"race\",\"choice\",\"longer\",\"came\",\"applying\",\"hiring\",\"west\",\"weed\",\"hacks\",\"step\",\"sea\",\"crime\",\"devices\",\"event\",\"citizen\",\"14\",\"17\",\"ticket\",\"fund\",\"equation\",\"suicide\",\"whom\",\"met\",\"almost\",\"designer\",\"local\",\"departments\",\"khan\",\"customer\",\"banking\",\"javascript\",\"trip\",\"issue\",\"react\",\"cannot\",\"dubai\",\"wall\",\"touch\",\"parts\",\"loves\",\"clothes\",\"straight\",\"sexual\",\"active\",\"inpatient\",\"dreams\",\"protein\",\"table\",\"exercise\",\"lord\",\"mtech\",\"creative\",\"ball\",\"speaking\",\"son\",\"receive\",\"dollars\",\"domain\",\"prospects\",\"hour\",\"graduation\",\"commercial\",\"themselves\",\"factors\",\"jesus\",\"programmer\",\"recommend\",\"replace\",\"chat\",\"placement\",\"episode\",\"fastest\",\"restaurants\",\"object\",\"drivers\",\"gaming\",\"mark\",\"taste\",\"seem\",\"perfect\",\"potential\",\"trumps\",\"appear\",\"rights\",\"equal\",\"rest\",\"package\",\"meant\",\"drop\",\"cool\",\"material\",\"potter\",\"events\",\"convince\",\"completely\",\"n\",\"zero\",\"significance\",\"lower\",\"feelings\",\"followers\",\"evidence\",\"certain\",\"later\",\"original\",\"bible\",\"disorder\",\"testing\",\"via\",\"stand\",\"actor\",\"characteristics\",\"cities\",\"reach\",\"ago\",\"mbbs\",\"speech\",\"electric\",\"approach\",\"scientific\",\"root\",\"analytics\",\"below\",\"grade\",\"mains\",\"topic\",\"fun\",\"ancient\",\"adult\",\"standard\",\"ice\",\"everyday\",\"population\",\"invented\",\"european\",\"intelligent\",\"11\",\"subject\",\"rehab\",\"background\",\"giving\",\"platform\",\"flight\",\"thrones\",\"maths\",\"dc\",\"teeth\",\"mit\",\"weeks\",\"east\",\"means\",\"programs\",\"beginner\",\"heat\",\"third\",\"tea\",\"range\",\"london\",\"maximum\",\"enjoy\",\"2000\",\"cells\",\"quickly\",\"here\",\"expensive\",\"phrase\",\"partner\",\"league\",\"anime\",\"latest\",\"specific\",\"whether\",\"functions\",\"os\",\"fire\",\"saying\",\"secret\",\"13\",\"planet\",\"hole\",\"super\",\"teacher\",\"strong\",\"accounts\",\"minister\",\"database\",\"economic\",\"channel\",\"estate\",\"ram\",\"switch\",\"asian\",\"smoking\",\"branch\",\"israel\",\"18\",\"features\",\"success\",\"lead\",\"total\",\"key\",\"master\",\"ok\",\"favourite\",\"psychology\",\"pok\\u00e9mon\",\"nothing\",\"clean\",\"25\",\"politics\",\"drinking\",\"sometimes\",\"recently\",\"korea\",\"sent\",\"poor\",\"hindu\",\"hollywood\",\"survive\",\"cure\",\"property\",\"return\",\"narendra\",\"budget\",\"sports\",\"limit\",\"arent\",\"boys\",\"driving\",\"whole\",\"cash\",\"smartphone\",\"php\",\"developed\",\"ssc\",\"hot\",\"attractive\",\"tool\",\"physical\",\"ecommerce\",\"sbi\",\"morning\",\"animal\",\"multiple\",\"loan\",\"acid\",\"fresher\",\"spanish\",\"moving\",\"decision\",\"county\",\"determined\",\"becoming\",\"seo\",\"summer\",\"manage\",\"server\",\"competitive\",\"milk\",\"importance\",\"banks\",\"cheap\",\"powerful\",\"issues\",\"penis\",\"according\",\"analysis\",\"bike\",\"position\",\"western\",\"advanced\",\"campus\",\"highest\",\"front\",\"court\",\"status\",\"gravity\",\"positions\",\"comes\",\"steps\",\"complete\",\"electronics\",\"won\",\"hurt\",\"certificate\",\"temperature\",\"player\",\"someones\",\"communication\",\"million\",\"talking\",\"preparing\",\"finance\",\"cancer\",\"9\",\"harry\",\"accept\",\"2014\",\"plus\",\"born\",\"tcs\",\"license\",\"bring\",\"teach\",\"practice\",\"trading\",\"m\",\"might\",\"opportunities\",\"global\",\"wish\",\"outside\",\"attack\",\"procedure\",\"needed\",\"update\",\"coffee\",\"provider\",\"rather\",\"16\",\"allow\",\"tamil\",\"mix\",\"connect\",\"room\",\"watching\",\"deep\",\"york\",\"image\",\"birth\",\"sign\",\"birthday\",\"playing\",\"wars\",\"grads\",\"hire\",\"phones\",\"cbse\",\"details\",\"clear\",\"cricket\",\"dangerous\",\"track\",\"corporate\",\"voice\",\"upsc\",\"content\",\"okay\",\"san\",\"heart\",\"far\",\"heard\",\"prove\",\"positive\",\"moment\",\"sales\",\"opinion\",\"engineers\",\"block\",\"diet\",\"coding\",\"core\",\"baby\",\"father\",\"little\",\"large\",\"blocked\",\"distance\",\"land\",\"simple\",\"husband\",\"told\",\"traffic\",\"prevent\",\"pictures\",\"planning\",\"fear\",\"classes\",\"towards\",\"technical\",\"building\",\"trying\",\"photo\",\"early\",\"uses\",\"sydney\",\"startups\",\"act\",\"id\",\"describe\",\"12th\",\"may\",\"formula\",\"gets\",\"present\",\"wont\",\"cut\",\"treat\",\"mathematics\",\"visiting\",\"eye\",\"policy\",\"close\",\"cse\",\"suitable\",\"version\",\"tools\",\"head\",\"minimum\",\"chennai\",\"easily\",\"method\",\"intelligence\",\"gre\",\"mother\",\"doctor\",\"macbook\",\"deleted\",\"gas\",\"suggest\",\"cards\",\"files\",\"loss\",\"art\",\"easiest\",\"late\",\"among\",\"together\",\"depression\",\"higher\",\"alone\",\"economics\",\"dead\",\"growth\",\"insurance\",\"gold\",\"necessary\",\"neet\",\"blog\",\"example\",\"memory\",\"crack\",\"consider\",\"works\",\"currency\",\"recruit\",\"pursue\",\"strategy\",\"young\",\"cs\",\"projects\",\"50\",\"manager\",\"abroad\",\"schools\",\"illegal\",\"inside\",\"stories\",\"hand\",\"t\",\"greatest\",\"personality\",\"galaxy\",\"device\",\"views\",\"user\",\"chemistry\",\"cars\",\"iq\",\"prefer\",\"picture\",\"nuclear\",\"middle\",\"applications\",\"gmail\",\"laws\",\"final\",\"capital\",\"kids\",\"society\",\"fake\",\"bill\",\"save\",\"though\",\"likely\",\"determine\",\"shows\",\"character\",\"snapchat\",\"youre\",\"eyes\",\"islam\",\"marry\",\"brand\",\"yet\",\"impact\",\"speak\",\"within\",\"rich\",\"resources\",\"net\",\"non\",\"pressure\",\"changed\",\"allowed\",\"obama\",\"cold\",\"running\",\"feeling\",\"jio\",\"football\",\"gift\",\"written\",\"buying\",\"mac\",\"spend\",\"prime\",\"blue\",\"train\",\"studies\",\"negative\",\"thinking\",\"solution\",\"sun\",\"least\",\"following\",\"install\",\"else\",\"muslims\",\"camera\",\"vote\",\"linux\",\"expect\",\"german\",\"recover\",\"starting\",\"crush\",\"coming\",\"muslim\",\"modern\",\"battery\",\"provide\",\"access\",\"presidential\",\"interest\",\"dating\",\"pro\",\"likes\",\"french\",\"singapore\",\"useful\",\"already\",\"professional\",\"percentage\",\"drink\",\"created\",\"board\",\"passport\",\"structure\",\"case\",\"height\",\"microsoft\",\"break\",\"screen\",\"names\",\"chance\",\"special\",\"30\",\"skin\",\"natural\",\"color\",\"interested\",\"amount\",\"pain\",\"healthy\",\"hack\",\"messages\",\"ias\",\"gay\",\"disadvantages\",\"pass\",\"moon\",\"systems\",\"hindi\",\"financial\",\"taken\",\"yes\",\"sim\",\"pregnant\",\"faster\",\"animals\",\"internship\",\"let\",\"photos\",\"balance\",\"sound\",\"due\",\"knowledge\",\"charge\",\"message\",\"officer\",\"solar\",\"military\",\"meet\",\"option\",\"reading\",\"across\",\"overcome\",\"everyone\",\"everything\",\"wife\",\"reduce\",\"chances\",\"samsung\",\"income\",\"bollywood\",\"season\",\"europe\",\"boy\",\"currently\",\"ex\",\"smart\",\"california\",\"engine\",\"paid\",\"army\",\"contact\",\"address\",\"wants\",\"ones\",\"gain\",\"reasons\",\"avoid\",\"please\",\"note\",\"known\",\"pune\",\"film\",\"national\",\"once\",\"users\",\"porn\",\"scope\",\"twitter\",\"drug\",\"rank\",\"japan\",\"fight\",\"transfer\",\"political\",\"green\",\"news\",\"self\",\"uber\",\"basic\",\"british\",\"religion\",\"hyderabad\",\"topics\",\"explain\",\"phd\",\"eating\",\"letter\",\"calculate\",\"ive\",\"tech\",\"personal\",\"japanese\",\"check\",\"hotel\",\"wifi\",\"beautiful\",\"difficult\",\"paper\",\"languages\",\"investment\",\"develop\",\"north\",\"electrical\",\"ios\",\"alcohol\",\"exactly\",\"profile\",\"past\",\"exams\",\"ca\",\"convert\",\"vs\",\"understand\",\"care\",\"dream\",\"try\",\"americans\",\"lost\",\"chemical\",\"source\",\"b\",\"admission\",\"easy\",\"must\",\"three\",\"effect\",\"view\",\"options\",\"page\",\"away\",\"red\",\"said\",\"line\",\"short\",\"happy\",\"security\",\"dark\",\"preparation\",\"second\",\"fat\",\"matter\",\"few\",\"since\",\"role\",\"pc\",\"office\",\"team\",\"delete\",\"cell\",\"election\",\"economy\",\"term\",\"dogs\",\"text\",\"female\",\"effective\",\"brain\",\"share\",\"digital\",\"btech\",\"russia\",\"\\u201c\",\"party\",\"numbers\",\"20\",\"store\",\"male\",\"mass\",\"turn\",\"left\",\"married\",\"rs\",\"taking\",\"those\",\"password\",\"follow\",\"advice\",\"isnt\",\"15\",\"types\",\"network\",\"\\u201d\",\"week\",\"purpose\",\"related\",\"fix\",\"started\",\"courses\",\"masters\",\"grow\",\"8\",\"fast\",\"leave\",\"100\",\"often\",\"found\",\"pros\",\"marriage\",\"cons\",\"quality\",\"words\",\"kill\",\"price\",\"near\",\"modi\",\"enough\",\"search\",\"python\",\"x\",\"blood\",\"math\",\"yourself\",\"drive\",\"size\",\"star\",\"graduate\",\"majors\",\"500\",\"model\",\"studying\",\"general\",\"oil\",\"colleges\",\"area\",\"developer\",\"germany\",\"industry\",\"full\",\"training\",\"says\",\"period\",\"videos\",\"universe\",\"fall\",\"daily\",\"information\",\"foreign\",\"credit\",\"force\",\"12\",\"youve\",\"south\",\"offer\",\"set\",\"add\",\"send\",\"australia\",\"center\",\"1000\",\"famous\",\"2015\",\"lot\",\"function\",\"tax\",\"correct\",\"solve\",\"advantages\",\"coaching\",\"institute\",\"effects\",\"guys\",\"again\",\"group\",\"hours\",\"side\",\"sentence\",\"low\",\"similar\",\"plan\",\"children\",\"answers\",\"talk\",\"marks\",\"ideas\",\"theory\",\"death\",\"compared\",\"night\",\"remove\",\"dog\",\"anything\",\"single\",\"successful\",\"gate\",\"indians\",\"put\",\"problems\",\"move\",\"writing\",\"point\",\"invest\",\"asked\",\"biggest\",\"others\",\"stock\",\"notes\",\"story\",\"machine\",\"private\",\"sell\",\"seen\",\"required\",\"field\",\"file\",\"rate\",\"humans\",\"application\",\"face\",\"sites\",\"mind\",\"facts\",\"mumbai\",\"post\",\"stay\",\"child\",\"terms\",\"products\",\"control\",\"legal\",\"police\",\"didnt\",\"level\",\"worst\",\"hate\",\"visit\",\"called\",\"amazon\",\"causes\",\"health\",\"form\",\"physics\",\"iit\",\"skills\",\"times\",\"medical\",\"based\",\"list\",\"websites\",\"die\",\"part\",\"less\",\"benefits\",\"apple\",\"instead\",\"these\",\"boyfriend\",\"sleep\",\"canada\",\"reason\",\"education\",\"cause\",\"jee\",\"value\",\"today\",\"media\",\"public\",\"happened\",\"product\",\"research\",\"main\",\"behind\",\"international\",\"project\",\"uk\",\"differ\",\"7\",\"places\",\"wear\",\"order\",\"date\",\"etc\",\"small\",\"songs\",\"apps\",\"email\",\"given\",\"wrong\",\"site\",\"normal\",\"culture\",\"also\",\"civil\",\"city\",\"available\",\"house\",\"exist\",\"startup\",\"services\",\"ms\",\"both\",\"down\",\"2017\",\"run\",\"cat\",\"well\",\"space\",\"join\",\"deal\",\"games\",\"visa\",\"rid\",\"air\",\"speed\",\"popular\",\"problem\",\"support\",\"current\",\"pakistan\",\"choose\",\"build\",\"idea\",\"america\",\"whatsapp\",\"affect\",\"law\",\"technology\",\"call\",\"6\",\"universities\",\"family\",\"marketing\",\"major\",\"actually\",\"favorite\",\"light\",\"bangalore\",\"woman\",\"because\",\"type\",\"program\",\"looking\",\"living\",\"open\",\"believe\",\"month\",\"able\",\"management\",\"travel\",\"degree\",\"show\",\"interesting\",\"score\",\"months\",\"series\",\"chinese\",\"development\",\"end\",\"code\",\"design\",\"per\",\"employees\",\"review\",\"clinton\",\"common\",\"kind\",\"internet\",\"song\",\"download\",\"course\",\"parents\",\"jobs\",\"such\",\"increase\",\"java\",\"god\",\"another\",\"united\",\"girlfriend\",\"mechanical\",\"always\",\"next\",\"never\",\"around\",\"tips\",\"mba\",\"myself\",\"hillary\",\"apply\",\"answer\",\"something\",\"considered\",\"making\",\"differences\",\"market\",\"compare\",\"great\",\"keep\",\"test\",\"s\",\"win\",\"against\",\"states\",\"earn\",\"youtube\",\"worth\",\"delhi\",\"energy\",\"laptop\",\"american\",\"lose\",\"each\",\"hard\",\"makes\",\"age\",\"ask\",\"safe\",\"body\",\"power\",\"salary\",\"4\",\"watch\",\"white\",\"windows\",\"instagram\",\"history\",\"pay\",\"every\",\"last\",\"create\",\"relationship\",\"music\",\"too\",\"meaning\",\"state\",\"average\",\"earth\",\"got\",\"process\",\"class\",\"tv\",\"eat\",\"done\",\"happens\",\"days\",\"big\",\"off\",\"improve\",\"future\",\"place\",\"man\",\"human\",\"government\",\"play\",\"countries\",\"food\",\"service\",\"students\",\"weight\",\"game\",\"engineer\",\"write\",\"very\",\"interview\",\"web\",\"tell\",\"social\",\"girls\",\"video\",\"look\",\"having\",\"guy\",\"home\",\"hair\",\"usa\",\"doesnt\",\"word\",\"bank\",\"friend\",\"true\",\"experience\",\"career\",\"president\",\"question\",\"own\",\"china\",\"come\",\"under\",\"working\",\"him\",\"doing\",\"donald\",\"friends\",\"right\",\"5\",\"cost\",\"mobile\",\"even\",\"movies\",\"then\",\"c\",\"\\u2019\",\"exam\",\"men\",\"learning\",\"card\",\"war\",\"read\",\"programming\",\"black\",\"anyone\",\"high\",\"10\",\"companies\",\"car\",\"getting\",\"give\",\"important\",\"questions\",\"cant\",\"iphone\",\"website\",\"top\",\"water\",\"prepare\",\"during\",\"real\",\"say\",\"system\",\"name\",\"through\",\"two\",\"1\",\"our\",\"study\",\"3\",\"university\",\"made\",\"back\",\"happen\",\"stop\",\"student\",\"sex\",\"bad\",\"language\",\"going\",\"same\",\"before\",\"software\",\"school\",\"live\",\"country\",\"android\",\"science\",\"help\",\"she\",\"see\",\"thing\",\"women\",\"over\",\"data\",\"examples\",\"computer\",\"had\",\"ways\",\"change\",\"while\",\"book\",\"english\",\"account\",\"still\",\"movie\",\"books\",\"2016\",\"facebook\",\"free\",\"number\",\"college\",\"app\",\"2\",\"just\",\"now\",\"no\",\"trump\",\"company\",\"only\",\"old\",\"been\",\"google\",\"phone\",\"long\",\"different\",\"girl\",\"his\",\"her\",\"years\",\"really\",\"them\",\"using\",\"business\",\"need\",\"being\",\"buy\",\"day\",\"person\",\"things\",\"possible\",\"could\",\"were\",\"its\",\"love\",\"engineering\",\"im\",\"used\",\"online\",\"go\",\"year\",\"he\",\"into\",\"feel\",\"dont\",\"first\",\"up\"]]]}}},\"view\":{\"type\":\"object\",\"name\":\"CDSView\",\"id\":\"p1045\",\"attributes\":{\"filter\":{\"type\":\"object\",\"name\":\"AllIndices\",\"id\":\"p1046\"}}},\"glyph\":{\"type\":\"object\",\"name\":\"Scatter\",\"id\":\"p1041\",\"attributes\":{\"x\":{\"type\":\"field\",\"field\":\"x\"},\"y\":{\"type\":\"field\",\"field\":\"y\"},\"size\":{\"type\":\"value\",\"value\":10},\"line_color\":{\"type\":\"field\",\"field\":\"color\"},\"line_alpha\":{\"type\":\"value\",\"value\":0.25},\"fill_color\":{\"type\":\"field\",\"field\":\"color\"},\"fill_alpha\":{\"type\":\"value\",\"value\":0.25},\"hatch_color\":{\"type\":\"field\",\"field\":\"color\"},\"hatch_alpha\":{\"type\":\"value\",\"value\":0.25}}},\"nonselection_glyph\":{\"type\":\"object\",\"name\":\"Scatter\",\"id\":\"p1042\",\"attributes\":{\"x\":{\"type\":\"field\",\"field\":\"x\"},\"y\":{\"type\":\"field\",\"field\":\"y\"},\"size\":{\"type\":\"value\",\"value\":10},\"line_color\":{\"type\":\"field\",\"field\":\"color\"},\"line_alpha\":{\"type\":\"value\",\"value\":0.1},\"fill_color\":{\"type\":\"field\",\"field\":\"color\"},\"fill_alpha\":{\"type\":\"value\",\"value\":0.1},\"hatch_color\":{\"type\":\"field\",\"field\":\"color\"},\"hatch_alpha\":{\"type\":\"value\",\"value\":0.1}}},\"muted_glyph\":{\"type\":\"object\",\"name\":\"Scatter\",\"id\":\"p1043\",\"attributes\":{\"x\":{\"type\":\"field\",\"field\":\"x\"},\"y\":{\"type\":\"field\",\"field\":\"y\"},\"size\":{\"type\":\"value\",\"value\":10},\"line_color\":{\"type\":\"field\",\"field\":\"color\"},\"line_alpha\":{\"type\":\"value\",\"value\":0.2},\"fill_color\":{\"type\":\"field\",\"field\":\"color\"},\"fill_alpha\":{\"type\":\"value\",\"value\":0.2},\"hatch_color\":{\"type\":\"field\",\"field\":\"color\"},\"hatch_alpha\":{\"type\":\"value\",\"value\":0.2}}}}}],\"toolbar\":{\"type\":\"object\",\"name\":\"Toolbar\",\"id\":\"p1012\",\"attributes\":{\"tools\":[{\"type\":\"object\",\"name\":\"PanTool\",\"id\":\"p1025\"},{\"type\":\"object\",\"name\":\"WheelZoomTool\",\"id\":\"p1026\",\"attributes\":{\"renderers\":\"auto\"}},{\"type\":\"object\",\"name\":\"BoxZoomTool\",\"id\":\"p1027\",\"attributes\":{\"overlay\":{\"type\":\"object\",\"name\":\"BoxAnnotation\",\"id\":\"p1028\",\"attributes\":{\"syncable\":false,\"line_color\":\"black\",\"line_alpha\":1.0,\"line_width\":2,\"line_dash\":[4,4],\"fill_color\":\"lightgrey\",\"fill_alpha\":0.5,\"level\":\"overlay\",\"visible\":false,\"left\":{\"type\":\"number\",\"value\":\"nan\"},\"right\":{\"type\":\"number\",\"value\":\"nan\"},\"top\":{\"type\":\"number\",\"value\":\"nan\"},\"bottom\":{\"type\":\"number\",\"value\":\"nan\"},\"left_units\":\"canvas\",\"right_units\":\"canvas\",\"top_units\":\"canvas\",\"bottom_units\":\"canvas\",\"handles\":{\"type\":\"object\",\"name\":\"BoxInteractionHandles\",\"id\":\"p1034\",\"attributes\":{\"all\":{\"type\":\"object\",\"name\":\"AreaVisuals\",\"id\":\"p1033\",\"attributes\":{\"fill_color\":\"white\",\"hover_fill_color\":\"lightgray\"}}}}}}}},{\"type\":\"object\",\"name\":\"SaveTool\",\"id\":\"p1035\"},{\"type\":\"object\",\"name\":\"ResetTool\",\"id\":\"p1036\"},{\"type\":\"object\",\"name\":\"HelpTool\",\"id\":\"p1037\"},{\"type\":\"object\",\"name\":\"HoverTool\",\"id\":\"p1047\",\"attributes\":{\"renderers\":\"auto\",\"tooltips\":[[\"token\",\"@token\"]]}}],\"active_scroll\":{\"id\":\"p1026\"}}},\"left\":[{\"type\":\"object\",\"name\":\"LinearAxis\",\"id\":\"p1020\",\"attributes\":{\"ticker\":{\"type\":\"object\",\"name\":\"BasicTicker\",\"id\":\"p1021\",\"attributes\":{\"mantissas\":[1,2,5]}},\"formatter\":{\"type\":\"object\",\"name\":\"BasicTickFormatter\",\"id\":\"p1022\"},\"major_label_policy\":{\"type\":\"object\",\"name\":\"AllLabels\",\"id\":\"p1023\"}}}],\"below\":[{\"type\":\"object\",\"name\":\"LinearAxis\",\"id\":\"p1015\",\"attributes\":{\"ticker\":{\"type\":\"object\",\"name\":\"BasicTicker\",\"id\":\"p1016\",\"attributes\":{\"mantissas\":[1,2,5]}},\"formatter\":{\"type\":\"object\",\"name\":\"BasicTickFormatter\",\"id\":\"p1017\"},\"major_label_policy\":{\"type\":\"object\",\"name\":\"AllLabels\",\"id\":\"p1018\"}}}],\"center\":[{\"type\":\"object\",\"name\":\"Grid\",\"id\":\"p1019\",\"attributes\":{\"axis\":{\"id\":\"p1015\"}}},{\"type\":\"object\",\"name\":\"Grid\",\"id\":\"p1024\",\"attributes\":{\"dimension\":1,\"axis\":{\"id\":\"p1020\"}}}]}}]}};\n",
       "  const render_items = [{\"docid\":\"a41aeada-85f7-4ca6-bda3-3799a207da77\",\"roots\":{\"p1004\":\"ffe2a94c-363c-42cd-b7e8-e60ba8289a88\"},\"root_ids\":[\"p1004\"]}];\n",
       "  void root.Bokeh.embed.embed_items_notebook(docs_json, render_items);\n",
       "  }\n",
       "  if (root.Bokeh !== undefined) {\n",
       "    embed_document(root);\n",
       "  } else {\n",
       "    let attempts = 0;\n",
       "    const timer = setInterval(function(root) {\n",
       "      if (root.Bokeh !== undefined) {\n",
       "        clearInterval(timer);\n",
       "        embed_document(root);\n",
       "      } else {\n",
       "        attempts++;\n",
       "        if (attempts > 100) {\n",
       "          clearInterval(timer);\n",
       "          console.log(\"Bokeh: ERROR: Unable to run BokehJS code because BokehJS library is missing\");\n",
       "        }\n",
       "      }\n",
       "    }, 10, root)\n",
       "  }\n",
       "})(window);"
      ],
      "application/vnd.bokehjs_exec.v0+json": ""
     },
     "metadata": {
      "application/vnd.bokehjs_exec.v0+json": {
       "id": "p1004"
      }
     },
     "output_type": "display_data"
    },
    {
     "data": {
      "text/html": [
       "<div style=\"display: table;\"><div style=\"display: table-row;\"><div style=\"display: table-cell;\"><b title=\"bokeh.plotting._figure.figure\">figure</b>(</div><div style=\"display: table-cell;\">id&nbsp;=&nbsp;'p1004', <span id=\"p1051\" style=\"cursor: pointer;\">&hellip;)</span></div></div><div class=\"p1050\" style=\"display: none;\"><div style=\"display: table-cell;\"></div><div style=\"display: table-cell;\">above&nbsp;=&nbsp;[],</div></div><div class=\"p1050\" style=\"display: none;\"><div style=\"display: table-cell;\"></div><div style=\"display: table-cell;\">align&nbsp;=&nbsp;'auto',</div></div><div class=\"p1050\" style=\"display: none;\"><div style=\"display: table-cell;\"></div><div style=\"display: table-cell;\">aspect_ratio&nbsp;=&nbsp;None,</div></div><div class=\"p1050\" style=\"display: none;\"><div style=\"display: table-cell;\"></div><div style=\"display: table-cell;\">aspect_scale&nbsp;=&nbsp;1,</div></div><div class=\"p1050\" style=\"display: none;\"><div style=\"display: table-cell;\"></div><div style=\"display: table-cell;\">attribution&nbsp;=&nbsp;[],</div></div><div class=\"p1050\" style=\"display: none;\"><div style=\"display: table-cell;\"></div><div style=\"display: table-cell;\">background_fill_alpha&nbsp;=&nbsp;1.0,</div></div><div class=\"p1050\" style=\"display: none;\"><div style=\"display: table-cell;\"></div><div style=\"display: table-cell;\">background_fill_color&nbsp;=&nbsp;'#ffffff',</div></div><div class=\"p1050\" style=\"display: none;\"><div style=\"display: table-cell;\"></div><div style=\"display: table-cell;\">below&nbsp;=&nbsp;[LinearAxis(id='p1015', ...)],</div></div><div class=\"p1050\" style=\"display: none;\"><div style=\"display: table-cell;\"></div><div style=\"display: table-cell;\">border_fill_alpha&nbsp;=&nbsp;1.0,</div></div><div class=\"p1050\" style=\"display: none;\"><div style=\"display: table-cell;\"></div><div style=\"display: table-cell;\">border_fill_color&nbsp;=&nbsp;'#ffffff',</div></div><div class=\"p1050\" style=\"display: none;\"><div style=\"display: table-cell;\"></div><div style=\"display: table-cell;\">center&nbsp;=&nbsp;[Grid(id='p1019', ...), Grid(id='p1024', ...)],</div></div><div class=\"p1050\" style=\"display: none;\"><div style=\"display: table-cell;\"></div><div style=\"display: table-cell;\">context_menu&nbsp;=&nbsp;None,</div></div><div class=\"p1050\" style=\"display: none;\"><div style=\"display: table-cell;\"></div><div style=\"display: table-cell;\">css_classes&nbsp;=&nbsp;[],</div></div><div class=\"p1050\" style=\"display: none;\"><div style=\"display: table-cell;\"></div><div style=\"display: table-cell;\">css_variables&nbsp;=&nbsp;{},</div></div><div class=\"p1050\" style=\"display: none;\"><div style=\"display: table-cell;\"></div><div style=\"display: table-cell;\">disabled&nbsp;=&nbsp;False,</div></div><div class=\"p1050\" style=\"display: none;\"><div style=\"display: table-cell;\"></div><div style=\"display: table-cell;\">elements&nbsp;=&nbsp;[],</div></div><div class=\"p1050\" style=\"display: none;\"><div style=\"display: table-cell;\"></div><div style=\"display: table-cell;\">extra_x_ranges&nbsp;=&nbsp;{},</div></div><div class=\"p1050\" style=\"display: none;\"><div style=\"display: table-cell;\"></div><div style=\"display: table-cell;\">extra_x_scales&nbsp;=&nbsp;{},</div></div><div class=\"p1050\" style=\"display: none;\"><div style=\"display: table-cell;\"></div><div style=\"display: table-cell;\">extra_y_ranges&nbsp;=&nbsp;{},</div></div><div class=\"p1050\" style=\"display: none;\"><div style=\"display: table-cell;\"></div><div style=\"display: table-cell;\">extra_y_scales&nbsp;=&nbsp;{},</div></div><div class=\"p1050\" style=\"display: none;\"><div style=\"display: table-cell;\"></div><div style=\"display: table-cell;\">flow_mode&nbsp;=&nbsp;'block',</div></div><div class=\"p1050\" style=\"display: none;\"><div style=\"display: table-cell;\"></div><div style=\"display: table-cell;\">frame_align&nbsp;=&nbsp;True,</div></div><div class=\"p1050\" style=\"display: none;\"><div style=\"display: table-cell;\"></div><div style=\"display: table-cell;\">frame_height&nbsp;=&nbsp;None,</div></div><div class=\"p1050\" style=\"display: none;\"><div style=\"display: table-cell;\"></div><div style=\"display: table-cell;\">frame_width&nbsp;=&nbsp;None,</div></div><div class=\"p1050\" style=\"display: none;\"><div style=\"display: table-cell;\"></div><div style=\"display: table-cell;\">height&nbsp;=&nbsp;400,</div></div><div class=\"p1050\" style=\"display: none;\"><div style=\"display: table-cell;\"></div><div style=\"display: table-cell;\">height_policy&nbsp;=&nbsp;'auto',</div></div><div class=\"p1050\" style=\"display: none;\"><div style=\"display: table-cell;\"></div><div style=\"display: table-cell;\">hidpi&nbsp;=&nbsp;True,</div></div><div class=\"p1050\" style=\"display: none;\"><div style=\"display: table-cell;\"></div><div style=\"display: table-cell;\">hold_render&nbsp;=&nbsp;False,</div></div><div class=\"p1050\" style=\"display: none;\"><div style=\"display: table-cell;\"></div><div style=\"display: table-cell;\">js_event_callbacks&nbsp;=&nbsp;{},</div></div><div class=\"p1050\" style=\"display: none;\"><div style=\"display: table-cell;\"></div><div style=\"display: table-cell;\">js_property_callbacks&nbsp;=&nbsp;{},</div></div><div class=\"p1050\" style=\"display: none;\"><div style=\"display: table-cell;\"></div><div style=\"display: table-cell;\">left&nbsp;=&nbsp;[LinearAxis(id='p1020', ...)],</div></div><div class=\"p1050\" style=\"display: none;\"><div style=\"display: table-cell;\"></div><div style=\"display: table-cell;\">lod_factor&nbsp;=&nbsp;10,</div></div><div class=\"p1050\" style=\"display: none;\"><div style=\"display: table-cell;\"></div><div style=\"display: table-cell;\">lod_interval&nbsp;=&nbsp;300,</div></div><div class=\"p1050\" style=\"display: none;\"><div style=\"display: table-cell;\"></div><div style=\"display: table-cell;\">lod_threshold&nbsp;=&nbsp;2000,</div></div><div class=\"p1050\" style=\"display: none;\"><div style=\"display: table-cell;\"></div><div style=\"display: table-cell;\">lod_timeout&nbsp;=&nbsp;500,</div></div><div class=\"p1050\" style=\"display: none;\"><div style=\"display: table-cell;\"></div><div style=\"display: table-cell;\">margin&nbsp;=&nbsp;None,</div></div><div class=\"p1050\" style=\"display: none;\"><div style=\"display: table-cell;\"></div><div style=\"display: table-cell;\">match_aspect&nbsp;=&nbsp;False,</div></div><div class=\"p1050\" style=\"display: none;\"><div style=\"display: table-cell;\"></div><div style=\"display: table-cell;\">max_height&nbsp;=&nbsp;None,</div></div><div class=\"p1050\" style=\"display: none;\"><div style=\"display: table-cell;\"></div><div style=\"display: table-cell;\">max_width&nbsp;=&nbsp;None,</div></div><div class=\"p1050\" style=\"display: none;\"><div style=\"display: table-cell;\"></div><div style=\"display: table-cell;\">min_border&nbsp;=&nbsp;5,</div></div><div class=\"p1050\" style=\"display: none;\"><div style=\"display: table-cell;\"></div><div style=\"display: table-cell;\">min_border_bottom&nbsp;=&nbsp;None,</div></div><div class=\"p1050\" style=\"display: none;\"><div style=\"display: table-cell;\"></div><div style=\"display: table-cell;\">min_border_left&nbsp;=&nbsp;None,</div></div><div class=\"p1050\" style=\"display: none;\"><div style=\"display: table-cell;\"></div><div style=\"display: table-cell;\">min_border_right&nbsp;=&nbsp;None,</div></div><div class=\"p1050\" style=\"display: none;\"><div style=\"display: table-cell;\"></div><div style=\"display: table-cell;\">min_border_top&nbsp;=&nbsp;None,</div></div><div class=\"p1050\" style=\"display: none;\"><div style=\"display: table-cell;\"></div><div style=\"display: table-cell;\">min_height&nbsp;=&nbsp;None,</div></div><div class=\"p1050\" style=\"display: none;\"><div style=\"display: table-cell;\"></div><div style=\"display: table-cell;\">min_width&nbsp;=&nbsp;None,</div></div><div class=\"p1050\" style=\"display: none;\"><div style=\"display: table-cell;\"></div><div style=\"display: table-cell;\">name&nbsp;=&nbsp;None,</div></div><div class=\"p1050\" style=\"display: none;\"><div style=\"display: table-cell;\"></div><div style=\"display: table-cell;\">outline_line_alpha&nbsp;=&nbsp;1.0,</div></div><div class=\"p1050\" style=\"display: none;\"><div style=\"display: table-cell;\"></div><div style=\"display: table-cell;\">outline_line_cap&nbsp;=&nbsp;'butt',</div></div><div class=\"p1050\" style=\"display: none;\"><div style=\"display: table-cell;\"></div><div style=\"display: table-cell;\">outline_line_color&nbsp;=&nbsp;'#e5e5e5',</div></div><div class=\"p1050\" style=\"display: none;\"><div style=\"display: table-cell;\"></div><div style=\"display: table-cell;\">outline_line_dash&nbsp;=&nbsp;[],</div></div><div class=\"p1050\" style=\"display: none;\"><div style=\"display: table-cell;\"></div><div style=\"display: table-cell;\">outline_line_dash_offset&nbsp;=&nbsp;0,</div></div><div class=\"p1050\" style=\"display: none;\"><div style=\"display: table-cell;\"></div><div style=\"display: table-cell;\">outline_line_join&nbsp;=&nbsp;'bevel',</div></div><div class=\"p1050\" style=\"display: none;\"><div style=\"display: table-cell;\"></div><div style=\"display: table-cell;\">outline_line_width&nbsp;=&nbsp;1,</div></div><div class=\"p1050\" style=\"display: none;\"><div style=\"display: table-cell;\"></div><div style=\"display: table-cell;\">output_backend&nbsp;=&nbsp;'canvas',</div></div><div class=\"p1050\" style=\"display: none;\"><div style=\"display: table-cell;\"></div><div style=\"display: table-cell;\">renderers&nbsp;=&nbsp;[GlyphRenderer(id='p1044', ...)],</div></div><div class=\"p1050\" style=\"display: none;\"><div style=\"display: table-cell;\"></div><div style=\"display: table-cell;\">reset_policy&nbsp;=&nbsp;'standard',</div></div><div class=\"p1050\" style=\"display: none;\"><div style=\"display: table-cell;\"></div><div style=\"display: table-cell;\">resizable&nbsp;=&nbsp;False,</div></div><div class=\"p1050\" style=\"display: none;\"><div style=\"display: table-cell;\"></div><div style=\"display: table-cell;\">right&nbsp;=&nbsp;[],</div></div><div class=\"p1050\" style=\"display: none;\"><div style=\"display: table-cell;\"></div><div style=\"display: table-cell;\">sizing_mode&nbsp;=&nbsp;None,</div></div><div class=\"p1050\" style=\"display: none;\"><div style=\"display: table-cell;\"></div><div style=\"display: table-cell;\">styles&nbsp;=&nbsp;{},</div></div><div class=\"p1050\" style=\"display: none;\"><div style=\"display: table-cell;\"></div><div style=\"display: table-cell;\">stylesheets&nbsp;=&nbsp;[],</div></div><div class=\"p1050\" style=\"display: none;\"><div style=\"display: table-cell;\"></div><div style=\"display: table-cell;\">subscribed_events&nbsp;=&nbsp;PropertyValueSet(),</div></div><div class=\"p1050\" style=\"display: none;\"><div style=\"display: table-cell;\"></div><div style=\"display: table-cell;\">syncable&nbsp;=&nbsp;True,</div></div><div class=\"p1050\" style=\"display: none;\"><div style=\"display: table-cell;\"></div><div style=\"display: table-cell;\">tags&nbsp;=&nbsp;[],</div></div><div class=\"p1050\" style=\"display: none;\"><div style=\"display: table-cell;\"></div><div style=\"display: table-cell;\">title&nbsp;=&nbsp;Title(id='p1011', ...),</div></div><div class=\"p1050\" style=\"display: none;\"><div style=\"display: table-cell;\"></div><div style=\"display: table-cell;\">title_location&nbsp;=&nbsp;'above',</div></div><div class=\"p1050\" style=\"display: none;\"><div style=\"display: table-cell;\"></div><div style=\"display: table-cell;\">toolbar&nbsp;=&nbsp;Toolbar(id='p1012', ...),</div></div><div class=\"p1050\" style=\"display: none;\"><div style=\"display: table-cell;\"></div><div style=\"display: table-cell;\">toolbar_inner&nbsp;=&nbsp;False,</div></div><div class=\"p1050\" style=\"display: none;\"><div style=\"display: table-cell;\"></div><div style=\"display: table-cell;\">toolbar_location&nbsp;=&nbsp;'right',</div></div><div class=\"p1050\" style=\"display: none;\"><div style=\"display: table-cell;\"></div><div style=\"display: table-cell;\">toolbar_sticky&nbsp;=&nbsp;True,</div></div><div class=\"p1050\" style=\"display: none;\"><div style=\"display: table-cell;\"></div><div style=\"display: table-cell;\">visible&nbsp;=&nbsp;True,</div></div><div class=\"p1050\" style=\"display: none;\"><div style=\"display: table-cell;\"></div><div style=\"display: table-cell;\">width&nbsp;=&nbsp;600,</div></div><div class=\"p1050\" style=\"display: none;\"><div style=\"display: table-cell;\"></div><div style=\"display: table-cell;\">width_policy&nbsp;=&nbsp;'auto',</div></div><div class=\"p1050\" style=\"display: none;\"><div style=\"display: table-cell;\"></div><div style=\"display: table-cell;\">x_range&nbsp;=&nbsp;DataRange1d(id='p1005', ...),</div></div><div class=\"p1050\" style=\"display: none;\"><div style=\"display: table-cell;\"></div><div style=\"display: table-cell;\">x_scale&nbsp;=&nbsp;LinearScale(id='p1013', ...),</div></div><div class=\"p1050\" style=\"display: none;\"><div style=\"display: table-cell;\"></div><div style=\"display: table-cell;\">y_range&nbsp;=&nbsp;DataRange1d(id='p1006', ...),</div></div><div class=\"p1050\" style=\"display: none;\"><div style=\"display: table-cell;\"></div><div style=\"display: table-cell;\">y_scale&nbsp;=&nbsp;LinearScale(id='p1014', ...))</div></div></div>\n",
       "<script>\n",
       "(function() {\n",
       "  let expanded = false;\n",
       "  const ellipsis = document.getElementById(\"p1051\");\n",
       "  ellipsis.addEventListener(\"click\", function() {\n",
       "    const rows = document.getElementsByClassName(\"p1050\");\n",
       "    for (let i = 0; i < rows.length; i++) {\n",
       "      const el = rows[i];\n",
       "      el.style.display = expanded ? \"none\" : \"table-row\";\n",
       "    }\n",
       "    ellipsis.innerHTML = expanded ? \"&hellip;)\" : \"&lsaquo;&lsaquo;&lsaquo;\";\n",
       "    expanded = !expanded;\n",
       "  });\n",
       "})();\n",
       "</script>\n"
      ],
      "text/plain": [
       "figure(id='p1004', ...)"
      ]
     },
     "execution_count": 34,
     "metadata": {},
     "output_type": "execute_result"
    }
   ],
   "source": [
    "draw_vectors(embedding[:, 0], embedding[:, 1], token=top_words)"
   ]
  },
  {
   "cell_type": "markdown",
   "metadata": {},
   "source": [
    "Для сдачи задания необходимо загрузить функции `subsample_frequent_words` и `get_negative_sampling_prob`, а также сгенерировать файл для посылки ниже и приложить в соответствующую задачу. Успехов!"
   ]
  },
  {
   "cell_type": "code",
   "execution_count": 35,
   "metadata": {},
   "outputs": [
    {
     "name": "stdout",
     "output_type": "stream",
     "text": [
      "File saved to `submission_dict.json`\n"
     ]
    }
   ],
   "source": [
    "# do not change the code in the block below\n",
    "# __________start of block__________\n",
    "import os\n",
    "import json\n",
    "\n",
    "assert os.path.exists(\n",
    "    \"words_subset.txt\"\n",
    "), \"Please, download `words_subset.txt` and place it in the working directory\"\n",
    "\n",
    "with open(\"words_subset.txt\") as iofile:\n",
    "    selected_words = iofile.read().split(\"\\n\")\n",
    "\n",
    "\n",
    "def get_matrix_for_selected_words(selected_words, embedding_matrix, word_to_index):\n",
    "    word_vectors = []\n",
    "    for word in selected_words:\n",
    "        index = word_to_index.get(word, None)\n",
    "        vector = [0.0] * embedding_matrix.shape[1]\n",
    "        if index is not None:\n",
    "            vector = embedding_matrix[index].numpy().tolist()\n",
    "        word_vectors.append(vector)\n",
    "    return word_vectors\n",
    "\n",
    "\n",
    "word_vectors = get_matrix_for_selected_words(\n",
    "    selected_words, embedding_matrix_context, word_to_index\n",
    ")\n",
    "\n",
    "with open(\"submission_dict.json\", \"w\") as iofile:\n",
    "    json.dump(word_vectors, iofile)\n",
    "print(\"File saved to `submission_dict.json`\")\n",
    "# __________end of block__________"
   ]
  },
  {
   "cell_type": "code",
   "execution_count": null,
   "metadata": {},
   "outputs": [],
   "source": []
  }
 ],
 "metadata": {
  "colab": {
   "provenance": []
  },
  "kernelspec": {
   "display_name": "Python 3 (ipykernel)",
   "language": "python",
   "name": "python3"
  },
  "language_info": {
   "codemirror_mode": {
    "name": "ipython",
    "version": 3
   },
   "file_extension": ".py",
   "mimetype": "text/x-python",
   "name": "python",
   "nbconvert_exporter": "python",
   "pygments_lexer": "ipython3",
   "version": "3.12.0"
  }
 },
 "nbformat": 4,
 "nbformat_minor": 4
}
